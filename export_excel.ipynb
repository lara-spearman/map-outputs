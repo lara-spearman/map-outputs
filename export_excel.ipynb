{
 "cells": [
  {
   "cell_type": "code",
   "execution_count": 28,
   "id": "93c4f885",
   "metadata": {},
   "outputs": [],
   "source": [
    "from jinja2 import Environment, FileSystemLoader\n",
    "import pandas as pd\n",
    "import geopandas as gpd\n",
    "pd.options.display.float_format = '{:,.1f}'.format\n",
    "import plotly.express as px\n",
    "from pathlib import Path\n",
    "import os"
   ]
  },
  {
   "cell_type": "code",
   "execution_count": 29,
   "id": "564d8f63",
   "metadata": {},
   "outputs": [],
   "source": [
    "pc = \"Devizes\""
   ]
  },
  {
   "cell_type": "code",
   "execution_count": 30,
   "id": "61ea0450",
   "metadata": {},
   "outputs": [],
   "source": [
    "# Get current working directory\n",
    "cwd = Path.cwd()\n",
    "\n",
    "output_folder = f\"{cwd}/../Jobs/\""
   ]
  },
  {
   "cell_type": "code",
   "execution_count": 31,
   "id": "77e86551",
   "metadata": {},
   "outputs": [],
   "source": [
    "gdf = gpd.read_file(\"G:/OS_OpenData/OS_BoundaryLine/OS_BL_Parish_Wilts.shp\")"
   ]
  },
  {
   "cell_type": "code",
   "execution_count": 32,
   "id": "68a24253",
   "metadata": {},
   "outputs": [],
   "source": [
    "# Create rank for PC area\n",
    "gdf['AreaPC'] = gdf['HECTARES']\n",
    "df_pc_sorted = gdf.sort_values(by = \"AreaPC\", ascending=False)\n",
    "df_pc_sorted['rankArea'] = list(range(1, df_pc_sorted.shape[0]+1))"
   ]
  },
  {
   "cell_type": "code",
   "execution_count": 33,
   "id": "d6660d82",
   "metadata": {},
   "outputs": [],
   "source": [
    "dfpc = df_pc_sorted[df_pc_sorted.NAME == pc]\n",
    "pcAreaRank =dfpc['rankArea'].item()"
   ]
  },
  {
   "cell_type": "code",
   "execution_count": 34,
   "id": "0fc41b75",
   "metadata": {},
   "outputs": [],
   "source": [
    "df = pd.read_csv(\"data/outputClippedData.csv\")\n",
    "\n",
    "\n",
    "df_pc = df[df.NAME == pc]"
   ]
  },
  {
   "cell_type": "code",
   "execution_count": 35,
   "id": "cc8d6696",
   "metadata": {},
   "outputs": [],
   "source": [
    "df_top_ten =  df[df['rank']<=10]\n",
    "df_top_ten.to_csv(\"data/topTen.csv\", index=False)"
   ]
  },
  {
   "cell_type": "code",
   "execution_count": 36,
   "id": "f00308fa",
   "metadata": {},
   "outputs": [],
   "source": [
    "df_pc_renamed = df_pc.rename(columns={\"groupColumnValue\":df_pc.groupColumnName.iloc[0],\n",
    "                      #\"value\":f\"{df_pc.unitName.iloc[0]} ({df_pc.unit.iloc[0]})\",\n",
    "                      \"valuePercent\": \"Percentage of PC\",\n",
    "                       \"rank\": \"PC area rank\"})"
   ]
  },
  {
   "cell_type": "code",
   "execution_count": 37,
   "id": "c66b0ab2",
   "metadata": {},
   "outputs": [],
   "source": [
    "df_pc_renamed = df_pc_renamed.drop(columns = [\"mapName\",\"Unnamed: 0\", \"AreaPC\",\"groupColumnName\",  \"rankPercent\"])# "
   ]
  },
  {
   "cell_type": "code",
   "execution_count": 38,
   "id": "c9069d6a",
   "metadata": {},
   "outputs": [],
   "source": [
    "df_pc_renamed = df_pc_renamed[['NAME', 'datasetName', df_pc.groupColumnName.iloc[0],'value','unitName', 'unit','Percentage of PC',\"PC area rank\",'source','mapGroup']]"
   ]
  },
  {
   "cell_type": "code",
   "execution_count": 40,
   "id": "3614037a",
   "metadata": {},
   "outputs": [],
   "source": [
    "#Create folder if not already there\n",
    "if not os.path.exists(f\"{output_folder}{pc}\"):\n",
    "    os.makedirs(f\"{output_folder}{pc}\")\n",
    "\n",
    "# Write out to excel, with each grouping on a new sheet\n",
    "with pd.ExcelWriter(f'{output_folder}{pc}/{pc}_outputReport.xlsx') as writer: \n",
    "    for group in df_pc_renamed.mapGroup.unique():\n",
    "        mapGroup_df = df_pc_renamed[df_pc_renamed.mapGroup == group]\n",
    "        \n",
    "        mapGroup_df.to_excel(writer, sheet_name=group, index = False)\n",
    "       "
   ]
  }
 ],
 "metadata": {
  "kernelspec": {
   "display_name": "neighbourhood-plan",
   "language": "python",
   "name": "neighbourhood-plan"
  },
  "language_info": {
   "codemirror_mode": {
    "name": "ipython",
    "version": 3
   },
   "file_extension": ".py",
   "mimetype": "text/x-python",
   "name": "python",
   "nbconvert_exporter": "python",
   "pygments_lexer": "ipython3",
   "version": "3.13.7"
  }
 },
 "nbformat": 4,
 "nbformat_minor": 5
}
