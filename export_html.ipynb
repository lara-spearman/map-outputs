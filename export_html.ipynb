{
 "cells": [
  {
   "cell_type": "code",
   "execution_count": 1,
   "id": "93c4f885",
   "metadata": {},
   "outputs": [],
   "source": [
    "from jinja2 import Environment, FileSystemLoader\n",
    "import pandas as pd\n",
    "import geopandas as gpd\n",
    "pd.options.display.float_format = '{:,.1f}'.format\n",
    "import plotly.express as px\n",
    "from pathlib import Path\n",
    "import os"
   ]
  },
  {
   "cell_type": "code",
   "execution_count": 2,
   "id": "61ea0450",
   "metadata": {},
   "outputs": [],
   "source": [
    "pc = \"Devizes\"\n",
    "\n",
    "# Get current working directory\n",
    "cwd = Path.cwd()\n",
    "\n",
    "output_folder = f\"{cwd}/../../../Jobs/\""
   ]
  },
  {
   "cell_type": "code",
   "execution_count": 3,
   "id": "77e86551",
   "metadata": {},
   "outputs": [],
   "source": [
    "gdf = gpd.read_file(\"G:/OS_OpenData/OS_BoundaryLine/OS_BL_Parish_Wilts.shp\")"
   ]
  },
  {
   "cell_type": "code",
   "execution_count": 4,
   "id": "68a24253",
   "metadata": {},
   "outputs": [],
   "source": [
    "# Create rank for PC area\n",
    "gdf['AreaPC'] = gdf['HECTARES']\n",
    "df_pc_sorted = gdf.sort_values(by = \"AreaPC\", ascending=False)\n",
    "df_pc_sorted['rankArea'] = list(range(1, df_pc_sorted.shape[0]+1))"
   ]
  },
  {
   "cell_type": "code",
   "execution_count": 5,
   "id": "d6660d82",
   "metadata": {},
   "outputs": [],
   "source": [
    "dfpc = df_pc_sorted[df_pc_sorted.NAME == pc]\n",
    "pcAreaRank =dfpc['rankArea'].item()"
   ]
  },
  {
   "cell_type": "code",
   "execution_count": 6,
   "id": "d1b2c890",
   "metadata": {},
   "outputs": [],
   "source": [
    "# Filter datasets to pc\n",
    "df = pd.read_csv(\"data/outputClippedData.csv\")\n",
    "df_pc = df[df.NAME == pc]\n",
    "pcAreaHa = df_pc['AreaPC'].iloc[0].astype(int)"
   ]
  },
  {
   "cell_type": "code",
   "execution_count": 7,
   "id": "cc8d6696",
   "metadata": {},
   "outputs": [],
   "source": [
    "# Select only items ranked higher than 10 for highlights boxes\n",
    "df_top_ten =  df[df['rank']<=10]\n",
    "df_top_ten.to_csv(\"data/topTen.csv\", index=False)"
   ]
  },
  {
   "cell_type": "code",
   "execution_count": 8,
   "id": "845d278d",
   "metadata": {},
   "outputs": [],
   "source": [
    "# Select only items ranked higher than 10 for highlights boxes\n",
    "df_pc_sorted = df_pc.sort_values(by = \"rank\", ascending=True)\n",
    "df_pc_filter = df_pc_sorted[df_pc_sorted['rank']<=10]\n",
    "\n",
    "# Select datasets you want to show in highlights boxes\n",
    "df_pc_filter = df_pc_filter[df_pc_filter.datasetName.isin(['Long-Established Woodland and Wood Pasture','National Forest Inventory','Greenspace','PHI','WSBRC Priority Habitats'])]\n"
   ]
  },
  {
   "cell_type": "code",
   "execution_count": 9,
   "id": "b9a8443f",
   "metadata": {},
   "outputs": [
    {
     "name": "stdout",
     "output_type": "stream",
     "text": [
      "Landscape Character Areas\n",
      "Landscape Character Areas\n",
      "Landscape Character Areas\n",
      "Landscape Character Areas\n",
      "Landscape Character Areas\n",
      "Landscape Character Areas\n",
      "Landscape Character Areas\n",
      "Landscape Character Areas\n",
      "Landscape Character Areas\n"
     ]
    }
   ],
   "source": [
    "# Create dictionary to store all information for output\n",
    "table_dict = {}\n",
    "for category in df_pc.mapGroup:\n",
    "    dataset_dict = {}\n",
    "    df_pc_category =  df_pc[df_pc.mapGroup == category]\n",
    "    \n",
    "    for dataset in df_pc_category.datasetName:\n",
    "        if df_pc_category.shape[0] >0:\n",
    "            print(dataset)\n",
    "            df_pc_filter_dataset = df_pc_category[df_pc_category.datasetName == dataset]\n",
    "            # Check if dataset is an area, and if it is, include the value percent\n",
    "            if df_pc_filter_dataset['unit'].iloc[0] == \"Ha\":\n",
    "                df_small = df_pc_filter_dataset[['groupColumnValue','value', 'valuePercent']]\n",
    "                \n",
    "                df_small = df_small.rename(columns = {'groupColumnValue':df_pc_filter_dataset['groupColumnName'].iloc[0],\n",
    "                                                    \"value\":df_pc_filter_dataset['unit'].iloc[0],\n",
    "                                                    \"valuePercent\":\"Percentage of PC\"})\n",
    "            # If dataset in metres or count, do not include valuePercent as is not relevant\n",
    "            elif df_pc_filter_dataset['unitName'].iloc[0].lower() == \"length\" or df_pc_filter_dataset['unitName'].iloc[0].lower() == \"count\" :\n",
    "                df_small = df_pc_filter_dataset[['groupColumnValue','value']]\n",
    "                \n",
    "                df_small = df_small.rename(columns = {'groupColumnValue':df_pc_filter_dataset['groupColumnName'].iloc[0],\n",
    "                                                    \"value\":df_pc_filter_dataset['unit'].iloc[0]})\n",
    "                \n",
    "            # Check if column value has only one item, and if so, do not include figure as no point showing on graph\n",
    "            if df_small[df_pc_filter_dataset['groupColumnName'].iloc[0]].unique().shape[0]==1:\n",
    "                if df_pc_filter_dataset['groupColumnName'].iloc[0]== \"Total\":\n",
    "                    dataset_dict[dataset] = {\"table\":\"\",\n",
    "                                        \"fig\":\"\",\n",
    "                                        \"text\": f\"There is a total of {df_pc_filter_dataset['value'].values[0]} {df_pc_filter_dataset['unit'].values[0]} \",\n",
    "                                        }\n",
    "                else:\n",
    "                    dataset_dict[dataset] = {\"table\":\"\",\n",
    "                                        \"fig\":\"\",\n",
    "                                        \"text\":f\"There is {df_pc_filter_dataset['value'].values[0]} {df_pc_filter_dataset['unit'].values[0]} of  {df_pc_filter_dataset['groupColumnValue'].values[0]}\"\n",
    "                                        }\n",
    "            # If column value as more than one item, add in figure. \n",
    "            else: \n",
    "                df_small = df_small.sort_values(by = df_pc_filter_dataset['unit'].iloc[0] , ascending=False)\n",
    "                fig = px.bar(df_small, x = df_pc_filter_dataset['groupColumnName'].iloc[0],y =df_pc_filter_dataset['value'], template=\"plotly_white\", height = 350 )\n",
    "                fig.update_layout(\n",
    "                    margin={'t':0,'l':0,'b':0,'r':0}\n",
    "                )\n",
    "                dataset_dict[dataset] = {\"table\":df_small.to_html(index = False),\n",
    "                                     \"fig\":\"\"#fig.to_html(full_html=False)\n",
    "                                     }\n",
    "    table_dict[category] = dataset_dict"
   ]
  },
  {
   "cell_type": "code",
   "execution_count": 10,
   "id": "0a03f62e",
   "metadata": {},
   "outputs": [
    {
     "name": "stdout",
     "output_type": "stream",
     "text": [
      "... wrote c:\\Users\\Lara\\Work\\Neighbourhood plans\\Analysis\\Summary stats\\neighbourhood-plan/../../../Jobs/Devizes/Devizes_stats.html\n"
     ]
    }
   ],
   "source": [
    "environment = Environment(loader=FileSystemLoader(\"templates/\"))\n",
    "template = environment.get_template(\"Stats template.html\")\n",
    "\n",
    "#Create folder if not already there\n",
    "if not os.path.exists(f\"{output_folder}{pc}\"):\n",
    "    os.makedirs(f\"{output_folder}{pc}\")\n",
    "\n",
    "filename = f\"{output_folder}{pc}/{pc}_stats.html\"\n",
    "# filename = f\"outputReports/test_stats.html\"\n",
    "\n",
    "content = template.render(\n",
    "    pc = pc,\n",
    "    pcAreaHa = format(pcAreaHa.round(-1),\",\"),\n",
    "    pcAreaRank = pcAreaRank,\n",
    "    scores = df_pc_filter,\n",
    "    data = table_dict\n",
    "\n",
    ")\n",
    "with open(filename, mode=\"w\", encoding=\"utf-8\") as message:\n",
    "    message.write(content)\n",
    "    print(f\"... wrote {filename}\")"
   ]
  }
 ],
 "metadata": {
  "kernelspec": {
   "display_name": "neighbourhood-plan",
   "language": "python",
   "name": "neighbourhood-plan"
  },
  "language_info": {
   "codemirror_mode": {
    "name": "ipython",
    "version": 3
   },
   "file_extension": ".py",
   "mimetype": "text/x-python",
   "name": "python",
   "nbconvert_exporter": "python",
   "pygments_lexer": "ipython3",
   "version": "3.13.7"
  }
 },
 "nbformat": 4,
 "nbformat_minor": 5
}
