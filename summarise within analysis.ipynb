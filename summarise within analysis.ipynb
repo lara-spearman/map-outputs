{
 "cells": [
  {
   "cell_type": "code",
   "execution_count": 2,
   "id": "b8ddc88e",
   "metadata": {},
   "outputs": [],
   "source": [
    "import pandas as pd\n",
    "import plotly.express as px"
   ]
  },
  {
   "cell_type": "code",
   "execution_count": 95,
   "id": "05600bb8",
   "metadata": {},
   "outputs": [],
   "source": [
    "layer_info = {\n",
    "    \"Sustrans National Cycle Network Route\":{\"group\":\"Map5\",\n",
    "                                            \"group_field\":\"Desc_\",\n",
    "                                            \"unit\":\"METERS\",\n",
    "                                            \"unit_type\":\"Length\"},\n",
    "    \"Sustrans_Regional Cycle Route\":{\"group\":\"Map5\",\n",
    "                     \"group_field\":\"Descriptio\",\n",
    "                                            \"unit\":\"METERS\",\n",
    "                                            \"unit_type\":\"Length\"},\n",
    "    \"Sustrans Reclassified Cycle Route\":{\"group\":\"Map5\",\n",
    "                     \"group_field\":\"Desc_\",\n",
    "                                            \"unit\":\"METERS\",\n",
    "                                            \"unit_type\":\"Length\"},\n",
    "    \"Public Rights of Way\":{\"group\":\"Map5\",\n",
    "                     \"group_field\":\"LYR_NAME\",\n",
    "                                            \"unit\":\"METERS\",\n",
    "                                            \"unit_type\":\"Length\"},\n",
    "    \"FC Forest Roads\":{\"group\":\"Map5\",\n",
    "                     \"group_field\":False,\n",
    "                                            \"unit\":\"METERS\",\n",
    "                                            \"unit_type\":\"Area\"},\n",
    "    # \"CRoW S16 Dedicated Land\":{\"group\":\"Map5\",\n",
    "    #                  \"group_field\":False,\n",
    "    #                  \"unit\":\"HECTARES\"},\n",
    "    # \"CRoW_S15 Land All Types\":{\"group\":\"Map5\",\n",
    "    #                  \"group_field\":False,\n",
    "    #                  \"unit\":\"HECTARES\"},\n",
    "    # \"Conclusive Registered Commons\":{\"group\":\"Map5\",\n",
    "    #                  \"group_field\":False,\n",
    "    #                  \"unit\":\"HECTARES\"},\n",
    "    # \"Conclusive Open Country\":{\"group\":\"Map5\",\n",
    "    #                  \"group_field\":False,\n",
    "    #                  \"unit\":\"HECTARES\"},\n",
    "    #  \"CRoW Access Land\":{\"group\":\"Map5\",\n",
    "    #                  \"group_field\":False,\n",
    "    #                  \"unit\":\"HECTARES\"},\n",
    "    # \"OS Greenspace\":{\"group\":\"Map5\",\n",
    "    #                  \"group_field\":\"function\",\n",
    "    #                  \"unit\":\"HECTARES\"},\n",
    "    # \"NE Country Parks\":{\"group\":\"Map5\",\n",
    "    #                  \"group_field\":False,\n",
    "    #                  \"unit\":\"HECTARES\"},\n",
    "    # \"Agricultural Land Classification\":{\"group\":\"Map6\",\n",
    "    #                  \"group_field\":\":ALC_GRADE\",\n",
    "    #                  \"unit\":\"HECTARES\"},\n",
    "    # \"Environmental Stewardship Scheme\":{\"group\":\"Map7\",\n",
    "    #                  \"group_field\":\"SCHEME\",\n",
    "    #                  \"unit\":\"HECTARES\"},\n",
    "    # \"Organic Farming Scheme\":{\"group\":\"Map7\",\n",
    "    #                  \"group_field\":\"SCHEME\",\n",
    "    #                  \"unit\":\"HECTARES\"},\n",
    "    \"Countryside Stewardship Scheme\":{\"group\":\"Map7\",\n",
    "                     \"group_field\":\"cs_type\",\n",
    "                     \"unit\":\"HECTARES\",\n",
    "                                            \"unit_type\":\"Area\"},\n",
    "    \"RPA Landcovers\":{\"group\":\"Map8\",\n",
    "                     \"group_field\":\"COVER_TYPE\",\n",
    "                     \"unit\":\"HECTARES\",\n",
    "                                            \"unit_type\":\"Area\"},\n",
    "    # \"RPA Land Parcels\":{\"group\":\"Map9\",\n",
    "    #                  \"group_field\":\"FarmID\",\n",
    "    #                  \"unit\":\"HECTARES\"},\n",
    "    # \"WSBRC Wiltshire eNGO Sites\":{\"group\":\"Map10\",\n",
    "    #                  \"group_field\":False},\n",
    "    # \"WSBRC Wiltshire eNGO Sites\":{\"group\":\"Map10\",\n",
    "    #                  \"group_field\":False},\n",
    "    \n",
    "}"
   ]
  },
  {
   "cell_type": "code",
   "execution_count": 6,
   "id": "0fdfcdec",
   "metadata": {},
   "outputs": [],
   "source": [
    "location = \"O:/LocalAuthorities/Neighbourhood_Plans/Research/Summary stats/Python/map-outputs\"\n",
    "location_data = \"O:/LocalAuthorities/Neighbourhood_Plans/Research/NeigbourhoodPlansPython/\""
   ]
  },
  {
   "cell_type": "code",
   "execution_count": 96,
   "id": "5dee8ea0",
   "metadata": {},
   "outputs": [
    {
     "name": "stdout",
     "output_type": "stream",
     "text": [
      "Index(['NAME', 'Join_ID', 'groupColumnValue', 'value', 'Polyline_Count',\n",
      "       'PercentLength', 'mapGroup', 'mapName', 'groupColumnName', 'unitName'],\n",
      "      dtype='object')\n",
      "Index(['NAME', 'Join_ID', 'groupColumnValue', 'value', 'Polyline_Count',\n",
      "       'PercentLength', 'mapGroup', 'mapName', 'groupColumnName', 'unitName'],\n",
      "      dtype='object')\n",
      "Index(['NAME', 'Join_ID', 'groupColumnValue', 'value', 'Polyline_Count',\n",
      "       'PercentLength', 'mapGroup', 'mapName', 'groupColumnName', 'unitName'],\n",
      "      dtype='object')\n",
      "Index(['NAME', 'Join_ID', 'groupColumnValue', 'value', 'Polyline_Count',\n",
      "       'PercentLength', 'mapGroup', 'mapName', 'groupColumnName', 'unitName'],\n",
      "      dtype='object')\n",
      "Index(['NAME', 'Join_ID', 'groupColumnValue', 'value', 'Polygon_Count',\n",
      "       'PercentArea', 'mapGroup', 'mapName', 'groupColumnName', 'unitName'],\n",
      "      dtype='object')\n",
      "Index(['NAME', 'Join_ID', 'groupColumnValue', 'value', 'Polygon_Count',\n",
      "       'PercentArea', 'mapGroup', 'mapName', 'groupColumnName', 'unitName'],\n",
      "      dtype='object')\n"
     ]
    }
   ],
   "source": [
    "\n",
    "\n",
    "df_all = pd.DataFrame({'NAME': [], 'value': [],'groupColumnValue': [],'groupColumnName': [],'mapGroup': [],'mapName': []})\n",
    "\n",
    "for layer in layer_info.keys():\n",
    "    layer_name = layer.replace(\" \",\"_\")\n",
    "    if layer_info[layer]['group_field']:\n",
    "      df_table = pd.read_csv(f\"{location_data}/{layer_info[layer]['group']}_{layer_name}_table.csv\")\n",
    "      df_layer = pd.read_csv(f\"{location_data}/{layer_info[layer]['group']}_{layer_name}.csv\")\n",
    "      df_table.rename(columns = {f\"{layer_info[layer]['group_field']}\":\"groupColumnValue\"}, inplace=True)\n",
    "      df_table.rename(columns = {f\"sum_{layer_info[layer]['unit_type']}_{layer_info[layer]['unit']}\":\"value\"}, inplace=True)\n",
    "      df_layer_all = df_layer[[\"NAME\", \"Join_ID\"]].merge(df_table, on=\"Join_ID\")\n",
    "      # df_layer_all = df_layer_all[['NAME', f\"sum_Area_{layer_info[layer]['unit']}\",  \n",
    "      #    \"groupColumnValue\"]]\n",
    "      df_layer_all[\"mapGroup\"] = f\"{layer_info[layer]['group']}\"\n",
    "      df_layer_all[\"mapName\"] = f\"{layer_name}\"\n",
    "      df_layer_all[\"groupColumnName\"] = layer_info[layer]['group_field']\n",
    "      df_layer_all[\"unitName\"] = layer_info[layer]['unit']\n",
    "      print(df_layer_all.columns)\n",
    "      df_layer_all = df_layer_all[['NAME', \"value\",\"mapGroup\",\"mapName\",\"groupColumnName\",\"groupColumnValue\",\"unitName\"]]\n",
    "      df_all = pd.concat([df_all,df_layer_all ])\n",
    "    else:\n",
    "      df_layer = pd.read_csv(f\"{location_data}/{layer_info[layer]['group']}_{layer_name}.csv\")\n",
    "      df_table.rename(columns = {f\"sum_{layer_info[layer]['unit_type']}_{layer_info[layer]['unit']}\":\"value\"}, inplace=True)\n",
    "      df_layer_all = df_layer_all[['NAME', \"value\"]]\n",
    "      df_layer_all[\"mapGroup\"] = f\"{layer_info[layer]['group']}\"\n",
    "      df_layer_all[\"mapName\"] = f\"{layer_name}\"\n",
    "      df_layer_all[\"groupColumnName\"] = \"ALL\"\n",
    "      df_layer_all[\"groupColumnValue\"] = \"ALL\"\n",
    "      df_layer_all[\"unitName\"] = layer_info[layer]['unit']\n",
    "      df_layer_all = df_layer_all[['NAME', \"value\",\"mapGroup\",\"mapName\",\"groupColumnName\",\"groupColumnValue\",\"unitName\"]]\n",
    "      df_all = pd.concat([df_all,df_layer_all ])\n",
    "      \n",
    "   "
   ]
  },
  {
   "cell_type": "code",
   "execution_count": 97,
   "id": "46e08e8b",
   "metadata": {},
   "outputs": [],
   "source": [
    "df_all.to_csv('test.csv')"
   ]
  },
  {
   "cell_type": "code",
   "execution_count": 87,
   "id": "7e1b7186",
   "metadata": {},
   "outputs": [],
   "source": [
    "df_colerne = df_all[df_all.NAME==\"Colerne\"]"
   ]
  },
  {
   "cell_type": "code",
   "execution_count": 89,
   "id": "5ce483ec",
   "metadata": {},
   "outputs": [
    {
     "data": {
      "text/html": [
       "<div>\n",
       "<style scoped>\n",
       "    .dataframe tbody tr th:only-of-type {\n",
       "        vertical-align: middle;\n",
       "    }\n",
       "\n",
       "    .dataframe tbody tr th {\n",
       "        vertical-align: top;\n",
       "    }\n",
       "\n",
       "    .dataframe thead th {\n",
       "        text-align: right;\n",
       "    }\n",
       "</style>\n",
       "<table border=\"1\" class=\"dataframe\">\n",
       "  <thead>\n",
       "    <tr style=\"text-align: right;\">\n",
       "      <th></th>\n",
       "      <th>NAME</th>\n",
       "      <th>value</th>\n",
       "      <th>groupColumnValue</th>\n",
       "      <th>groupColumnName</th>\n",
       "      <th>mapGroup</th>\n",
       "      <th>mapName</th>\n",
       "      <th>unitName</th>\n",
       "    </tr>\n",
       "  </thead>\n",
       "  <tbody>\n",
       "    <tr>\n",
       "      <th>546</th>\n",
       "      <td>Colerne</td>\n",
       "      <td>6756.262426</td>\n",
       "      <td>Bridleway</td>\n",
       "      <td>LYR_NAME</td>\n",
       "      <td>Map5</td>\n",
       "      <td>Public_Rights_of_Way</td>\n",
       "      <td>METERS</td>\n",
       "    </tr>\n",
       "    <tr>\n",
       "      <th>547</th>\n",
       "      <td>Colerne</td>\n",
       "      <td>91.423655</td>\n",
       "      <td>Byway</td>\n",
       "      <td>LYR_NAME</td>\n",
       "      <td>Map5</td>\n",
       "      <td>Public_Rights_of_Way</td>\n",
       "      <td>METERS</td>\n",
       "    </tr>\n",
       "    <tr>\n",
       "      <th>548</th>\n",
       "      <td>Colerne</td>\n",
       "      <td>23753.524032</td>\n",
       "      <td>Footpath</td>\n",
       "      <td>LYR_NAME</td>\n",
       "      <td>Map5</td>\n",
       "      <td>Public_Rights_of_Way</td>\n",
       "      <td>METERS</td>\n",
       "    </tr>\n",
       "    <tr>\n",
       "      <th>410</th>\n",
       "      <td>Colerne</td>\n",
       "      <td>0.544437</td>\n",
       "      <td>CS CAPITAL GRANTS</td>\n",
       "      <td>cs_type</td>\n",
       "      <td>Map7</td>\n",
       "      <td>Countryside_Stewardship_Scheme</td>\n",
       "      <td>HECTARES</td>\n",
       "    </tr>\n",
       "    <tr>\n",
       "      <th>411</th>\n",
       "      <td>Colerne</td>\n",
       "      <td>4.963436</td>\n",
       "      <td>Higher Tier</td>\n",
       "      <td>cs_type</td>\n",
       "      <td>Map7</td>\n",
       "      <td>Countryside_Stewardship_Scheme</td>\n",
       "      <td>HECTARES</td>\n",
       "    </tr>\n",
       "    <tr>\n",
       "      <th>412</th>\n",
       "      <td>Colerne</td>\n",
       "      <td>493.422733</td>\n",
       "      <td>Mid Tier</td>\n",
       "      <td>cs_type</td>\n",
       "      <td>Map7</td>\n",
       "      <td>Countryside_Stewardship_Scheme</td>\n",
       "      <td>HECTARES</td>\n",
       "    </tr>\n",
       "    <tr>\n",
       "      <th>413</th>\n",
       "      <td>Colerne</td>\n",
       "      <td>126.059094</td>\n",
       "      <td>TREE HEALTH RESTORATION</td>\n",
       "      <td>cs_type</td>\n",
       "      <td>Map7</td>\n",
       "      <td>Countryside_Stewardship_Scheme</td>\n",
       "      <td>HECTARES</td>\n",
       "    </tr>\n",
       "    <tr>\n",
       "      <th>414</th>\n",
       "      <td>Colerne</td>\n",
       "      <td>151.439163</td>\n",
       "      <td>WOODLAND MANAGEMENT PLAN</td>\n",
       "      <td>cs_type</td>\n",
       "      <td>Map7</td>\n",
       "      <td>Countryside_Stewardship_Scheme</td>\n",
       "      <td>HECTARES</td>\n",
       "    </tr>\n",
       "    <tr>\n",
       "      <th>3049</th>\n",
       "      <td>Colerne</td>\n",
       "      <td>272.238736</td>\n",
       "      <td>Arable land</td>\n",
       "      <td>COVER_TYPE</td>\n",
       "      <td>Map8</td>\n",
       "      <td>RPA_Landcovers</td>\n",
       "      <td>HECTARES</td>\n",
       "    </tr>\n",
       "    <tr>\n",
       "      <th>3050</th>\n",
       "      <td>Colerne</td>\n",
       "      <td>0.023051</td>\n",
       "      <td>Drain/ditch/dyke</td>\n",
       "      <td>COVER_TYPE</td>\n",
       "      <td>Map8</td>\n",
       "      <td>RPA_Landcovers</td>\n",
       "      <td>HECTARES</td>\n",
       "    </tr>\n",
       "    <tr>\n",
       "      <th>3051</th>\n",
       "      <td>Colerne</td>\n",
       "      <td>1.006243</td>\n",
       "      <td>Farm building</td>\n",
       "      <td>COVER_TYPE</td>\n",
       "      <td>Map8</td>\n",
       "      <td>RPA_Landcovers</td>\n",
       "      <td>HECTARES</td>\n",
       "    </tr>\n",
       "    <tr>\n",
       "      <th>3052</th>\n",
       "      <td>Colerne</td>\n",
       "      <td>1.641816</td>\n",
       "      <td>Farmyards</td>\n",
       "      <td>COVER_TYPE</td>\n",
       "      <td>Map8</td>\n",
       "      <td>RPA_Landcovers</td>\n",
       "      <td>HECTARES</td>\n",
       "    </tr>\n",
       "    <tr>\n",
       "      <th>3053</th>\n",
       "      <td>Colerne</td>\n",
       "      <td>0.044663</td>\n",
       "      <td>Gallop</td>\n",
       "      <td>COVER_TYPE</td>\n",
       "      <td>Map8</td>\n",
       "      <td>RPA_Landcovers</td>\n",
       "      <td>HECTARES</td>\n",
       "    </tr>\n",
       "    <tr>\n",
       "      <th>3054</th>\n",
       "      <td>Colerne</td>\n",
       "      <td>1.403015</td>\n",
       "      <td>Hard standing</td>\n",
       "      <td>COVER_TYPE</td>\n",
       "      <td>Map8</td>\n",
       "      <td>RPA_Landcovers</td>\n",
       "      <td>HECTARES</td>\n",
       "    </tr>\n",
       "    <tr>\n",
       "      <th>3055</th>\n",
       "      <td>Colerne</td>\n",
       "      <td>1.294221</td>\n",
       "      <td>Metalled track</td>\n",
       "      <td>COVER_TYPE</td>\n",
       "      <td>Map8</td>\n",
       "      <td>RPA_Landcovers</td>\n",
       "      <td>HECTARES</td>\n",
       "    </tr>\n",
       "    <tr>\n",
       "      <th>3056</th>\n",
       "      <td>Colerne</td>\n",
       "      <td>11.485512</td>\n",
       "      <td>Natural woodland</td>\n",
       "      <td>COVER_TYPE</td>\n",
       "      <td>Map8</td>\n",
       "      <td>RPA_Landcovers</td>\n",
       "      <td>HECTARES</td>\n",
       "    </tr>\n",
       "    <tr>\n",
       "      <th>3057</th>\n",
       "      <td>Colerne</td>\n",
       "      <td>0.040069</td>\n",
       "      <td>Notional - scrub</td>\n",
       "      <td>COVER_TYPE</td>\n",
       "      <td>Map8</td>\n",
       "      <td>RPA_Landcovers</td>\n",
       "      <td>HECTARES</td>\n",
       "    </tr>\n",
       "    <tr>\n",
       "      <th>3058</th>\n",
       "      <td>Colerne</td>\n",
       "      <td>1.146903</td>\n",
       "      <td>Permanent crops</td>\n",
       "      <td>COVER_TYPE</td>\n",
       "      <td>Map8</td>\n",
       "      <td>RPA_Landcovers</td>\n",
       "      <td>HECTARES</td>\n",
       "    </tr>\n",
       "    <tr>\n",
       "      <th>3059</th>\n",
       "      <td>Colerne</td>\n",
       "      <td>712.165027</td>\n",
       "      <td>Permanent grassland</td>\n",
       "      <td>COVER_TYPE</td>\n",
       "      <td>Map8</td>\n",
       "      <td>RPA_Landcovers</td>\n",
       "      <td>HECTARES</td>\n",
       "    </tr>\n",
       "    <tr>\n",
       "      <th>3060</th>\n",
       "      <td>Colerne</td>\n",
       "      <td>0.434852</td>\n",
       "      <td>Pond</td>\n",
       "      <td>COVER_TYPE</td>\n",
       "      <td>Map8</td>\n",
       "      <td>RPA_Landcovers</td>\n",
       "      <td>HECTARES</td>\n",
       "    </tr>\n",
       "    <tr>\n",
       "      <th>3061</th>\n",
       "      <td>Colerne</td>\n",
       "      <td>0.011885</td>\n",
       "      <td>Residential dwelling, house</td>\n",
       "      <td>COVER_TYPE</td>\n",
       "      <td>Map8</td>\n",
       "      <td>RPA_Landcovers</td>\n",
       "      <td>HECTARES</td>\n",
       "    </tr>\n",
       "    <tr>\n",
       "      <th>3062</th>\n",
       "      <td>Colerne</td>\n",
       "      <td>0.598971</td>\n",
       "      <td>Residential gardens</td>\n",
       "      <td>COVER_TYPE</td>\n",
       "      <td>Map8</td>\n",
       "      <td>RPA_Landcovers</td>\n",
       "      <td>HECTARES</td>\n",
       "    </tr>\n",
       "    <tr>\n",
       "      <th>3063</th>\n",
       "      <td>Colerne</td>\n",
       "      <td>0.661546</td>\n",
       "      <td>Rivers and Streams type 2</td>\n",
       "      <td>COVER_TYPE</td>\n",
       "      <td>Map8</td>\n",
       "      <td>RPA_Landcovers</td>\n",
       "      <td>HECTARES</td>\n",
       "    </tr>\n",
       "    <tr>\n",
       "      <th>3064</th>\n",
       "      <td>Colerne</td>\n",
       "      <td>0.142083</td>\n",
       "      <td>Rivers and Streams type 3</td>\n",
       "      <td>COVER_TYPE</td>\n",
       "      <td>Map8</td>\n",
       "      <td>RPA_Landcovers</td>\n",
       "      <td>HECTARES</td>\n",
       "    </tr>\n",
       "    <tr>\n",
       "      <th>3065</th>\n",
       "      <td>Colerne</td>\n",
       "      <td>0.224822</td>\n",
       "      <td>Roads</td>\n",
       "      <td>COVER_TYPE</td>\n",
       "      <td>Map8</td>\n",
       "      <td>RPA_Landcovers</td>\n",
       "      <td>HECTARES</td>\n",
       "    </tr>\n",
       "    <tr>\n",
       "      <th>3066</th>\n",
       "      <td>Colerne</td>\n",
       "      <td>4.075842</td>\n",
       "      <td>Scrub - ungrazeable</td>\n",
       "      <td>COVER_TYPE</td>\n",
       "      <td>Map8</td>\n",
       "      <td>RPA_Landcovers</td>\n",
       "      <td>HECTARES</td>\n",
       "    </tr>\n",
       "    <tr>\n",
       "      <th>3067</th>\n",
       "      <td>Colerne</td>\n",
       "      <td>0.039831</td>\n",
       "      <td>Storage area</td>\n",
       "      <td>COVER_TYPE</td>\n",
       "      <td>Map8</td>\n",
       "      <td>RPA_Landcovers</td>\n",
       "      <td>HECTARES</td>\n",
       "    </tr>\n",
       "    <tr>\n",
       "      <th>3068</th>\n",
       "      <td>Colerne</td>\n",
       "      <td>0.008190</td>\n",
       "      <td>Structure</td>\n",
       "      <td>COVER_TYPE</td>\n",
       "      <td>Map8</td>\n",
       "      <td>RPA_Landcovers</td>\n",
       "      <td>HECTARES</td>\n",
       "    </tr>\n",
       "    <tr>\n",
       "      <th>3069</th>\n",
       "      <td>Colerne</td>\n",
       "      <td>4.224304</td>\n",
       "      <td>Track - natural surface</td>\n",
       "      <td>COVER_TYPE</td>\n",
       "      <td>Map8</td>\n",
       "      <td>RPA_Landcovers</td>\n",
       "      <td>HECTARES</td>\n",
       "    </tr>\n",
       "    <tr>\n",
       "      <th>3070</th>\n",
       "      <td>Colerne</td>\n",
       "      <td>245.973024</td>\n",
       "      <td>Woodland</td>\n",
       "      <td>COVER_TYPE</td>\n",
       "      <td>Map8</td>\n",
       "      <td>RPA_Landcovers</td>\n",
       "      <td>HECTARES</td>\n",
       "    </tr>\n",
       "  </tbody>\n",
       "</table>\n",
       "</div>"
      ],
      "text/plain": [
       "         NAME         value             groupColumnValue groupColumnName  \\\n",
       "546   Colerne   6756.262426                    Bridleway        LYR_NAME   \n",
       "547   Colerne     91.423655                        Byway        LYR_NAME   \n",
       "548   Colerne  23753.524032                     Footpath        LYR_NAME   \n",
       "410   Colerne      0.544437            CS CAPITAL GRANTS         cs_type   \n",
       "411   Colerne      4.963436                  Higher Tier         cs_type   \n",
       "412   Colerne    493.422733                     Mid Tier         cs_type   \n",
       "413   Colerne    126.059094      TREE HEALTH RESTORATION         cs_type   \n",
       "414   Colerne    151.439163     WOODLAND MANAGEMENT PLAN         cs_type   \n",
       "3049  Colerne    272.238736                  Arable land      COVER_TYPE   \n",
       "3050  Colerne      0.023051             Drain/ditch/dyke      COVER_TYPE   \n",
       "3051  Colerne      1.006243                Farm building      COVER_TYPE   \n",
       "3052  Colerne      1.641816                    Farmyards      COVER_TYPE   \n",
       "3053  Colerne      0.044663                       Gallop      COVER_TYPE   \n",
       "3054  Colerne      1.403015                Hard standing      COVER_TYPE   \n",
       "3055  Colerne      1.294221               Metalled track      COVER_TYPE   \n",
       "3056  Colerne     11.485512             Natural woodland      COVER_TYPE   \n",
       "3057  Colerne      0.040069             Notional - scrub      COVER_TYPE   \n",
       "3058  Colerne      1.146903              Permanent crops      COVER_TYPE   \n",
       "3059  Colerne    712.165027          Permanent grassland      COVER_TYPE   \n",
       "3060  Colerne      0.434852                         Pond      COVER_TYPE   \n",
       "3061  Colerne      0.011885  Residential dwelling, house      COVER_TYPE   \n",
       "3062  Colerne      0.598971          Residential gardens      COVER_TYPE   \n",
       "3063  Colerne      0.661546    Rivers and Streams type 2      COVER_TYPE   \n",
       "3064  Colerne      0.142083    Rivers and Streams type 3      COVER_TYPE   \n",
       "3065  Colerne      0.224822                        Roads      COVER_TYPE   \n",
       "3066  Colerne      4.075842          Scrub - ungrazeable      COVER_TYPE   \n",
       "3067  Colerne      0.039831                 Storage area      COVER_TYPE   \n",
       "3068  Colerne      0.008190                    Structure      COVER_TYPE   \n",
       "3069  Colerne      4.224304      Track - natural surface      COVER_TYPE   \n",
       "3070  Colerne    245.973024                     Woodland      COVER_TYPE   \n",
       "\n",
       "     mapGroup                         mapName  unitName  \n",
       "546      Map5            Public_Rights_of_Way    METERS  \n",
       "547      Map5            Public_Rights_of_Way    METERS  \n",
       "548      Map5            Public_Rights_of_Way    METERS  \n",
       "410      Map7  Countryside_Stewardship_Scheme  HECTARES  \n",
       "411      Map7  Countryside_Stewardship_Scheme  HECTARES  \n",
       "412      Map7  Countryside_Stewardship_Scheme  HECTARES  \n",
       "413      Map7  Countryside_Stewardship_Scheme  HECTARES  \n",
       "414      Map7  Countryside_Stewardship_Scheme  HECTARES  \n",
       "3049     Map8                  RPA_Landcovers  HECTARES  \n",
       "3050     Map8                  RPA_Landcovers  HECTARES  \n",
       "3051     Map8                  RPA_Landcovers  HECTARES  \n",
       "3052     Map8                  RPA_Landcovers  HECTARES  \n",
       "3053     Map8                  RPA_Landcovers  HECTARES  \n",
       "3054     Map8                  RPA_Landcovers  HECTARES  \n",
       "3055     Map8                  RPA_Landcovers  HECTARES  \n",
       "3056     Map8                  RPA_Landcovers  HECTARES  \n",
       "3057     Map8                  RPA_Landcovers  HECTARES  \n",
       "3058     Map8                  RPA_Landcovers  HECTARES  \n",
       "3059     Map8                  RPA_Landcovers  HECTARES  \n",
       "3060     Map8                  RPA_Landcovers  HECTARES  \n",
       "3061     Map8                  RPA_Landcovers  HECTARES  \n",
       "3062     Map8                  RPA_Landcovers  HECTARES  \n",
       "3063     Map8                  RPA_Landcovers  HECTARES  \n",
       "3064     Map8                  RPA_Landcovers  HECTARES  \n",
       "3065     Map8                  RPA_Landcovers  HECTARES  \n",
       "3066     Map8                  RPA_Landcovers  HECTARES  \n",
       "3067     Map8                  RPA_Landcovers  HECTARES  \n",
       "3068     Map8                  RPA_Landcovers  HECTARES  \n",
       "3069     Map8                  RPA_Landcovers  HECTARES  \n",
       "3070     Map8                  RPA_Landcovers  HECTARES  "
      ]
     },
     "execution_count": 89,
     "metadata": {},
     "output_type": "execute_result"
    }
   ],
   "source": [
    "df_colerne"
   ]
  },
  {
   "cell_type": "code",
   "execution_count": null,
   "id": "32146c77",
   "metadata": {},
   "outputs": [],
   "source": [
    "\n",
    "df_table.rename(columns = {\"sum_Area_HECTARES\":\"AreaHa_RPA_Landcovers\"}, inplace=True)"
   ]
  },
  {
   "cell_type": "code",
   "execution_count": null,
   "id": "1c3c209c",
   "metadata": {},
   "outputs": [],
   "source": [
    "df_all = df_layer[[\"NAME\", \"sum_Area_HECTARES\",\"Join_ID\"]].merge(df_table, on=\"Join_ID\")\n",
    "df_all = df_all[['NAME', 'sum_Area_HECTARES', 'Join_ID', 'COVER_TYPE',\n",
    "       'AreaHa_RPA_Landcovers']]"
   ]
  },
  {
   "cell_type": "code",
   "execution_count": null,
   "id": "fab5b302",
   "metadata": {},
   "outputs": [
    {
     "data": {
      "text/plain": [
       "dict_keys(['RPA Landcovers'])"
      ]
     },
     "execution_count": 26,
     "metadata": {},
     "output_type": "execute_result"
    }
   ],
   "source": [
    "layer_info['RPA Landcovers']\n"
   ]
  },
  {
   "cell_type": "code",
   "execution_count": 4,
   "id": "1a9f4abf",
   "metadata": {},
   "outputs": [],
   "source": [
    "df_colerne = df_all[df_all.NAME == \"Colerne\"]"
   ]
  },
  {
   "cell_type": "code",
   "execution_count": 7,
   "id": "04a300b5",
   "metadata": {},
   "outputs": [
    {
     "data": {
      "application/vnd.plotly.v1+json": {
       "config": {
        "plotlyServerURL": "https://plot.ly"
       },
       "data": [
        {
         "hovertemplate": "MainHabs=%{x}<br>PercentArea=%{y}<extra></extra>",
         "legendgroup": "",
         "marker": {
          "color": "#636efa",
          "pattern": {
           "shape": ""
          }
         },
         "name": "",
         "orientation": "v",
         "showlegend": false,
         "textposition": "auto",
         "type": "bar",
         "x": [
          "Coastal and floodplain grazing marsh",
          "Deciduous woodland",
          "Good quality semi improved grassland",
          "Lowland calcareous grassland",
          "Lowland fens",
          "Lowland meadows",
          "No main habitat but additional habitats present",
          "Traditional orchard"
         ],
         "xaxis": "x",
         "y": {
          "bdata": "UepX2sz+lz90V3c7XrMwQBy6gl4/ORFAKB9+T4T9BkAluZrYsp69PxD9Lo4pmsw/qMDSC5d6zD+OD/Yn1lBvPw==",
          "dtype": "f8"
         },
         "yaxis": "y"
        }
       ],
       "layout": {
        "barmode": "relative",
        "legend": {
         "tracegroupgap": 0
        },
        "margin": {
         "t": 60
        },
        "template": {
         "data": {
          "bar": [
           {
            "error_x": {
             "color": "#2a3f5f"
            },
            "error_y": {
             "color": "#2a3f5f"
            },
            "marker": {
             "line": {
              "color": "#E5ECF6",
              "width": 0.5
             },
             "pattern": {
              "fillmode": "overlay",
              "size": 10,
              "solidity": 0.2
             }
            },
            "type": "bar"
           }
          ],
          "barpolar": [
           {
            "marker": {
             "line": {
              "color": "#E5ECF6",
              "width": 0.5
             },
             "pattern": {
              "fillmode": "overlay",
              "size": 10,
              "solidity": 0.2
             }
            },
            "type": "barpolar"
           }
          ],
          "carpet": [
           {
            "aaxis": {
             "endlinecolor": "#2a3f5f",
             "gridcolor": "white",
             "linecolor": "white",
             "minorgridcolor": "white",
             "startlinecolor": "#2a3f5f"
            },
            "baxis": {
             "endlinecolor": "#2a3f5f",
             "gridcolor": "white",
             "linecolor": "white",
             "minorgridcolor": "white",
             "startlinecolor": "#2a3f5f"
            },
            "type": "carpet"
           }
          ],
          "choropleth": [
           {
            "colorbar": {
             "outlinewidth": 0,
             "ticks": ""
            },
            "type": "choropleth"
           }
          ],
          "contour": [
           {
            "colorbar": {
             "outlinewidth": 0,
             "ticks": ""
            },
            "colorscale": [
             [
              0,
              "#0d0887"
             ],
             [
              0.1111111111111111,
              "#46039f"
             ],
             [
              0.2222222222222222,
              "#7201a8"
             ],
             [
              0.3333333333333333,
              "#9c179e"
             ],
             [
              0.4444444444444444,
              "#bd3786"
             ],
             [
              0.5555555555555556,
              "#d8576b"
             ],
             [
              0.6666666666666666,
              "#ed7953"
             ],
             [
              0.7777777777777778,
              "#fb9f3a"
             ],
             [
              0.8888888888888888,
              "#fdca26"
             ],
             [
              1,
              "#f0f921"
             ]
            ],
            "type": "contour"
           }
          ],
          "contourcarpet": [
           {
            "colorbar": {
             "outlinewidth": 0,
             "ticks": ""
            },
            "type": "contourcarpet"
           }
          ],
          "heatmap": [
           {
            "colorbar": {
             "outlinewidth": 0,
             "ticks": ""
            },
            "colorscale": [
             [
              0,
              "#0d0887"
             ],
             [
              0.1111111111111111,
              "#46039f"
             ],
             [
              0.2222222222222222,
              "#7201a8"
             ],
             [
              0.3333333333333333,
              "#9c179e"
             ],
             [
              0.4444444444444444,
              "#bd3786"
             ],
             [
              0.5555555555555556,
              "#d8576b"
             ],
             [
              0.6666666666666666,
              "#ed7953"
             ],
             [
              0.7777777777777778,
              "#fb9f3a"
             ],
             [
              0.8888888888888888,
              "#fdca26"
             ],
             [
              1,
              "#f0f921"
             ]
            ],
            "type": "heatmap"
           }
          ],
          "histogram": [
           {
            "marker": {
             "pattern": {
              "fillmode": "overlay",
              "size": 10,
              "solidity": 0.2
             }
            },
            "type": "histogram"
           }
          ],
          "histogram2d": [
           {
            "colorbar": {
             "outlinewidth": 0,
             "ticks": ""
            },
            "colorscale": [
             [
              0,
              "#0d0887"
             ],
             [
              0.1111111111111111,
              "#46039f"
             ],
             [
              0.2222222222222222,
              "#7201a8"
             ],
             [
              0.3333333333333333,
              "#9c179e"
             ],
             [
              0.4444444444444444,
              "#bd3786"
             ],
             [
              0.5555555555555556,
              "#d8576b"
             ],
             [
              0.6666666666666666,
              "#ed7953"
             ],
             [
              0.7777777777777778,
              "#fb9f3a"
             ],
             [
              0.8888888888888888,
              "#fdca26"
             ],
             [
              1,
              "#f0f921"
             ]
            ],
            "type": "histogram2d"
           }
          ],
          "histogram2dcontour": [
           {
            "colorbar": {
             "outlinewidth": 0,
             "ticks": ""
            },
            "colorscale": [
             [
              0,
              "#0d0887"
             ],
             [
              0.1111111111111111,
              "#46039f"
             ],
             [
              0.2222222222222222,
              "#7201a8"
             ],
             [
              0.3333333333333333,
              "#9c179e"
             ],
             [
              0.4444444444444444,
              "#bd3786"
             ],
             [
              0.5555555555555556,
              "#d8576b"
             ],
             [
              0.6666666666666666,
              "#ed7953"
             ],
             [
              0.7777777777777778,
              "#fb9f3a"
             ],
             [
              0.8888888888888888,
              "#fdca26"
             ],
             [
              1,
              "#f0f921"
             ]
            ],
            "type": "histogram2dcontour"
           }
          ],
          "mesh3d": [
           {
            "colorbar": {
             "outlinewidth": 0,
             "ticks": ""
            },
            "type": "mesh3d"
           }
          ],
          "parcoords": [
           {
            "line": {
             "colorbar": {
              "outlinewidth": 0,
              "ticks": ""
             }
            },
            "type": "parcoords"
           }
          ],
          "pie": [
           {
            "automargin": true,
            "type": "pie"
           }
          ],
          "scatter": [
           {
            "fillpattern": {
             "fillmode": "overlay",
             "size": 10,
             "solidity": 0.2
            },
            "type": "scatter"
           }
          ],
          "scatter3d": [
           {
            "line": {
             "colorbar": {
              "outlinewidth": 0,
              "ticks": ""
             }
            },
            "marker": {
             "colorbar": {
              "outlinewidth": 0,
              "ticks": ""
             }
            },
            "type": "scatter3d"
           }
          ],
          "scattercarpet": [
           {
            "marker": {
             "colorbar": {
              "outlinewidth": 0,
              "ticks": ""
             }
            },
            "type": "scattercarpet"
           }
          ],
          "scattergeo": [
           {
            "marker": {
             "colorbar": {
              "outlinewidth": 0,
              "ticks": ""
             }
            },
            "type": "scattergeo"
           }
          ],
          "scattergl": [
           {
            "marker": {
             "colorbar": {
              "outlinewidth": 0,
              "ticks": ""
             }
            },
            "type": "scattergl"
           }
          ],
          "scattermap": [
           {
            "marker": {
             "colorbar": {
              "outlinewidth": 0,
              "ticks": ""
             }
            },
            "type": "scattermap"
           }
          ],
          "scattermapbox": [
           {
            "marker": {
             "colorbar": {
              "outlinewidth": 0,
              "ticks": ""
             }
            },
            "type": "scattermapbox"
           }
          ],
          "scatterpolar": [
           {
            "marker": {
             "colorbar": {
              "outlinewidth": 0,
              "ticks": ""
             }
            },
            "type": "scatterpolar"
           }
          ],
          "scatterpolargl": [
           {
            "marker": {
             "colorbar": {
              "outlinewidth": 0,
              "ticks": ""
             }
            },
            "type": "scatterpolargl"
           }
          ],
          "scatterternary": [
           {
            "marker": {
             "colorbar": {
              "outlinewidth": 0,
              "ticks": ""
             }
            },
            "type": "scatterternary"
           }
          ],
          "surface": [
           {
            "colorbar": {
             "outlinewidth": 0,
             "ticks": ""
            },
            "colorscale": [
             [
              0,
              "#0d0887"
             ],
             [
              0.1111111111111111,
              "#46039f"
             ],
             [
              0.2222222222222222,
              "#7201a8"
             ],
             [
              0.3333333333333333,
              "#9c179e"
             ],
             [
              0.4444444444444444,
              "#bd3786"
             ],
             [
              0.5555555555555556,
              "#d8576b"
             ],
             [
              0.6666666666666666,
              "#ed7953"
             ],
             [
              0.7777777777777778,
              "#fb9f3a"
             ],
             [
              0.8888888888888888,
              "#fdca26"
             ],
             [
              1,
              "#f0f921"
             ]
            ],
            "type": "surface"
           }
          ],
          "table": [
           {
            "cells": {
             "fill": {
              "color": "#EBF0F8"
             },
             "line": {
              "color": "white"
             }
            },
            "header": {
             "fill": {
              "color": "#C8D4E3"
             },
             "line": {
              "color": "white"
             }
            },
            "type": "table"
           }
          ]
         },
         "layout": {
          "annotationdefaults": {
           "arrowcolor": "#2a3f5f",
           "arrowhead": 0,
           "arrowwidth": 1
          },
          "autotypenumbers": "strict",
          "coloraxis": {
           "colorbar": {
            "outlinewidth": 0,
            "ticks": ""
           }
          },
          "colorscale": {
           "diverging": [
            [
             0,
             "#8e0152"
            ],
            [
             0.1,
             "#c51b7d"
            ],
            [
             0.2,
             "#de77ae"
            ],
            [
             0.3,
             "#f1b6da"
            ],
            [
             0.4,
             "#fde0ef"
            ],
            [
             0.5,
             "#f7f7f7"
            ],
            [
             0.6,
             "#e6f5d0"
            ],
            [
             0.7,
             "#b8e186"
            ],
            [
             0.8,
             "#7fbc41"
            ],
            [
             0.9,
             "#4d9221"
            ],
            [
             1,
             "#276419"
            ]
           ],
           "sequential": [
            [
             0,
             "#0d0887"
            ],
            [
             0.1111111111111111,
             "#46039f"
            ],
            [
             0.2222222222222222,
             "#7201a8"
            ],
            [
             0.3333333333333333,
             "#9c179e"
            ],
            [
             0.4444444444444444,
             "#bd3786"
            ],
            [
             0.5555555555555556,
             "#d8576b"
            ],
            [
             0.6666666666666666,
             "#ed7953"
            ],
            [
             0.7777777777777778,
             "#fb9f3a"
            ],
            [
             0.8888888888888888,
             "#fdca26"
            ],
            [
             1,
             "#f0f921"
            ]
           ],
           "sequentialminus": [
            [
             0,
             "#0d0887"
            ],
            [
             0.1111111111111111,
             "#46039f"
            ],
            [
             0.2222222222222222,
             "#7201a8"
            ],
            [
             0.3333333333333333,
             "#9c179e"
            ],
            [
             0.4444444444444444,
             "#bd3786"
            ],
            [
             0.5555555555555556,
             "#d8576b"
            ],
            [
             0.6666666666666666,
             "#ed7953"
            ],
            [
             0.7777777777777778,
             "#fb9f3a"
            ],
            [
             0.8888888888888888,
             "#fdca26"
            ],
            [
             1,
             "#f0f921"
            ]
           ]
          },
          "colorway": [
           "#636efa",
           "#EF553B",
           "#00cc96",
           "#ab63fa",
           "#FFA15A",
           "#19d3f3",
           "#FF6692",
           "#B6E880",
           "#FF97FF",
           "#FECB52"
          ],
          "font": {
           "color": "#2a3f5f"
          },
          "geo": {
           "bgcolor": "white",
           "lakecolor": "white",
           "landcolor": "#E5ECF6",
           "showlakes": true,
           "showland": true,
           "subunitcolor": "white"
          },
          "hoverlabel": {
           "align": "left"
          },
          "hovermode": "closest",
          "mapbox": {
           "style": "light"
          },
          "paper_bgcolor": "white",
          "plot_bgcolor": "#E5ECF6",
          "polar": {
           "angularaxis": {
            "gridcolor": "white",
            "linecolor": "white",
            "ticks": ""
           },
           "bgcolor": "#E5ECF6",
           "radialaxis": {
            "gridcolor": "white",
            "linecolor": "white",
            "ticks": ""
           }
          },
          "scene": {
           "xaxis": {
            "backgroundcolor": "#E5ECF6",
            "gridcolor": "white",
            "gridwidth": 2,
            "linecolor": "white",
            "showbackground": true,
            "ticks": "",
            "zerolinecolor": "white"
           },
           "yaxis": {
            "backgroundcolor": "#E5ECF6",
            "gridcolor": "white",
            "gridwidth": 2,
            "linecolor": "white",
            "showbackground": true,
            "ticks": "",
            "zerolinecolor": "white"
           },
           "zaxis": {
            "backgroundcolor": "#E5ECF6",
            "gridcolor": "white",
            "gridwidth": 2,
            "linecolor": "white",
            "showbackground": true,
            "ticks": "",
            "zerolinecolor": "white"
           }
          },
          "shapedefaults": {
           "line": {
            "color": "#2a3f5f"
           }
          },
          "ternary": {
           "aaxis": {
            "gridcolor": "white",
            "linecolor": "white",
            "ticks": ""
           },
           "baxis": {
            "gridcolor": "white",
            "linecolor": "white",
            "ticks": ""
           },
           "bgcolor": "#E5ECF6",
           "caxis": {
            "gridcolor": "white",
            "linecolor": "white",
            "ticks": ""
           }
          },
          "title": {
           "x": 0.05
          },
          "xaxis": {
           "automargin": true,
           "gridcolor": "white",
           "linecolor": "white",
           "ticks": "",
           "title": {
            "standoff": 15
           },
           "zerolinecolor": "white",
           "zerolinewidth": 2
          },
          "yaxis": {
           "automargin": true,
           "gridcolor": "white",
           "linecolor": "white",
           "ticks": "",
           "title": {
            "standoff": 15
           },
           "zerolinecolor": "white",
           "zerolinewidth": 2
          }
         }
        },
        "xaxis": {
         "anchor": "y",
         "domain": [
          0,
          1
         ],
         "title": {
          "text": "MainHabs"
         }
        },
        "yaxis": {
         "anchor": "x",
         "domain": [
          0,
          1
         ],
         "title": {
          "text": "PercentArea"
         }
        }
       }
      }
     },
     "metadata": {},
     "output_type": "display_data"
    }
   ],
   "source": [
    "fig = px.bar(df_colerne, x = \"MainHabs\", y = \"PercentArea\")\n",
    "fig.show()"
   ]
  },
  {
   "cell_type": "code",
   "execution_count": 9,
   "id": "da7e1f5e",
   "metadata": {},
   "outputs": [
    {
     "data": {
      "text/plain": [
       "Index(['Join_ID', 'MainHabs', 'sum_AreaHa_x', 'sum_Area_SQUAREKILOMETERS_x',\n",
       "       'Polygon_Count_x', 'PercentArea', 'NAME', 'AREA_CODE', 'DESCRIPTIO',\n",
       "       'FILE_NAME', 'NUMBER', 'NUMBER0', 'POLYGON_ID', 'UNIT_ID', 'CODE',\n",
       "       'HECTARES', 'AREA', 'TYPE_CODE', 'DESCRIPT0', 'TYPE_COD0', 'DESCRIPT1',\n",
       "       'TO_Check', 'Shape_Length', 'Shape_Area', 'sum_AreaHa_y',\n",
       "       'sum_Area_SQUAREKILOMETERS_y', 'Polygon_Count_y'],\n",
       "      dtype='object')"
      ]
     },
     "execution_count": 9,
     "metadata": {},
     "output_type": "execute_result"
    }
   ],
   "source": [
    "df_all.columns"
   ]
  },
  {
   "cell_type": "code",
   "execution_count": 14,
   "id": "39d270b2",
   "metadata": {},
   "outputs": [],
   "source": [
    "df_all_reduced = df_all[[\"MainHabs\", 'sum_AreaHa_x','PercentArea', 'NAME']]"
   ]
  },
  {
   "cell_type": "code",
   "execution_count": 26,
   "id": "e3cd6434",
   "metadata": {},
   "outputs": [
    {
     "data": {
      "text/plain": [
       "Index(['Join_ID', 'MainHabs', 'sum_AreaHa_x', 'sum_Area_SQUAREKILOMETERS_x',\n",
       "       'Polygon_Count_x', 'PercentArea', 'NAME', 'AREA_CODE', 'DESCRIPTIO',\n",
       "       'FILE_NAME', 'NUMBER', 'NUMBER0', 'POLYGON_ID', 'UNIT_ID', 'CODE',\n",
       "       'HECTARES', 'AREA', 'TYPE_CODE', 'DESCRIPT0', 'TYPE_COD0', 'DESCRIPT1',\n",
       "       'TO_Check', 'Shape_Length', 'Shape_Area', 'sum_AreaHa_y',\n",
       "       'sum_Area_SQUAREKILOMETERS_y', 'Polygon_Count_y'],\n",
       "      dtype='object')"
      ]
     },
     "execution_count": 26,
     "metadata": {},
     "output_type": "execute_result"
    }
   ],
   "source": [
    "df_all.columns"
   ]
  },
  {
   "cell_type": "code",
   "execution_count": 32,
   "id": "2ad1a413",
   "metadata": {},
   "outputs": [
    {
     "data": {
      "text/html": [
       "<div>\n",
       "<style scoped>\n",
       "    .dataframe tbody tr th:only-of-type {\n",
       "        vertical-align: middle;\n",
       "    }\n",
       "\n",
       "    .dataframe tbody tr th {\n",
       "        vertical-align: top;\n",
       "    }\n",
       "\n",
       "    .dataframe thead tr th {\n",
       "        text-align: left;\n",
       "    }\n",
       "\n",
       "    .dataframe thead tr:last-of-type th {\n",
       "        text-align: right;\n",
       "    }\n",
       "</style>\n",
       "<table border=\"1\" class=\"dataframe\">\n",
       "  <thead>\n",
       "    <tr>\n",
       "      <th></th>\n",
       "      <th></th>\n",
       "      <th colspan=\"10\" halign=\"left\">sum_AreaHa_x</th>\n",
       "      <th>...</th>\n",
       "      <th colspan=\"10\" halign=\"left\">PercentArea</th>\n",
       "    </tr>\n",
       "    <tr>\n",
       "      <th></th>\n",
       "      <th>MainHabs</th>\n",
       "      <th>Coastal and floodplain grazing marsh</th>\n",
       "      <th>Deciduous woodland</th>\n",
       "      <th>Good quality semi improved grassland</th>\n",
       "      <th>Good quality semi improved grassland,Traditional orchard</th>\n",
       "      <th>Lowland calcareous grassland</th>\n",
       "      <th>Lowland dry acid grassland</th>\n",
       "      <th>Lowland dry acid grassland,Lowland heathland</th>\n",
       "      <th>Lowland fens</th>\n",
       "      <th>Lowland heathland</th>\n",
       "      <th>Lowland meadows</th>\n",
       "      <th>...</th>\n",
       "      <th>Lowland calcareous grassland</th>\n",
       "      <th>Lowland dry acid grassland</th>\n",
       "      <th>Lowland dry acid grassland,Lowland heathland</th>\n",
       "      <th>Lowland fens</th>\n",
       "      <th>Lowland heathland</th>\n",
       "      <th>Lowland meadows</th>\n",
       "      <th>No main habitat but additional habitats present</th>\n",
       "      <th>Ponds</th>\n",
       "      <th>Purple moor grass and rush pastures</th>\n",
       "      <th>Traditional orchard</th>\n",
       "    </tr>\n",
       "    <tr>\n",
       "      <th>NAME</th>\n",
       "      <th>sum_AreaHa_y</th>\n",
       "      <th></th>\n",
       "      <th></th>\n",
       "      <th></th>\n",
       "      <th></th>\n",
       "      <th></th>\n",
       "      <th></th>\n",
       "      <th></th>\n",
       "      <th></th>\n",
       "      <th></th>\n",
       "      <th></th>\n",
       "      <th></th>\n",
       "      <th></th>\n",
       "      <th></th>\n",
       "      <th></th>\n",
       "      <th></th>\n",
       "      <th></th>\n",
       "      <th></th>\n",
       "      <th></th>\n",
       "      <th></th>\n",
       "      <th></th>\n",
       "      <th></th>\n",
       "    </tr>\n",
       "  </thead>\n",
       "  <tbody>\n",
       "    <tr>\n",
       "      <th>Aldbourne</th>\n",
       "      <th>228.102996</th>\n",
       "      <td>NaN</td>\n",
       "      <td>112.806569</td>\n",
       "      <td>NaN</td>\n",
       "      <td>NaN</td>\n",
       "      <td>49.080356</td>\n",
       "      <td>NaN</td>\n",
       "      <td>NaN</td>\n",
       "      <td>NaN</td>\n",
       "      <td>NaN</td>\n",
       "      <td>4.880000</td>\n",
       "      <td>...</td>\n",
       "      <td>1.426651</td>\n",
       "      <td>NaN</td>\n",
       "      <td>NaN</td>\n",
       "      <td>NaN</td>\n",
       "      <td>NaN</td>\n",
       "      <td>0.141905</td>\n",
       "      <td>1.778316</td>\n",
       "      <td>NaN</td>\n",
       "      <td>NaN</td>\n",
       "      <td>0.004965</td>\n",
       "    </tr>\n",
       "    <tr>\n",
       "      <th>Alderbury</th>\n",
       "      <th>220.265544</th>\n",
       "      <td>80.282201</td>\n",
       "      <td>113.684266</td>\n",
       "      <td>6.48</td>\n",
       "      <td>NaN</td>\n",
       "      <td>8.575225</td>\n",
       "      <td>NaN</td>\n",
       "      <td>NaN</td>\n",
       "      <td>NaN</td>\n",
       "      <td>NaN</td>\n",
       "      <td>0.000620</td>\n",
       "      <td>...</td>\n",
       "      <td>0.937306</td>\n",
       "      <td>NaN</td>\n",
       "      <td>NaN</td>\n",
       "      <td>NaN</td>\n",
       "      <td>NaN</td>\n",
       "      <td>0.000070</td>\n",
       "      <td>1.230358</td>\n",
       "      <td>NaN</td>\n",
       "      <td>NaN</td>\n",
       "      <td>NaN</td>\n",
       "    </tr>\n",
       "    <tr>\n",
       "      <th>All Cannings</th>\n",
       "      <th>203.089060</th>\n",
       "      <td>NaN</td>\n",
       "      <td>3.288095</td>\n",
       "      <td>54.56</td>\n",
       "      <td>NaN</td>\n",
       "      <td>95.254775</td>\n",
       "      <td>NaN</td>\n",
       "      <td>NaN</td>\n",
       "      <td>NaN</td>\n",
       "      <td>NaN</td>\n",
       "      <td>16.867401</td>\n",
       "      <td>...</td>\n",
       "      <td>5.178382</td>\n",
       "      <td>NaN</td>\n",
       "      <td>NaN</td>\n",
       "      <td>NaN</td>\n",
       "      <td>NaN</td>\n",
       "      <td>0.917085</td>\n",
       "      <td>1.764418</td>\n",
       "      <td>NaN</td>\n",
       "      <td>NaN</td>\n",
       "      <td>0.035156</td>\n",
       "    </tr>\n",
       "    <tr>\n",
       "      <th>Allington</th>\n",
       "      <th>322.107318</th>\n",
       "      <td>NaN</td>\n",
       "      <td>44.909382</td>\n",
       "      <td>NaN</td>\n",
       "      <td>NaN</td>\n",
       "      <td>262.895237</td>\n",
       "      <td>NaN</td>\n",
       "      <td>NaN</td>\n",
       "      <td>NaN</td>\n",
       "      <td>NaN</td>\n",
       "      <td>NaN</td>\n",
       "      <td>...</td>\n",
       "      <td>23.246086</td>\n",
       "      <td>NaN</td>\n",
       "      <td>NaN</td>\n",
       "      <td>NaN</td>\n",
       "      <td>NaN</td>\n",
       "      <td>NaN</td>\n",
       "      <td>0.391908</td>\n",
       "      <td>NaN</td>\n",
       "      <td>NaN</td>\n",
       "      <td>0.051299</td>\n",
       "    </tr>\n",
       "    <tr>\n",
       "      <th>Alton</th>\n",
       "      <th>130.436897</th>\n",
       "      <td>NaN</td>\n",
       "      <td>22.162646</td>\n",
       "      <td>NaN</td>\n",
       "      <td>NaN</td>\n",
       "      <td>101.926944</td>\n",
       "      <td>NaN</td>\n",
       "      <td>NaN</td>\n",
       "      <td>NaN</td>\n",
       "      <td>NaN</td>\n",
       "      <td>6.281162</td>\n",
       "      <td>...</td>\n",
       "      <td>9.869484</td>\n",
       "      <td>NaN</td>\n",
       "      <td>NaN</td>\n",
       "      <td>NaN</td>\n",
       "      <td>NaN</td>\n",
       "      <td>0.609083</td>\n",
       "      <td>0.002532</td>\n",
       "      <td>NaN</td>\n",
       "      <td>NaN</td>\n",
       "      <td>0.003805</td>\n",
       "    </tr>\n",
       "    <tr>\n",
       "      <th>...</th>\n",
       "      <th>...</th>\n",
       "      <td>...</td>\n",
       "      <td>...</td>\n",
       "      <td>...</td>\n",
       "      <td>...</td>\n",
       "      <td>...</td>\n",
       "      <td>...</td>\n",
       "      <td>...</td>\n",
       "      <td>...</td>\n",
       "      <td>...</td>\n",
       "      <td>...</td>\n",
       "      <td>...</td>\n",
       "      <td>...</td>\n",
       "      <td>...</td>\n",
       "      <td>...</td>\n",
       "      <td>...</td>\n",
       "      <td>...</td>\n",
       "      <td>...</td>\n",
       "      <td>...</td>\n",
       "      <td>...</td>\n",
       "      <td>...</td>\n",
       "      <td>...</td>\n",
       "    </tr>\n",
       "    <tr>\n",
       "      <th>Worton</th>\n",
       "      <th>2.766168</th>\n",
       "      <td>NaN</td>\n",
       "      <td>2.306168</td>\n",
       "      <td>NaN</td>\n",
       "      <td>NaN</td>\n",
       "      <td>NaN</td>\n",
       "      <td>NaN</td>\n",
       "      <td>NaN</td>\n",
       "      <td>NaN</td>\n",
       "      <td>NaN</td>\n",
       "      <td>NaN</td>\n",
       "      <td>...</td>\n",
       "      <td>NaN</td>\n",
       "      <td>NaN</td>\n",
       "      <td>NaN</td>\n",
       "      <td>NaN</td>\n",
       "      <td>NaN</td>\n",
       "      <td>NaN</td>\n",
       "      <td>0.115519</td>\n",
       "      <td>NaN</td>\n",
       "      <td>NaN</td>\n",
       "      <td>NaN</td>\n",
       "    </tr>\n",
       "    <tr>\n",
       "      <th>Wroughton</th>\n",
       "      <th>132.575646</th>\n",
       "      <td>NaN</td>\n",
       "      <td>71.912270</td>\n",
       "      <td>5.98</td>\n",
       "      <td>NaN</td>\n",
       "      <td>38.149100</td>\n",
       "      <td>NaN</td>\n",
       "      <td>NaN</td>\n",
       "      <td>NaN</td>\n",
       "      <td>NaN</td>\n",
       "      <td>10.020000</td>\n",
       "      <td>...</td>\n",
       "      <td>1.386193</td>\n",
       "      <td>NaN</td>\n",
       "      <td>NaN</td>\n",
       "      <td>NaN</td>\n",
       "      <td>NaN</td>\n",
       "      <td>0.364011</td>\n",
       "      <td>0.224619</td>\n",
       "      <td>0.001650</td>\n",
       "      <td>NaN</td>\n",
       "      <td>0.010313</td>\n",
       "    </tr>\n",
       "    <tr>\n",
       "      <th>Wylye</th>\n",
       "      <th>222.264509</th>\n",
       "      <td>37.227931</td>\n",
       "      <td>48.608966</td>\n",
       "      <td>17.02</td>\n",
       "      <td>NaN</td>\n",
       "      <td>109.867612</td>\n",
       "      <td>NaN</td>\n",
       "      <td>NaN</td>\n",
       "      <td>NaN</td>\n",
       "      <td>NaN</td>\n",
       "      <td>4.190000</td>\n",
       "      <td>...</td>\n",
       "      <td>6.832405</td>\n",
       "      <td>NaN</td>\n",
       "      <td>NaN</td>\n",
       "      <td>NaN</td>\n",
       "      <td>NaN</td>\n",
       "      <td>0.260464</td>\n",
       "      <td>0.301087</td>\n",
       "      <td>NaN</td>\n",
       "      <td>NaN</td>\n",
       "      <td>0.031326</td>\n",
       "    </tr>\n",
       "    <tr>\n",
       "      <th>Yatton Keynell</th>\n",
       "      <th>67.375188</th>\n",
       "      <td>NaN</td>\n",
       "      <td>37.037649</td>\n",
       "      <td>NaN</td>\n",
       "      <td>NaN</td>\n",
       "      <td>23.660000</td>\n",
       "      <td>NaN</td>\n",
       "      <td>NaN</td>\n",
       "      <td>NaN</td>\n",
       "      <td>NaN</td>\n",
       "      <td>NaN</td>\n",
       "      <td>...</td>\n",
       "      <td>3.326458</td>\n",
       "      <td>NaN</td>\n",
       "      <td>NaN</td>\n",
       "      <td>NaN</td>\n",
       "      <td>NaN</td>\n",
       "      <td>NaN</td>\n",
       "      <td>0.922185</td>\n",
       "      <td>NaN</td>\n",
       "      <td>NaN</td>\n",
       "      <td>0.017380</td>\n",
       "    </tr>\n",
       "    <tr>\n",
       "      <th>Zeals</th>\n",
       "      <th>39.812880</th>\n",
       "      <td>NaN</td>\n",
       "      <td>27.352881</td>\n",
       "      <td>5.10</td>\n",
       "      <td>NaN</td>\n",
       "      <td>5.390000</td>\n",
       "      <td>NaN</td>\n",
       "      <td>NaN</td>\n",
       "      <td>NaN</td>\n",
       "      <td>NaN</td>\n",
       "      <td>NaN</td>\n",
       "      <td>...</td>\n",
       "      <td>0.838810</td>\n",
       "      <td>NaN</td>\n",
       "      <td>NaN</td>\n",
       "      <td>NaN</td>\n",
       "      <td>NaN</td>\n",
       "      <td>NaN</td>\n",
       "      <td>0.278241</td>\n",
       "      <td>0.008704</td>\n",
       "      <td>NaN</td>\n",
       "      <td>0.014006</td>\n",
       "    </tr>\n",
       "  </tbody>\n",
       "</table>\n",
       "<p>278 rows × 28 columns</p>\n",
       "</div>"
      ],
      "text/plain": [
       "                                                    sum_AreaHa_x  \\\n",
       "MainHabs                    Coastal and floodplain grazing marsh   \n",
       "NAME           sum_AreaHa_y                                        \n",
       "Aldbourne      228.102996                                    NaN   \n",
       "Alderbury      220.265544                              80.282201   \n",
       "All Cannings   203.089060                                    NaN   \n",
       "Allington      322.107318                                    NaN   \n",
       "Alton          130.436897                                    NaN   \n",
       "...                                                          ...   \n",
       "Worton         2.766168                                      NaN   \n",
       "Wroughton      132.575646                                    NaN   \n",
       "Wylye          222.264509                              37.227931   \n",
       "Yatton Keynell 67.375188                                     NaN   \n",
       "Zeals          39.812880                                     NaN   \n",
       "\n",
       "                                                \\\n",
       "MainHabs                    Deciduous woodland   \n",
       "NAME           sum_AreaHa_y                      \n",
       "Aldbourne      228.102996           112.806569   \n",
       "Alderbury      220.265544           113.684266   \n",
       "All Cannings   203.089060             3.288095   \n",
       "Allington      322.107318            44.909382   \n",
       "Alton          130.436897            22.162646   \n",
       "...                                        ...   \n",
       "Worton         2.766168               2.306168   \n",
       "Wroughton      132.575646            71.912270   \n",
       "Wylye          222.264509            48.608966   \n",
       "Yatton Keynell 67.375188             37.037649   \n",
       "Zeals          39.812880             27.352881   \n",
       "\n",
       "                                                                  \\\n",
       "MainHabs                    Good quality semi improved grassland   \n",
       "NAME           sum_AreaHa_y                                        \n",
       "Aldbourne      228.102996                                    NaN   \n",
       "Alderbury      220.265544                                   6.48   \n",
       "All Cannings   203.089060                                  54.56   \n",
       "Allington      322.107318                                    NaN   \n",
       "Alton          130.436897                                    NaN   \n",
       "...                                                          ...   \n",
       "Worton         2.766168                                      NaN   \n",
       "Wroughton      132.575646                                   5.98   \n",
       "Wylye          222.264509                                  17.02   \n",
       "Yatton Keynell 67.375188                                     NaN   \n",
       "Zeals          39.812880                                    5.10   \n",
       "\n",
       "                                                                                      \\\n",
       "MainHabs                    Good quality semi improved grassland,Traditional orchard   \n",
       "NAME           sum_AreaHa_y                                                            \n",
       "Aldbourne      228.102996                                                  NaN         \n",
       "Alderbury      220.265544                                                  NaN         \n",
       "All Cannings   203.089060                                                  NaN         \n",
       "Allington      322.107318                                                  NaN         \n",
       "Alton          130.436897                                                  NaN         \n",
       "...                                                                        ...         \n",
       "Worton         2.766168                                                    NaN         \n",
       "Wroughton      132.575646                                                  NaN         \n",
       "Wylye          222.264509                                                  NaN         \n",
       "Yatton Keynell 67.375188                                                   NaN         \n",
       "Zeals          39.812880                                                   NaN         \n",
       "\n",
       "                                                          \\\n",
       "MainHabs                    Lowland calcareous grassland   \n",
       "NAME           sum_AreaHa_y                                \n",
       "Aldbourne      228.102996                      49.080356   \n",
       "Alderbury      220.265544                       8.575225   \n",
       "All Cannings   203.089060                      95.254775   \n",
       "Allington      322.107318                     262.895237   \n",
       "Alton          130.436897                     101.926944   \n",
       "...                                                  ...   \n",
       "Worton         2.766168                              NaN   \n",
       "Wroughton      132.575646                      38.149100   \n",
       "Wylye          222.264509                     109.867612   \n",
       "Yatton Keynell 67.375188                       23.660000   \n",
       "Zeals          39.812880                        5.390000   \n",
       "\n",
       "                                                        \\\n",
       "MainHabs                    Lowland dry acid grassland   \n",
       "NAME           sum_AreaHa_y                              \n",
       "Aldbourne      228.102996                          NaN   \n",
       "Alderbury      220.265544                          NaN   \n",
       "All Cannings   203.089060                          NaN   \n",
       "Allington      322.107318                          NaN   \n",
       "Alton          130.436897                          NaN   \n",
       "...                                                ...   \n",
       "Worton         2.766168                            NaN   \n",
       "Wroughton      132.575646                          NaN   \n",
       "Wylye          222.264509                          NaN   \n",
       "Yatton Keynell 67.375188                           NaN   \n",
       "Zeals          39.812880                           NaN   \n",
       "\n",
       "                                                                          \\\n",
       "MainHabs                    Lowland dry acid grassland,Lowland heathland   \n",
       "NAME           sum_AreaHa_y                                                \n",
       "Aldbourne      228.102996                                            NaN   \n",
       "Alderbury      220.265544                                            NaN   \n",
       "All Cannings   203.089060                                            NaN   \n",
       "Allington      322.107318                                            NaN   \n",
       "Alton          130.436897                                            NaN   \n",
       "...                                                                  ...   \n",
       "Worton         2.766168                                              NaN   \n",
       "Wroughton      132.575646                                            NaN   \n",
       "Wylye          222.264509                                            NaN   \n",
       "Yatton Keynell 67.375188                                             NaN   \n",
       "Zeals          39.812880                                             NaN   \n",
       "\n",
       "                                                                            \\\n",
       "MainHabs                    Lowland fens Lowland heathland Lowland meadows   \n",
       "NAME           sum_AreaHa_y                                                  \n",
       "Aldbourne      228.102996            NaN               NaN        4.880000   \n",
       "Alderbury      220.265544            NaN               NaN        0.000620   \n",
       "All Cannings   203.089060            NaN               NaN       16.867401   \n",
       "Allington      322.107318            NaN               NaN             NaN   \n",
       "Alton          130.436897            NaN               NaN        6.281162   \n",
       "...                                  ...               ...             ...   \n",
       "Worton         2.766168              NaN               NaN             NaN   \n",
       "Wroughton      132.575646            NaN               NaN       10.020000   \n",
       "Wylye          222.264509            NaN               NaN        4.190000   \n",
       "Yatton Keynell 67.375188             NaN               NaN             NaN   \n",
       "Zeals          39.812880             NaN               NaN             NaN   \n",
       "\n",
       "                             ...                  PercentArea  \\\n",
       "MainHabs                     ... Lowland calcareous grassland   \n",
       "NAME           sum_AreaHa_y  ...                                \n",
       "Aldbourne      228.102996    ...                     1.426651   \n",
       "Alderbury      220.265544    ...                     0.937306   \n",
       "All Cannings   203.089060    ...                     5.178382   \n",
       "Allington      322.107318    ...                    23.246086   \n",
       "Alton          130.436897    ...                     9.869484   \n",
       "...                          ...                          ...   \n",
       "Worton         2.766168      ...                          NaN   \n",
       "Wroughton      132.575646    ...                     1.386193   \n",
       "Wylye          222.264509    ...                     6.832405   \n",
       "Yatton Keynell 67.375188     ...                     3.326458   \n",
       "Zeals          39.812880     ...                     0.838810   \n",
       "\n",
       "                                                        \\\n",
       "MainHabs                    Lowland dry acid grassland   \n",
       "NAME           sum_AreaHa_y                              \n",
       "Aldbourne      228.102996                          NaN   \n",
       "Alderbury      220.265544                          NaN   \n",
       "All Cannings   203.089060                          NaN   \n",
       "Allington      322.107318                          NaN   \n",
       "Alton          130.436897                          NaN   \n",
       "...                                                ...   \n",
       "Worton         2.766168                            NaN   \n",
       "Wroughton      132.575646                          NaN   \n",
       "Wylye          222.264509                          NaN   \n",
       "Yatton Keynell 67.375188                           NaN   \n",
       "Zeals          39.812880                           NaN   \n",
       "\n",
       "                                                                          \\\n",
       "MainHabs                    Lowland dry acid grassland,Lowland heathland   \n",
       "NAME           sum_AreaHa_y                                                \n",
       "Aldbourne      228.102996                                            NaN   \n",
       "Alderbury      220.265544                                            NaN   \n",
       "All Cannings   203.089060                                            NaN   \n",
       "Allington      322.107318                                            NaN   \n",
       "Alton          130.436897                                            NaN   \n",
       "...                                                                  ...   \n",
       "Worton         2.766168                                              NaN   \n",
       "Wroughton      132.575646                                            NaN   \n",
       "Wylye          222.264509                                            NaN   \n",
       "Yatton Keynell 67.375188                                             NaN   \n",
       "Zeals          39.812880                                             NaN   \n",
       "\n",
       "                                                                            \\\n",
       "MainHabs                    Lowland fens Lowland heathland Lowland meadows   \n",
       "NAME           sum_AreaHa_y                                                  \n",
       "Aldbourne      228.102996            NaN               NaN        0.141905   \n",
       "Alderbury      220.265544            NaN               NaN        0.000070   \n",
       "All Cannings   203.089060            NaN               NaN        0.917085   \n",
       "Allington      322.107318            NaN               NaN             NaN   \n",
       "Alton          130.436897            NaN               NaN        0.609083   \n",
       "...                                  ...               ...             ...   \n",
       "Worton         2.766168              NaN               NaN             NaN   \n",
       "Wroughton      132.575646            NaN               NaN        0.364011   \n",
       "Wylye          222.264509            NaN               NaN        0.260464   \n",
       "Yatton Keynell 67.375188             NaN               NaN             NaN   \n",
       "Zeals          39.812880             NaN               NaN             NaN   \n",
       "\n",
       "                                                                             \\\n",
       "MainHabs                    No main habitat but additional habitats present   \n",
       "NAME           sum_AreaHa_y                                                   \n",
       "Aldbourne      228.102996                                          1.778316   \n",
       "Alderbury      220.265544                                          1.230358   \n",
       "All Cannings   203.089060                                          1.764418   \n",
       "Allington      322.107318                                          0.391908   \n",
       "Alton          130.436897                                          0.002532   \n",
       "...                                                                     ...   \n",
       "Worton         2.766168                                            0.115519   \n",
       "Wroughton      132.575646                                          0.224619   \n",
       "Wylye          222.264509                                          0.301087   \n",
       "Yatton Keynell 67.375188                                           0.922185   \n",
       "Zeals          39.812880                                           0.278241   \n",
       "\n",
       "                                                                           \\\n",
       "MainHabs                        Ponds Purple moor grass and rush pastures   \n",
       "NAME           sum_AreaHa_y                                                 \n",
       "Aldbourne      228.102996         NaN                                 NaN   \n",
       "Alderbury      220.265544         NaN                                 NaN   \n",
       "All Cannings   203.089060         NaN                                 NaN   \n",
       "Allington      322.107318         NaN                                 NaN   \n",
       "Alton          130.436897         NaN                                 NaN   \n",
       "...                               ...                                 ...   \n",
       "Worton         2.766168           NaN                                 NaN   \n",
       "Wroughton      132.575646    0.001650                                 NaN   \n",
       "Wylye          222.264509         NaN                                 NaN   \n",
       "Yatton Keynell 67.375188          NaN                                 NaN   \n",
       "Zeals          39.812880     0.008704                                 NaN   \n",
       "\n",
       "                                                 \n",
       "MainHabs                    Traditional orchard  \n",
       "NAME           sum_AreaHa_y                      \n",
       "Aldbourne      228.102996              0.004965  \n",
       "Alderbury      220.265544                   NaN  \n",
       "All Cannings   203.089060              0.035156  \n",
       "Allington      322.107318              0.051299  \n",
       "Alton          130.436897              0.003805  \n",
       "...                                         ...  \n",
       "Worton         2.766168                     NaN  \n",
       "Wroughton      132.575646              0.010313  \n",
       "Wylye          222.264509              0.031326  \n",
       "Yatton Keynell 67.375188               0.017380  \n",
       "Zeals          39.812880               0.014006  \n",
       "\n",
       "[278 rows x 28 columns]"
      ]
     },
     "execution_count": 32,
     "metadata": {},
     "output_type": "execute_result"
    }
   ],
   "source": [
    "df_all.pivot(columns = \"MainHabs\",index = [\"NAME\",'sum_AreaHa_y'],values = [ 'sum_AreaHa_x','PercentArea'])"
   ]
  }
 ],
 "metadata": {
  "kernelspec": {
   "display_name": "neighbourhood_plan_venv",
   "language": "python",
   "name": "neighbourhood_plan_venv"
  },
  "language_info": {
   "codemirror_mode": {
    "name": "ipython",
    "version": 3
   },
   "file_extension": ".py",
   "mimetype": "text/x-python",
   "name": "python",
   "nbconvert_exporter": "python",
   "pygments_lexer": "ipython3",
   "version": "3.11.9"
  }
 },
 "nbformat": 4,
 "nbformat_minor": 5
}
