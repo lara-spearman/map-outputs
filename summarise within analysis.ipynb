{
 "cells": [
  {
   "cell_type": "code",
   "execution_count": 165,
   "id": "b8ddc88e",
   "metadata": {},
   "outputs": [
    {
     "name": "stdout",
     "output_type": "stream",
     "text": [
      "PyTables is not installed. No support for HDF output.\n",
      "SQLalchemy is not installed. No support for SQL output.\n"
     ]
    }
   ],
   "source": [
    "import pandas as pd\n",
    "import plotly.express as px\n",
    "import plotly.graph_objects as go\n",
    "import os\n",
    "from simpledbf import Dbf5"
   ]
  },
  {
   "cell_type": "code",
   "execution_count": 44,
   "id": "68364400",
   "metadata": {},
   "outputs": [],
   "source": [
    "# Set location\n",
    "home_location = \"C:/Users/Lara/Work/Neighbourhood plans/map-outputs\"\n",
    "home_data_location = \"C:/Users/Lara/Work/Neighbourhood plans/Summary stats/Data\"\n",
    "\n",
    "work_location = \"O:/LocalAuthorities/Neighbourhood_Plans/Research/Summary stats/Python/map-outputs\"\n",
    "work_data_location = \"O:/LocalAuthorities/Neighbourhood_Plans/Research/NeigbourhoodPlansPython/\"\n",
    "\n",
    "\n",
    "location = work_location\n",
    "location_data = work_data_location\n"
   ]
  },
  {
   "cell_type": "markdown",
   "id": "1c374f8f",
   "metadata": {},
   "source": [
    "### Process pre made data"
   ]
  },
  {
   "cell_type": "code",
   "execution_count": null,
   "id": "7a145ab3",
   "metadata": {},
   "outputs": [],
   "source": [
    "processed = \"O:/LocalAuthorities/Neighbourhood_Plans/Info/Amalgamated Spatial Stats - Tabulate.xlsx\"\n",
    "processed_df = pd.read_excel(processed)\n"
   ]
  },
  {
   "cell_type": "code",
   "execution_count": null,
   "id": "1f76275f",
   "metadata": {},
   "outputs": [],
   "source": [
    "for file in os.listdir(location):\n",
    "    if file.endswith(\".dbf\"):\n",
    "\n",
    "\n",
    "        dbf = Dbf5(f\"{location}/{file}\")\n",
    "        df = dbf.to_dataframe()\n",
    "        print(file)\n",
    "        print(df.columns)"
   ]
  },
  {
   "cell_type": "code",
   "execution_count": 291,
   "id": "ea531e30",
   "metadata": {},
   "outputs": [
    {
     "name": "stdout",
     "output_type": "stream",
     "text": [
      "'CEH_LCM21_Councils.xlsx'\n",
      "'Conservation_Areas_Councils.xlsx'\n",
      "'CRT_KACanal_Councils.xlsx'\n",
      "'FC_NFI21_Councils.xlsx'\n",
      "'FC_Sites.xlsx'\n",
      "'HE_Listed_Buildings_Councils.xlsx'\n",
      "'HE_Parks_Gardens_Councils.xlsx'\n",
      "'HE_Scheduled_Monuments.xlsx'\n",
      "'OS_Greenspace_Councils.xlsx'\n",
      "'PlacesOfWorship_LivingChurchyards_Councils.xlsx'\n",
      "'Protected_Landscapes_Councils.xlsx'\n",
      "'Wiltshire_Council_Land_Councils.xlsx'\n",
      "'WSBRC_CWS_Councils.xlsx'\n",
      "'WSBRC_eNGO_Sites.xlsx'\n",
      "'WSBRC_LEWWP_Councils.xlsx'\n",
      "'WSBRC_Priority_Habitats_Councils.xlsx'\n",
      "'WSBRC_PRSV_Councils.xlsx'\n",
      "'WT_ATI_Councils.xlsx'\n",
      "'WWT_Protected_Areas_Councils.xlsx'\n",
      "'WWT_Reserves_Councils.xlsx'\n",
      "'~$HE_Listed_Buildings_Councils.xlsx'\n",
      "'~$HE_Scheduled_Monuments.xlsx'\n",
      "'~$WWT_Protected_Areas_Councils.xlsx'\n"
     ]
    }
   ],
   "source": [
    "location =\"O:/LocalAuthorities/Neighbourhood_Plans/Info/Raw Info\"\n",
    "for file in os.listdir(location):\n",
    "    if file.endswith(\".xlsx\"):\n",
    "        print(f\"'{file}'\")\n"
   ]
  },
  {
   "cell_type": "code",
   "execution_count": 318,
   "id": "bc57c513",
   "metadata": {},
   "outputs": [],
   "source": [
    "file_info_excel = {\n",
    "     \"CEH_LCM21_Councils\":{\"group\":\"TBC\",\n",
    "                                            \"group_field\":\"_mode\",\n",
    "                                            \"unit\":\"HECTARES\",\n",
    "                                            \"unit_type\":\"AREA\",\n",
    "                                            \"area_col_name\":\"Area Ha\",\n",
    "                                            \"tab\":\"CEH_LCM21_Councils\"},\n",
    "    \"WSBRC_LEWWP_Councils\":{\"group\":\"Woodland\",\n",
    "                                            \"group_field\":\"P3_CLASS\",\n",
    "                                            \"unit\":\"HECTARES\",\n",
    "                                            \"unit_type\":\"AREA\",\n",
    "                                            \"tab\":\"WSBRC_LEWWP_Councils\",\n",
    "                                            \"area_col_name\":\"AREA\",},\n",
    "    \"WT_ATI_Councils\":{\"group\":\"Woodland\",\n",
    "                                            \"group_field\":False,\n",
    "                                            \"unit\":\"COUNT\",\n",
    "                                            \"unit_type\":\"COUNT\",\n",
    "                                            \"tab\":False,\n",
    "                                            \"area_col_name\":\"Join_Count\",},\n",
    "    \"WSBRC_Priority_Habitats_Councils\":{\"group\":\"WSBRC Priority Habitats\",\n",
    "                                            \"group_field\":\"PH_Name\",\n",
    "                                            \"unit\":\"HECTARES\",\n",
    "                                            \"unit_type\":\"AREA\",\n",
    "                                            \"tab\":\"WSBRC_Priority_Habitats_Council\",\n",
    "                                            \"area_col_name\":\"AREA\",},\n",
    "    \"FC_NFI21_Councils\":{\"group\":\"TBC\",\n",
    "                                            \"group_field\":\"IFT_IOA\",\n",
    "                                            \"unit\":\"HECTARES\",\n",
    "                                            \"unit_type\":\"AREA\",\n",
    "                                            \"tab\":\"FC_NFI21_Councils\",\n",
    "                                            \"area_col_name\":\"AREA\",},\n",
    "     \"WWT_Reserves_Councils\":{\"group\":\"Protected Areas\",\n",
    "                                            \"group_field\":\"Complex\",\n",
    "                                            \"unit\":\"HECTARES\",\n",
    "                                            \"unit_type\":\"AREA\",\n",
    "                                            \"tab\":\"WWT_Reserves_Councils\",\n",
    "                                            \"area_col_name\":\"AREA\",},  \n",
    "     \"WSBRC_CWS_Councils\":{\"group\":\"Priority Habitat\",\n",
    "                                            \"group_field\":False,\n",
    "                                            \"unit\":\"HECTARES\",\n",
    "                                            \"unit_type\":\"AREA\",\n",
    "                                            \"tab\":\"WSBRC_CWS_Councils\",\n",
    "                                            \"area_col_name\":\"AREA\",},  \n",
    "     \"WSBRC_PRSV_Councils\":{\"group\":\"Priority Habitat\",\n",
    "                                            \"group_field\":False,\n",
    "                                            \"unit\":\"HECTARES\",\n",
    "                                            \"unit_type\":\"AREA\",\n",
    "                                            \"tab\":\"WSBRC_PRSV_Councils\",\n",
    "                                            \"area_col_name\":\"AREA\",},  \n",
    "     \"HE_Listed_Buildings_Councils\":{\"group\":\"Heritage\",\n",
    "                                            \"group_field\":False,\n",
    "                                            \"unit\":\"Count\",\n",
    "                                            \"unit_type\":\"Count\",\n",
    "                                            \"tab\":\"HE_Listed_Buildings_Councils\",\n",
    "                                            \"area_col_name\":\"Point_Coun\",},    \n",
    "    \"HE_Parks_Gardens_Councils\":{\"group\":\"Heritage\",\n",
    "                                            \"group_field\":False,\n",
    "                                            \"unit\":\"HECTARES\",\n",
    "                                            \"unit_type\":\"AREA\",\n",
    "                                            \"tab\":\"HE_Parks_Gardens_Councils\",\n",
    "                                            \"area_col_name\":\"AREA\",},    \n",
    "    \"HE_Scheduled_Monuments\":{\"group\":\"Heritage\",\n",
    "                                            \"group_field\":False,\n",
    "                                          \"unit\":\"Count\",\n",
    "                                            \"unit_type\":\"Count\",\n",
    "                                            \"tab\":\"HE_Scheduled_Monuments\",\n",
    "                                            \"area_col_name\":\"Polygon_Co\",},                                                                                                                          \n",
    "   \n",
    "    \"PlacesOfWorship_LivingChurchyards_Councils\":{\"group\":\"Churches and Nature\",\n",
    "                                            \"group_field\":False,\n",
    "                                            \"unit\":\"COUNT\",\n",
    "                                            \"unit_type\":\"COUNT\",\n",
    "                                            \"tab\":\"PlacesOfWorship_incLC_Councils\",\n",
    "                                            \"area_col_name\":\"COUNT\",},                              \n",
    "    # Need to look into, duplicated so need to summarise\n",
    "    # \"Wiltshire_Council_Land_Councils\":{\"group\":\"Other Land\",\n",
    "    #                                         \"group_field\":False,\n",
    "    #                                         \"unit\":\"HECTARES\",\n",
    "    #                                         \"unit_type\":\"AREA\",\n",
    "    #                                         \"tab\":\"Wiltshire_Council_Land_Councils\",\n",
    "    #                                         \"area_col_name\":\"AREA\",},                                          \n",
    "    # # Need to run canals again\n",
    "    # \"CRT_KACanal_Councils\":{\"group\":\"Protected Areas\",\n",
    "    #                                         \"group_field\":\"Complex\",\n",
    "    #                                         \"unit\":\"HECTARES\",\n",
    "    #                                         \"unit_type\":\"AREA\",\n",
    "    #                                         \"tab\":\"WWT_Reserves_Councils\",\n",
    "    #                                         \"area_col_name\":\"AREA\",},    \n",
    "    # Need to look into, duplicated Names so need to summarise     \n",
    "    # \"FC_Sites\":{\"group\":\"Other Land\",\n",
    "    #                                         \"group_field\":False,\n",
    "    #                                         \"unit\":\"HECTARES\",\n",
    "    #                                         \"unit_type\":\"AREA\",\n",
    "    #                                         \"tab\":\"FC_Sites\",\n",
    "    #                                         \"area_col_name\":\"AREA\",},                                                                                    \n",
    "\n",
    "}"
   ]
  },
  {
   "cell_type": "code",
   "execution_count": 304,
   "id": "733d2469",
   "metadata": {},
   "outputs": [],
   "source": [
    "file_info_dbf = {\n",
    "     \"ALC_Councils_Types\":{\"group\":\"TBC\",\n",
    "                                            \"group_field\":\"ALC_GRADE\",\n",
    "                                            \"unit\":\"HECTARES\",\n",
    "                                            \"unit_type\":\"AREA\",\n",
    "                                            \"area_col_name\":\"AREA\"},\n",
    "    \"BGS_Bedrock_Councils\":{\"group\":\"Geology\",\n",
    "                                            \"group_field\":\"LEX_RCS_D\",\n",
    "                                            \"unit\":\"HECTARES\",\n",
    "                                            \"unit_type\":\"AREA\",\n",
    "                                            \"area_col_name\":\"AREA\",},\n",
    "    \"BGS_Faultlines_Councils\":{\"group\":\"Geology\",\n",
    "                                            \"group_field\":\"CATEGORY\",\n",
    "                                            \"unit\":\"METERS\",\n",
    "                                            \"unit_type\":\"LENGTH\",\n",
    "                                            \"area_col_name\":\"LENGTH\",},\n",
    "    \"CEH_Lakes_Inventory_Councils\":{\"group\":\"Water Features\",\n",
    "                                            \"group_field\":False,\n",
    "                                            \"unit\":\"HECTARES\",\n",
    "                                            \"unit_type\":\"AREA\",\n",
    "                                            \"area_col_name\":\"AREA\",},\n",
    "    \"CEH_LCM21_Councils\":{\"group\":\"CEH Land Cover\",\n",
    "                                            \"group_field\":\"_mode\",\n",
    "                                            \"unit\":\"HECTARES\",\n",
    "                                            \"unit_type\":\"AREA\",\n",
    "                                            \"area_col_name\":\"AREA\",},\n",
    "    \"Conservation_Areas_Councils\":{\"group\":\"TBC\",\n",
    "                                            \"group_field\":False,\n",
    "                                            \"unit\":\"HECTARES\",\n",
    "                                            \"unit_type\":\"AREA\",\n",
    "                                            \"area_col_name\":\"sum_area_h\",},\n",
    "    \"Country_Parks_Councils\":{\"group\":\"Access & Routeways\",\n",
    "                                            \"group_field\":False,\n",
    "                                            \"unit\":\"HECTARES\",\n",
    "                                            \"unit_type\":\"AREA\",\n",
    "                                            \"area_col_name\":\"AREA\",},\n",
    "    \"Crown_Estates_Land_Councils\":{\"group\":\"Other Land\",\n",
    "                                            \"group_field\":False,\n",
    "                                            \"unit\":\"HECTARES\",\n",
    "                                            \"unit_type\":\"AREA\",\n",
    "                                            \"area_col_name\":\"AREA\",},       \n",
    "    \"EA_Flood_Alert_Areas_Councils\":{\"group\":\"Water Features\",\n",
    "                                            \"group_field\":False,\n",
    "                                            \"unit\":\"HECTARES\",\n",
    "                                            \"unit_type\":\"AREA\",\n",
    "                                            \"area_col_name\":\"AREA\",},\n",
    "    \"EA_Flood_Warning_Areas_Councils\":{\"group\":\"Water Features\",\n",
    "                                            \"group_field\":False,\n",
    "                                            \"unit\":\"HECTARES\",\n",
    "                                            \"unit_type\":\"AREA\",\n",
    "                                            \"area_col_name\":\"AREA\",},\n",
    "    \"EA_Main_Rivers_Councils\":{\"group\":\"Water Features\",\n",
    "                                            \"group_field\":False,\n",
    "                                            \"unit\":\"METERS\",\n",
    "                                            \"unit_type\":\"LENGTH\",\n",
    "                                            \"area_col_name\":\"LENGTH\",},  \n",
    "     \"EA_Risk_of_Flooding_Councils\":{\"group\":\"Water Features\",\n",
    "                                            \"group_field\":False,\n",
    "                                            \"unit\":\"HECTARES\",\n",
    "                                            \"unit_type\":\"AREA\",\n",
    "                                            \"area_col_name\":\"AREA\",},\n",
    "    \"FC_NFI21_Councils\":{\"group\":\"Woodland\",\n",
    "                                            \"group_field\":\"IFT_IOA\",\n",
    "                                            \"unit\":\"HECTARES\",\n",
    "                                            \"unit_type\":\"AREA\",\n",
    "                                            \"area_col_name\":\"AREA\",},       \n",
    "    \"Forest_Roads_Councils\":{\"group\":\"TBC\",\n",
    "                                            \"group_field\":False,\n",
    "                                            \"unit\":\"METERS\",\n",
    "                                            \"unit_type\":\"LENGTH\",\n",
    "                                            \"area_col_name\":\"LENGTH\",},\n",
    "    \"Hedgerows_Councils\":{\"group\":\"Priority Habitat\",\n",
    "                                            \"group_field\":False,\n",
    "                                            \"unit\":\"METERS\",\n",
    "                                            \"unit_type\":\"LENGTH\",\n",
    "                                            \"area_col_name\":\"LENGTH\"},\n",
    "    \"HE_WHS_Count_Councils\":{\"group\":\"TBC\",\n",
    "                                            \"group_field\":False,\n",
    "                                            \"unit\":\"COUNT\",\n",
    "                                            \"unit_type\":\"COUNT\",\n",
    "                                            \"area_col_name\":\"COUNT\",},   \n",
    "     # \"HLC_Councils\":{\"group\":\"TBC\",\n",
    "     #                                        \"group_field\":False,\n",
    "     #                                        \"unit\":\"HECTARES\",\n",
    "     #                                        \"unit_type\":\"AREA\",\n",
    "     #                                        \"area_col_name\":\"AREA\",},\n",
    "    \"LCA_Councils\":{\"group\":\"Landscape Character\",\n",
    "                                            \"group_field\":\"Wc_lct\",\n",
    "                                            \"unit\":\"HECTARES\",\n",
    "                                            \"unit_type\":\"AREA\",\n",
    "                                            \"area_col_name\":\"AREA\",},       \n",
    "    \"MOD_Land_Councils\":{\"group\":\"Other Land\",\n",
    "                                            \"group_field\":False,\n",
    "                                            \"unit\":\"HECTARES\",\n",
    "                                            \"unit_type\":\"AREA\",\n",
    "                                            \"area_col_name\":\"AREA\"},\n",
    "    \"NCN_Councils\":{\"group\":\"Access & Routeways\",\n",
    "                                            \"group_field\":False,\n",
    "                                            \"unit\":\"METERS\",\n",
    "                                            \"unit_type\":\"LENGTH\",\n",
    "                                            \"area_col_name\":\"LENGTH\"},\n",
    "    \"NEPHI_Councils\":{\"group\":\"PHI\",\n",
    "                                            \"group_field\":\"MainHabs\",\n",
    "                                            \"unit\":\"HECTARES\",\n",
    "                                            \"unit_type\":\"AREA\",\n",
    "                                            \"area_col_name\":\"AREA\"},  \n",
    "     \"NEPriorityPonds_Councils\":{\"group\":\"Priority Habitat\",\n",
    "                                            \"group_field\":False,\n",
    "                                            \"unit\":\"COUNT\",\n",
    "                                            \"unit_type\":\"COUNT\",\n",
    "                                            \"area_col_name\":\"PNT_COUNT\",},       \n",
    "    \"NE_Chalk_Streams_Councils\":{\"group\":\"Water Features\",\n",
    "                                            \"group_field\":False,\n",
    "                                            \"unit\":\"METERS\",\n",
    "                                            \"unit_type\":\"LENGTH\",\n",
    "                                            \"area_col_name\":\"LENGTH\"},\n",
    "    \"NE_Priority_Rivers_Councils\":{\"group\":\"Priority Habitat\",\n",
    "                                            \"group_field\":False,\n",
    "                                            \"unit\":\"METERS\",\n",
    "                                            \"unit_type\":\"LENGTH\",\n",
    "                                            \"area_col_name\":\"LENGTH\"},\n",
    "    \"NE_Traditional_Orchards_Councils\":{\"group\":\"Priority Habitat\",\n",
    "                                            \"group_field\":False,\n",
    "                                            \"unit\":\"HECTARES\",\n",
    "                                            \"unit_type\":\"AREA\",\n",
    "                                            \"area_col_name\":\"AREA\"},  \n",
    "     \"NE_Woodpasture_Parkland_Councils\":{\"group\":\"Priority Habitat\",\n",
    "                                            \"group_field\":False,\n",
    "                                            \"unit\":\"HECTARES\",\n",
    "                                            \"unit_type\":\"AREA\",\n",
    "                                            \"area_col_name\":\"AREA\"},\n",
    "    # \"NFI_AT\":{\"group\":\"TBC\",\n",
    "    #                                         \"group_field\":\"IFT_IOA\",\n",
    "    #                                         \"unit\":\"HECTARES\",\n",
    "    #                                         \"unit_type\":\"AREA\",\n",
    "    #                                         \"area_col_name\":\"Area_ha\"},\n",
    "    \"Protected_Landscapes_Councils\":{\"group\":\"Protected Landscape\",\n",
    "                                            \"group_field\":False,\n",
    "                                            \"unit\":\"HECTARES\",\n",
    "                                            \"unit_type\":\"AREA\",\n",
    "                                            \"area_col_name\":\"AREA\"},  \n",
    "     \"RCN_Councils\":{\"group\":\"Access & Routeways\",\n",
    "                                            \"group_field\":False,\n",
    "                                            \"unit\":\"METERS\",\n",
    "                                            \"unit_type\":\"LENGTH\",\n",
    "                                            \"area_col_name\":\"LENGTH\"},       \n",
    "#     \"RIGS_Councils\":{\"group\":\"Geology\",\n",
    "#                                             \"group_field\":False,\n",
    "#                                             \"unit\":\"METERS\",\n",
    "#                                             \"unit_type\":\"LENGTH\",\n",
    "#                                             \"area_col_name\":\"LENGTH\"},\n",
    "    \"WSBRC_LBAs_Councils\":{\"group\":\"LBAs\",\n",
    "                                            \"group_field\":False,\n",
    "                                            \"unit\":\"HECTARES\",\n",
    "                                            \"unit_type\":\"AREA\",\n",
    "                                            \"area_col_name\":\"AREA\"},\n",
    "                                                                                                                                                                                                                                                                                 \n",
    "}"
   ]
  },
  {
   "cell_type": "code",
   "execution_count": null,
   "id": "f8d6e6cd",
   "metadata": {},
   "outputs": [
    {
     "name": "stdout",
     "output_type": "stream",
     "text": [
      "CEH_LCM21_Councils\n",
      "WSBRC_LEWWP_Councils\n",
      "WT_ATI_Councils\n",
      "WSBRC_Priority_Habitats_Councils\n",
      "FC_NFI21_Councils\n",
      "WWT_Reserves_Councils\n",
      "WSBRC_CWS_Councils\n",
      "WSBRC_PRSV_Councils\n",
      "HE_Listed_Buildings_Councils\n",
      "HE_Parks_Gardens_Councils\n",
      "HE_Scheduled_Monuments\n",
      "PlacesOfWorship_LivingChurchyards_Councils\n"
     ]
    }
   ],
   "source": [
    "df_all_excel = pd.DataFrame({'NAME': [], 'value': [],'valuePercent': [],'groupColumnValue': [],'groupColumnName': [],'mapGroup': [],'mapName': []})\n",
    "\n",
    "for file in file_info_excel.keys():\n",
    "   layer_name = file\n",
    "   print(file)\n",
    "    #   df_table = pd.read_csv(f\"{location_data}/{layer_info[layer]['group']}_{layer_name}_table.csv\")\n",
    "   if file_info_excel[file]['tab']:\n",
    "      df_table = pd.read_excel(f\"{location}/{file}.xlsx\", sheet_name=file_info_excel[file]['tab'])\n",
    "   else:\n",
    "      df_table = pd.read_excel(f\"{location}/{file}.xlsx\")\n",
    "      \n",
    "   if file_info_excel[file]['group_field']:\n",
    "      df_table.rename(columns = {f\"{file_info_excel[file]['group_field']}\":\"groupColumnValue\"}, inplace=True)\n",
    "   else:\n",
    "      df_table['groupColumnValue'] = \"ALL\"\n",
    "\n",
    "   df_table.rename(columns = {f\"{file_info_excel[file]['area_col_name']}\":\"value\"}, inplace=True)\n",
    "   if \"PERCENTAGE\" in df_table.columns:\n",
    "      df_table.rename(columns = {\"PERCENTAGE\":\"valuePercent\"}, inplace=True)\n",
    "   else:\n",
    "      df_table['valuePercent'] = \"NA\"\n",
    "\n",
    "   df_table[\"mapGroup\"] = f\"{file_info_excel[file]['group']}\"\n",
    "   df_table[\"mapName\"] = f\"{layer_name}\"\n",
    "   df_table[\"groupColumnName\"] = file_info_excel[file]['group_field']\n",
    "   df_table[\"unitName\"] = file_info_excel[file]['unit']\n",
    "   df_layer_all = df_table[['NAME', \"value\",\"valuePercent\",\"mapGroup\",\"mapName\",\"groupColumnName\",\"groupColumnValue\",\"unitName\"]]\n",
    "   df_all_excel = pd.concat([df_all_excel,df_layer_all ])\n",
    " \n",
    " "
   ]
  },
  {
   "cell_type": "code",
   "execution_count": 335,
   "id": "514f41de",
   "metadata": {},
   "outputs": [],
   "source": [
    "df_all_dbf = pd.DataFrame({'NAME': [], 'value': [],'valuePercent': [],'groupColumnValue': [],'groupColumnName': [],'mapGroup': [],'mapName': []})\n",
    "\n",
    "for file in file_info_dbf.keys():\n",
    "    layer_name = file\n",
    "    # if file_info_dbf[file]['group_field']:\n",
    "    #   df_table = pd.read_csv(f\"{location_data}/{layer_info[layer]['group']}_{layer_name}_table.csv\")\n",
    "    dbf = Dbf5(f\"{location}/{file}.dbf\")\n",
    "    df_table = dbf.to_dataframe()\n",
    "    if file_info_dbf[file]['group_field'] != False:\n",
    "      df_table.rename(columns = {f\"{file_info_dbf[file]['group_field']}\":\"groupColumnValue\"}, inplace=True)\n",
    "    else:\n",
    "       df_table[\"groupColumnValue\"] = \"ALL\"\n",
    "    df_table.rename(columns = {f\"{file_info_dbf[file]['area_col_name']}\":\"value\"}, inplace=True)\n",
    "    if \"PERCENTAGE\" in df_table.columns:\n",
    "      df_table.rename(columns = {\"PERCENTAGE\":\"valuePercent\"}, inplace=True)\n",
    "    else:\n",
    "      df_table['valuePercent'] = \"NA\"\n",
    "\n",
    "    df_table[\"mapGroup\"] = f\"{file_info_dbf[file]['group']}\"\n",
    "    df_table[\"mapName\"] = f\"{layer_name}\"\n",
    "    df_table[\"groupColumnName\"] = file_info_dbf[file]['group_field']\n",
    "    df_table[\"unitName\"] = file_info_dbf[file]['unit']\n",
    "    df_layer_all = df_table[['NAME', \"value\",\"valuePercent\",\"mapGroup\",\"mapName\",\"groupColumnName\",\"groupColumnValue\",\"unitName\"]]\n",
    "    df_all_dbf = pd.concat([df_all_dbf,df_layer_all ])\n",
    " "
   ]
  },
  {
   "cell_type": "code",
   "execution_count": 336,
   "id": "3d46dc2a",
   "metadata": {},
   "outputs": [],
   "source": [
    "df_pre_combined = pd.concat([df_all_dbf, df_all_excel])"
   ]
  },
  {
   "cell_type": "markdown",
   "id": "f9107ce1",
   "metadata": {},
   "source": [
    "## Process pre made data"
   ]
  },
  {
   "cell_type": "code",
   "execution_count": 3,
   "id": "c2b3685c",
   "metadata": {},
   "outputs": [],
   "source": [
    "processed = \"O:/LocalAuthorities/Neighbourhood_Plans/Info/Amalgamated Spatial Stats - Tabulate.xlsx\"\n",
    "processed_df = pd.read_excel(processed)"
   ]
  },
  {
   "cell_type": "code",
   "execution_count": null,
   "id": "6eb61b46",
   "metadata": {},
   "outputs": [],
   "source": [
    "ancient = processed_df.iloc[:,0:4]\n",
    "ancient.columns = ancient.iloc[0,:]\n",
    "ancient = ancient.iloc[1:,:]"
   ]
  },
  {
   "cell_type": "markdown",
   "id": "9211f70d",
   "metadata": {},
   "source": [
    "# Process generated data"
   ]
  },
  {
   "cell_type": "code",
   "execution_count": 297,
   "id": "05600bb8",
   "metadata": {},
   "outputs": [],
   "source": [
    "layer_info = {\n",
    "    \"Sustrans National Cycle Network Route\":{\"group\":\"Access & Routeways\",\n",
    "                                             \"map_number\":\"Map5\",\n",
    "                                            \"group_field\":\"Desc_\",\n",
    "                                            \"unit\":\"METERS\",\n",
    "                                            \"unit_type\":\"Length\"},\n",
    "    \"Sustrans_Regional Cycle Route\":{\"group\":\"Access & Routeways\",\n",
    "                                      \"map_number\":\"Map5\",\n",
    "                     \"group_field\":\"Descriptio\",\n",
    "                                            \"unit\":\"METERS\",\n",
    "                                            \"unit_type\":\"Length\"},\n",
    "    \"Sustrans Reclassified Cycle Route\":{\"group\":\"Access & Routeways\",\n",
    "                                          \"map_number\":\"Map5\",\n",
    "                     \"group_field\":\"Desc_\",\n",
    "                                            \"unit\":\"METERS\",\n",
    "                                            \"unit_type\":\"Length\"},\n",
    "    \"Public Rights of Way\":{\"group\":\"Access & Routeways\",\n",
    "                             \"map_number\":\"Map5\",\n",
    "                     \"group_field\":\"LYR_NAME\",\n",
    "                                            \"unit\":\"METERS\",\n",
    "                                            \"unit_type\":\"Length\"},\n",
    "    \"FC Forest Roads\":{\"group\":\"Access & Routeways\",\n",
    "                        \"map_number\":\"Map5\",\n",
    "                     \"group_field\":False,\n",
    "                                            \"unit\":\"METERS\",\n",
    "                                            \"unit_type\":\"Length\"},\n",
    "    \"CRoW S16 Dedicated Land\":{\"group\":\"Access & Routeways\",\n",
    "                                \"map_number\":\"Map5\",\n",
    "                     \"group_field\":False,\n",
    "                     \"unit\":\"HECTARES\",\n",
    "                    \"unit_type\":\"Area\"},\n",
    "    # \"CRoW_S15 Land All Types\":{\"group\":\"Access & Routeways\",\n",
    "    #                  \"group_field\":False,\n",
    "    #                  \"unit\":\"HECTARES\",\n",
    "    #                 \"unit_type\":\"Area\"},\n",
    "    # \"Conclusive Registered Commons\":{\"group\":\"Access & Routeways\",\n",
    "    #                  \"group_field\":False,\n",
    "    #                  \"unit\":\"HECTARES\",\n",
    "    #                 \"unit_type\":\"Area\"},\n",
    "    # \"Conclusive Open Country\":{\"group\":\"Access & Routeways\",\n",
    "    #                  \"group_field\":False,\n",
    "    #                  \"unit\":\"HECTARES\",\n",
    "    #                 \"unit_type\":\"Area\"},\n",
    "    #  \"CRoW Access Land\":{\"group\":\"Access & Routeways\",\n",
    "    #                  \"group_field\":False,\n",
    "    #                  \"unit\":\"HECTARES\",\n",
    "    #                 \"unit_type\":\"Area\"},\n",
    "    # \"OS Greenspace\":{\"group\":\"Greenspace\",\n",
    "    #                  \"group_field\":\"function\",\n",
    "    #                  \"unit\":\"HECTARES\",\n",
    "    #                 \"unit_type\":\"Area\"},\n",
    "    # \"NE Country Parks\":{\"group\":\"Map5\",\n",
    "    #                  \"group_field\":False,\n",
    "    #                  \"unit\":\"HECTARES\",\n",
    "    #                 \"unit_type\":\"Area\"},\n",
    "    # \"Agricultural Land Classification\":{\"group\":\"Map6\",\n",
    "    #                  \"group_field\":\"alc_grade\",\n",
    "    #                  \"unit\":\"HECTARES\",\n",
    "    #                 \"unit_type\":\"Area\"},\n",
    "    # \"Environmental Stewardship Scheme\":{\"group\":\"Map7\",\n",
    "    #                  \"group_field\":\"SCHEME\",\n",
    "    #                  \"unit\":\"HECTARES\"},\n",
    "    # \"Organic Farming Scheme\":{\"group\":\"Map7\",\n",
    "    #                  \"group_field\":\"SCHEME\",\n",
    "    #                  \"unit\":\"HECTARES\"},\n",
    "    \"Countryside Stewardship Scheme\":{\"group\":\"Agri-Environment\",\n",
    "                                       \"map_number\":\"Map7\",\n",
    "                     \"group_field\":\"cs_type\",\n",
    "                     \"unit\":\"HECTARES\",\n",
    "                                            \"unit_type\":\"Area\"},\n",
    "    # \"Countryside Stewardship Scheme Options\":{\"group\":\"Map11\",\n",
    "    #                  \"group_field\":\"opt_desc\",\n",
    "    #                  \"unit\":\"HECTARES\",\n",
    "    #                                         \"unit_type\":\"Area\"},                                        \n",
    "    \"RPA Landcovers\":{\"group\":\"Map8\",\n",
    "                       \"map_number\":\"Map8\",\n",
    "                     \"group_field\":\"COVER_TYPE\",\n",
    "                     \"unit\":\"HECTARES\",\n",
    "                                            \"unit_type\":\"Area\"},\n",
    "    # \"RPALandParcels_Name\":{\"group\":\"Map9\",\n",
    "    #                  \"group_field\":\"NAME\",\n",
    "    #                  \"unit\":\"HECTARES\",\n",
    "    #                 \"unit_type\":\"Area\"},\n",
    "    # \"WSBRC Wiltshire eNGO Sites\":{\"group\":\"eNGO Conservation Sites\",\n",
    "    #                     \"group_field\":False,\n",
    "    #                     \"unit\":\"HECTARES\",\n",
    "    #                         \"unit_type\":\"Area\"},\n",
    "    \n",
    "}"
   ]
  },
  {
   "cell_type": "code",
   "execution_count": null,
   "id": "5dee8ea0",
   "metadata": {},
   "outputs": [
    {
     "name": "stdout",
     "output_type": "stream",
     "text": [
      "Sustrans National Cycle Network Route\n",
      "Sustrans_Regional Cycle Route\n",
      "Sustrans Reclassified Cycle Route\n",
      "Public Rights of Way\n",
      "FC Forest Roads\n",
      "CRoW S16 Dedicated Land\n",
      "Countryside Stewardship Scheme\n",
      "RPA Landcovers\n"
     ]
    },
    {
     "name": "stderr",
     "output_type": "stream",
     "text": [
      "C:\\Users\\LaraS\\AppData\\Local\\Temp\\ipykernel_10092\\1427194224.py:26: SettingWithCopyWarning: \n",
      "A value is trying to be set on a copy of a slice from a DataFrame.\n",
      "Try using .loc[row_indexer,col_indexer] = value instead\n",
      "\n",
      "See the caveats in the documentation: https://pandas.pydata.org/pandas-docs/stable/user_guide/indexing.html#returning-a-view-versus-a-copy\n",
      "  df_layer_all[\"mapGroup\"] = f\"{layer_info[layer]['group']}\"\n",
      "C:\\Users\\LaraS\\AppData\\Local\\Temp\\ipykernel_10092\\1427194224.py:27: SettingWithCopyWarning: \n",
      "A value is trying to be set on a copy of a slice from a DataFrame.\n",
      "Try using .loc[row_indexer,col_indexer] = value instead\n",
      "\n",
      "See the caveats in the documentation: https://pandas.pydata.org/pandas-docs/stable/user_guide/indexing.html#returning-a-view-versus-a-copy\n",
      "  df_layer_all[\"mapName\"] = f\"{layer_name}\"\n",
      "C:\\Users\\LaraS\\AppData\\Local\\Temp\\ipykernel_10092\\1427194224.py:28: SettingWithCopyWarning: \n",
      "A value is trying to be set on a copy of a slice from a DataFrame.\n",
      "Try using .loc[row_indexer,col_indexer] = value instead\n",
      "\n",
      "See the caveats in the documentation: https://pandas.pydata.org/pandas-docs/stable/user_guide/indexing.html#returning-a-view-versus-a-copy\n",
      "  df_layer_all[\"groupColumnName\"] = \"ALL\"\n",
      "C:\\Users\\LaraS\\AppData\\Local\\Temp\\ipykernel_10092\\1427194224.py:29: SettingWithCopyWarning: \n",
      "A value is trying to be set on a copy of a slice from a DataFrame.\n",
      "Try using .loc[row_indexer,col_indexer] = value instead\n",
      "\n",
      "See the caveats in the documentation: https://pandas.pydata.org/pandas-docs/stable/user_guide/indexing.html#returning-a-view-versus-a-copy\n",
      "  df_layer_all[\"groupColumnValue\"] = \"ALL\"\n",
      "C:\\Users\\LaraS\\AppData\\Local\\Temp\\ipykernel_10092\\1427194224.py:30: SettingWithCopyWarning: \n",
      "A value is trying to be set on a copy of a slice from a DataFrame.\n",
      "Try using .loc[row_indexer,col_indexer] = value instead\n",
      "\n",
      "See the caveats in the documentation: https://pandas.pydata.org/pandas-docs/stable/user_guide/indexing.html#returning-a-view-versus-a-copy\n",
      "  df_layer_all[\"unitName\"] = layer_info[layer]['unit']\n",
      "C:\\Users\\LaraS\\AppData\\Local\\Temp\\ipykernel_10092\\1427194224.py:26: SettingWithCopyWarning: \n",
      "A value is trying to be set on a copy of a slice from a DataFrame.\n",
      "Try using .loc[row_indexer,col_indexer] = value instead\n",
      "\n",
      "See the caveats in the documentation: https://pandas.pydata.org/pandas-docs/stable/user_guide/indexing.html#returning-a-view-versus-a-copy\n",
      "  df_layer_all[\"mapGroup\"] = f\"{layer_info[layer]['group']}\"\n",
      "C:\\Users\\LaraS\\AppData\\Local\\Temp\\ipykernel_10092\\1427194224.py:27: SettingWithCopyWarning: \n",
      "A value is trying to be set on a copy of a slice from a DataFrame.\n",
      "Try using .loc[row_indexer,col_indexer] = value instead\n",
      "\n",
      "See the caveats in the documentation: https://pandas.pydata.org/pandas-docs/stable/user_guide/indexing.html#returning-a-view-versus-a-copy\n",
      "  df_layer_all[\"mapName\"] = f\"{layer_name}\"\n",
      "C:\\Users\\LaraS\\AppData\\Local\\Temp\\ipykernel_10092\\1427194224.py:28: SettingWithCopyWarning: \n",
      "A value is trying to be set on a copy of a slice from a DataFrame.\n",
      "Try using .loc[row_indexer,col_indexer] = value instead\n",
      "\n",
      "See the caveats in the documentation: https://pandas.pydata.org/pandas-docs/stable/user_guide/indexing.html#returning-a-view-versus-a-copy\n",
      "  df_layer_all[\"groupColumnName\"] = \"ALL\"\n",
      "C:\\Users\\LaraS\\AppData\\Local\\Temp\\ipykernel_10092\\1427194224.py:29: SettingWithCopyWarning: \n",
      "A value is trying to be set on a copy of a slice from a DataFrame.\n",
      "Try using .loc[row_indexer,col_indexer] = value instead\n",
      "\n",
      "See the caveats in the documentation: https://pandas.pydata.org/pandas-docs/stable/user_guide/indexing.html#returning-a-view-versus-a-copy\n",
      "  df_layer_all[\"groupColumnValue\"] = \"ALL\"\n",
      "C:\\Users\\LaraS\\AppData\\Local\\Temp\\ipykernel_10092\\1427194224.py:30: SettingWithCopyWarning: \n",
      "A value is trying to be set on a copy of a slice from a DataFrame.\n",
      "Try using .loc[row_indexer,col_indexer] = value instead\n",
      "\n",
      "See the caveats in the documentation: https://pandas.pydata.org/pandas-docs/stable/user_guide/indexing.html#returning-a-view-versus-a-copy\n",
      "  df_layer_all[\"unitName\"] = layer_info[layer]['unit']\n"
     ]
    }
   ],
   "source": [
    "df_all = pd.DataFrame({'NAME': [], 'value': [],'valuePercent': [],'groupColumnValue': [],'groupColumnName': [],'mapGroup': [],'mapName': []})\n",
    "\n",
    "for layer in layer_info.keys():\n",
    "    layer_name = layer.replace(\" \",\"_\")\n",
    "    if layer_info[layer]['group_field']:\n",
    "      df_table = pd.read_csv(f\"{location_data}/{layer_info[layer]['map_number']}_{layer_name}_table.csv\")\n",
    "      df_layer = pd.read_csv(f\"{location_data}/{layer_info[layer]['map_number']}_{layer_name}.csv\")\n",
    "      df_table.rename(columns = {f\"{layer_info[layer]['group_field']}\":\"groupColumnValue\"}, inplace=True)\n",
    "      df_table.rename(columns = {f\"sum_{layer_info[layer]['unit_type']}_{layer_info[layer]['unit']}\":\"value\"}, inplace=True)\n",
    "      df_table.rename(columns = {f\"Percent{layer_info[layer]['unit_type']}\":\"valuePercent\"}, inplace=True)\n",
    "      df_layer_all = df_layer[[\"NAME\", \"Join_ID\"]].merge(df_table, on=\"Join_ID\")\n",
    "      # df_layer_all = df_layer_all[['NAME', f\"sum_Area_{layer_info[layer]['unit']}\",  \n",
    "      #    \"groupColumnValue\"]]\n",
    "      df_layer_all[\"mapGroup\"] = f\"{layer_info[layer]['group']}\"\n",
    "      df_layer_all[\"mapName\"] = f\"{layer_name}\"\n",
    "      df_layer_all[\"groupColumnName\"] = layer_info[layer]['group_field']\n",
    "      df_layer_all[\"unitName\"] = layer_info[layer]['unit']\n",
    "      \n",
    "      df_layer_all = df_layer_all[['NAME', \"value\",\"valuePercent\",\"mapGroup\",\"mapName\",\"groupColumnName\",\"groupColumnValue\",\"unitName\"]]\n",
    "      df_all = pd.concat([df_all,df_layer_all ])\n",
    "    else:\n",
    "      df_layer = pd.read_csv(f\"{location_data}/{layer_info[layer]['map_number']}_{layer_name}.csv\")\n",
    "      df_layer.rename(columns = {f\"sum_{layer_info[layer]['unit_type']}_{layer_info[layer]['unit']}\":\"value\"}, inplace=True)\n",
    "      df_layer_all = df_layer[['NAME', \"value\"]]\n",
    "      df_layer_all[\"mapGroup\"] = f\"{layer_info[layer]['group']}\"\n",
    "      df_layer_all[\"mapName\"] = f\"{layer_name}\"\n",
    "      df_layer_all[\"groupColumnName\"] = \"ALL\"\n",
    "      df_layer_all[\"groupColumnValue\"] = \"ALL\"\n",
    "      df_layer_all[\"unitName\"] = layer_info[layer]['unit']\n",
    "      df_layer_all = df_layer_all[['NAME', \"value\",\"mapGroup\",\"mapName\",\"groupColumnName\",\"groupColumnValue\",\"unitName\"]]\n",
    "      df_all = pd.concat([df_all,df_layer_all ])\n",
    "      \n",
    "   "
   ]
  },
  {
   "cell_type": "code",
   "execution_count": 337,
   "id": "7f8a48d4",
   "metadata": {},
   "outputs": [],
   "source": [
    "df_all_combined = pd.concat([df_all, df_pre_combined])"
   ]
  },
  {
   "cell_type": "code",
   "execution_count": 225,
   "id": "46e08e8b",
   "metadata": {},
   "outputs": [],
   "source": [
    "df_all_combined.to_csv('test.csv')"
   ]
  },
  {
   "cell_type": "markdown",
   "id": "ecfadf61",
   "metadata": {},
   "source": [
    "### Report table"
   ]
  },
  {
   "cell_type": "code",
   "execution_count": 338,
   "id": "7b451874",
   "metadata": {},
   "outputs": [],
   "source": [
    "df_colerne = df_all_combined[df_all_combined.NAME == \"Colerne\"]"
   ]
  },
  {
   "cell_type": "code",
   "execution_count": 340,
   "id": "4b9b83ee",
   "metadata": {},
   "outputs": [
    {
     "name": "stderr",
     "output_type": "stream",
     "text": [
      "C:\\Users\\LaraS\\AppData\\Local\\Temp\\ipykernel_10092\\1329794586.py:1: SettingWithCopyWarning: \n",
      "A value is trying to be set on a copy of a slice from a DataFrame.\n",
      "Try using .loc[row_indexer,col_indexer] = value instead\n",
      "\n",
      "See the caveats in the documentation: https://pandas.pydata.org/pandas-docs/stable/user_guide/indexing.html#returning-a-view-versus-a-copy\n",
      "  df_colerne['groupColumnValue'] = df_colerne.apply(lambda x: x['mapName'] if x['groupColumnValue']==\"ALL\" else x['groupColumnValue'], axis = 1)\n"
     ]
    }
   ],
   "source": [
    "df_colerne['groupColumnValue'] = df_colerne.apply(lambda x: x['mapName'] if x['groupColumnValue']==\"ALL\" else x['groupColumnValue'], axis = 1)"
   ]
  },
  {
   "cell_type": "code",
   "execution_count": 341,
   "id": "d4400648",
   "metadata": {},
   "outputs": [
    {
     "data": {
      "text/html": [
       "<div>\n",
       "<style scoped>\n",
       "    .dataframe tbody tr th:only-of-type {\n",
       "        vertical-align: middle;\n",
       "    }\n",
       "\n",
       "    .dataframe tbody tr th {\n",
       "        vertical-align: top;\n",
       "    }\n",
       "\n",
       "    .dataframe thead th {\n",
       "        text-align: right;\n",
       "    }\n",
       "</style>\n",
       "<table border=\"1\" class=\"dataframe\">\n",
       "  <thead>\n",
       "    <tr style=\"text-align: right;\">\n",
       "      <th></th>\n",
       "      <th>NAME</th>\n",
       "      <th>value</th>\n",
       "      <th>valuePercent</th>\n",
       "      <th>groupColumnValue</th>\n",
       "      <th>groupColumnName</th>\n",
       "      <th>mapGroup</th>\n",
       "      <th>mapName</th>\n",
       "      <th>unitName</th>\n",
       "    </tr>\n",
       "  </thead>\n",
       "  <tbody>\n",
       "    <tr>\n",
       "      <th>429</th>\n",
       "      <td>Colerne</td>\n",
       "      <td>260.687987</td>\n",
       "      <td>16.642194</td>\n",
       "      <td>Broadleaved</td>\n",
       "      <td>IFT_IOA</td>\n",
       "      <td>Woodland</td>\n",
       "      <td>FC_NFI21_Councils</td>\n",
       "      <td>HECTARES</td>\n",
       "    </tr>\n",
       "    <tr>\n",
       "      <th>430</th>\n",
       "      <td>Colerne</td>\n",
       "      <td>10.298237</td>\n",
       "      <td>0.657434</td>\n",
       "      <td>Conifer</td>\n",
       "      <td>IFT_IOA</td>\n",
       "      <td>Woodland</td>\n",
       "      <td>FC_NFI21_Councils</td>\n",
       "      <td>HECTARES</td>\n",
       "    </tr>\n",
       "    <tr>\n",
       "      <th>431</th>\n",
       "      <td>Colerne</td>\n",
       "      <td>10.213513</td>\n",
       "      <td>0.652026</td>\n",
       "      <td>Felled</td>\n",
       "      <td>IFT_IOA</td>\n",
       "      <td>Woodland</td>\n",
       "      <td>FC_NFI21_Councils</td>\n",
       "      <td>HECTARES</td>\n",
       "    </tr>\n",
       "    <tr>\n",
       "      <th>432</th>\n",
       "      <td>Colerne</td>\n",
       "      <td>14.109614</td>\n",
       "      <td>0.900751</td>\n",
       "      <td>Grassland</td>\n",
       "      <td>IFT_IOA</td>\n",
       "      <td>Woodland</td>\n",
       "      <td>FC_NFI21_Councils</td>\n",
       "      <td>HECTARES</td>\n",
       "    </tr>\n",
       "    <tr>\n",
       "      <th>433</th>\n",
       "      <td>Colerne</td>\n",
       "      <td>6.654826</td>\n",
       "      <td>0.424841</td>\n",
       "      <td>Mixed mainly broadleaved</td>\n",
       "      <td>IFT_IOA</td>\n",
       "      <td>Woodland</td>\n",
       "      <td>FC_NFI21_Councils</td>\n",
       "      <td>HECTARES</td>\n",
       "    </tr>\n",
       "    <tr>\n",
       "      <th>434</th>\n",
       "      <td>Colerne</td>\n",
       "      <td>2.180278</td>\n",
       "      <td>0.139188</td>\n",
       "      <td>Mixed mainly conifer</td>\n",
       "      <td>IFT_IOA</td>\n",
       "      <td>Woodland</td>\n",
       "      <td>FC_NFI21_Councils</td>\n",
       "      <td>HECTARES</td>\n",
       "    </tr>\n",
       "    <tr>\n",
       "      <th>435</th>\n",
       "      <td>Colerne</td>\n",
       "      <td>1.431044</td>\n",
       "      <td>0.091357</td>\n",
       "      <td>Shrub</td>\n",
       "      <td>IFT_IOA</td>\n",
       "      <td>Woodland</td>\n",
       "      <td>FC_NFI21_Councils</td>\n",
       "      <td>HECTARES</td>\n",
       "    </tr>\n",
       "    <tr>\n",
       "      <th>436</th>\n",
       "      <td>Colerne</td>\n",
       "      <td>5.199114</td>\n",
       "      <td>0.331909</td>\n",
       "      <td>Young trees</td>\n",
       "      <td>IFT_IOA</td>\n",
       "      <td>Woodland</td>\n",
       "      <td>FC_NFI21_Councils</td>\n",
       "      <td>HECTARES</td>\n",
       "    </tr>\n",
       "    <tr>\n",
       "      <th>132</th>\n",
       "      <td>Colerne</td>\n",
       "      <td>61.266055</td>\n",
       "      <td>3.911195</td>\n",
       "      <td>PAWS</td>\n",
       "      <td>P3_CLASS</td>\n",
       "      <td>Woodland</td>\n",
       "      <td>WSBRC_LEWWP_Councils</td>\n",
       "      <td>HECTARES</td>\n",
       "    </tr>\n",
       "    <tr>\n",
       "      <th>133</th>\n",
       "      <td>Colerne</td>\n",
       "      <td>43.131714</td>\n",
       "      <td>2.753508</td>\n",
       "      <td>WOOD</td>\n",
       "      <td>P3_CLASS</td>\n",
       "      <td>Woodland</td>\n",
       "      <td>WSBRC_LEWWP_Councils</td>\n",
       "      <td>HECTARES</td>\n",
       "    </tr>\n",
       "    <tr>\n",
       "      <th>134</th>\n",
       "      <td>Colerne</td>\n",
       "      <td>7.054279</td>\n",
       "      <td>0.450342</td>\n",
       "      <td>WP</td>\n",
       "      <td>P3_CLASS</td>\n",
       "      <td>Woodland</td>\n",
       "      <td>WSBRC_LEWWP_Councils</td>\n",
       "      <td>HECTARES</td>\n",
       "    </tr>\n",
       "    <tr>\n",
       "      <th>71</th>\n",
       "      <td>Colerne</td>\n",
       "      <td>2.000000</td>\n",
       "      <td>NA</td>\n",
       "      <td>WT_ATI_Councils</td>\n",
       "      <td>False</td>\n",
       "      <td>Woodland</td>\n",
       "      <td>WT_ATI_Councils</td>\n",
       "      <td>COUNT</td>\n",
       "    </tr>\n",
       "  </tbody>\n",
       "</table>\n",
       "</div>"
      ],
      "text/plain": [
       "        NAME       value valuePercent          groupColumnValue  \\\n",
       "429  Colerne  260.687987    16.642194               Broadleaved   \n",
       "430  Colerne   10.298237     0.657434                   Conifer   \n",
       "431  Colerne   10.213513     0.652026                    Felled   \n",
       "432  Colerne   14.109614     0.900751                 Grassland   \n",
       "433  Colerne    6.654826     0.424841  Mixed mainly broadleaved   \n",
       "434  Colerne    2.180278     0.139188      Mixed mainly conifer   \n",
       "435  Colerne    1.431044     0.091357                     Shrub   \n",
       "436  Colerne    5.199114     0.331909               Young trees   \n",
       "132  Colerne   61.266055     3.911195                      PAWS   \n",
       "133  Colerne   43.131714     2.753508                      WOOD   \n",
       "134  Colerne    7.054279     0.450342                        WP   \n",
       "71   Colerne    2.000000           NA           WT_ATI_Councils   \n",
       "\n",
       "    groupColumnName  mapGroup               mapName  unitName  \n",
       "429         IFT_IOA  Woodland     FC_NFI21_Councils  HECTARES  \n",
       "430         IFT_IOA  Woodland     FC_NFI21_Councils  HECTARES  \n",
       "431         IFT_IOA  Woodland     FC_NFI21_Councils  HECTARES  \n",
       "432         IFT_IOA  Woodland     FC_NFI21_Councils  HECTARES  \n",
       "433         IFT_IOA  Woodland     FC_NFI21_Councils  HECTARES  \n",
       "434         IFT_IOA  Woodland     FC_NFI21_Councils  HECTARES  \n",
       "435         IFT_IOA  Woodland     FC_NFI21_Councils  HECTARES  \n",
       "436         IFT_IOA  Woodland     FC_NFI21_Councils  HECTARES  \n",
       "132        P3_CLASS  Woodland  WSBRC_LEWWP_Councils  HECTARES  \n",
       "133        P3_CLASS  Woodland  WSBRC_LEWWP_Councils  HECTARES  \n",
       "134        P3_CLASS  Woodland  WSBRC_LEWWP_Councils  HECTARES  \n",
       "71            False  Woodland       WT_ATI_Councils     COUNT  "
      ]
     },
     "execution_count": 341,
     "metadata": {},
     "output_type": "execute_result"
    }
   ],
   "source": [
    "## Start with woodland\n",
    "df_col_wood = df_colerne[df_colerne.mapGroup== \"Woodland\"]\n",
    "df_col_wood"
   ]
  },
  {
   "cell_type": "code",
   "execution_count": 354,
   "id": "91448a10",
   "metadata": {},
   "outputs": [],
   "source": [
    "df_col_wood_pivot = df_col_wood.pivot(index = [\"mapGroup\" ], columns = [\"mapName\",\"groupColumnValue\"], values =\"value\" )\n",
    "df_col_wood_pivot.to_csv(\"Woodlands.csv\")"
   ]
  },
  {
   "cell_type": "markdown",
   "id": "7b809497",
   "metadata": {},
   "source": [
    "## Visualisations"
   ]
  },
  {
   "cell_type": "code",
   "execution_count": 61,
   "id": "a5e21d82",
   "metadata": {},
   "outputs": [],
   "source": [
    "pc = \"Colerne\""
   ]
  },
  {
   "cell_type": "code",
   "execution_count": 62,
   "id": "4da7b7e0",
   "metadata": {},
   "outputs": [],
   "source": [
    "df_pc = df_all[df_all.NAME.isin([pc])]"
   ]
  },
  {
   "cell_type": "code",
   "execution_count": 69,
   "id": "a73c8052",
   "metadata": {},
   "outputs": [
    {
     "data": {
      "application/vnd.plotly.v1+json": {
       "config": {
        "plotlyServerURL": "https://plot.ly"
       },
       "data": [
        {
         "labels": [
          "Arable land",
          "Drain/ditch/dyke",
          "Farm building",
          "Farmyards",
          "Gallop",
          "Hard standing",
          "Metalled track",
          "Natural woodland",
          "Notional - scrub",
          "Permanent crops",
          "Permanent grassland",
          "Pond",
          "Residential dwelling, house",
          "Residential gardens",
          "Rivers and Streams type 2",
          "Rivers and Streams type 3",
          "Roads",
          "Scrub - ungrazeable",
          "Storage area",
          "Structure",
          "Track - natural surface",
          "Woodland"
         ],
         "marker": {
          "colors": [
           "#50C048FF",
           "#282828FF",
           "#98E048FF",
           "#802800FF",
           "#F84800FF",
           "#806020FF",
           "#C83800FF",
           "#F8D840FF",
           "#489040FF",
           "#C8A838FF",
           "#306028FF",
           "#505050FF",
           "#F8F8F8FF",
           "#909090FF",
           "#1F77B4FF",
           "#FF7F0EFF",
           "#2CA02CFF",
           "#D62728FF",
           "#9467BDFF",
           "#8C564BFF",
           "#E377C2FF",
           "#BCBD22FF",
           "#17BECFFF",
           "#A40000FF",
           "#061B55FF",
           "#007E2FFF",
           "#FFCD12FF",
           "#B86092FF",
           "#721B3EFF",
           "#00B7A7FF"
          ]
         },
         "parents": [
          "Colerne",
          "Colerne",
          "Colerne",
          "Colerne",
          "Colerne",
          "Colerne",
          "Colerne",
          "Colerne",
          "Colerne",
          "Colerne",
          "Colerne",
          "Colerne",
          "Colerne",
          "Colerne",
          "Colerne",
          "Colerne",
          "Colerne",
          "Colerne",
          "Colerne",
          "Colerne",
          "Colerne",
          "Colerne"
         ],
         "type": "treemap",
         "values": {
          "bdata": "GOpO3dEDcUCfQleOwJqXPx0nsWaSGfA/XUFOLuFE+j8CuxlcH96mP7Z7c0zAcvY/2N1jTyG19D8t7o4OlfgmQMBdYz/fg6Q/8rJAKbdZ8j+XbdH5UUGGQPUBw2Cf1Ns/sfIgYkpXiD+ZAHcAxSrjPw8uTxBiK+U/BKE0Cscvwj/KkIox+MbMP7m48HepTRBAKwtsxrlkpD/bYQ4H88WAP9MFVOCv5RBAtylFAyO/bkA=",
          "dtype": "f8"
         }
        }
       ],
       "layout": {
        "template": {
         "data": {
          "bar": [
           {
            "error_x": {
             "color": "#2a3f5f"
            },
            "error_y": {
             "color": "#2a3f5f"
            },
            "marker": {
             "line": {
              "color": "#E5ECF6",
              "width": 0.5
             },
             "pattern": {
              "fillmode": "overlay",
              "size": 10,
              "solidity": 0.2
             }
            },
            "type": "bar"
           }
          ],
          "barpolar": [
           {
            "marker": {
             "line": {
              "color": "#E5ECF6",
              "width": 0.5
             },
             "pattern": {
              "fillmode": "overlay",
              "size": 10,
              "solidity": 0.2
             }
            },
            "type": "barpolar"
           }
          ],
          "carpet": [
           {
            "aaxis": {
             "endlinecolor": "#2a3f5f",
             "gridcolor": "white",
             "linecolor": "white",
             "minorgridcolor": "white",
             "startlinecolor": "#2a3f5f"
            },
            "baxis": {
             "endlinecolor": "#2a3f5f",
             "gridcolor": "white",
             "linecolor": "white",
             "minorgridcolor": "white",
             "startlinecolor": "#2a3f5f"
            },
            "type": "carpet"
           }
          ],
          "choropleth": [
           {
            "colorbar": {
             "outlinewidth": 0,
             "ticks": ""
            },
            "type": "choropleth"
           }
          ],
          "contour": [
           {
            "colorbar": {
             "outlinewidth": 0,
             "ticks": ""
            },
            "colorscale": [
             [
              0,
              "#0d0887"
             ],
             [
              0.1111111111111111,
              "#46039f"
             ],
             [
              0.2222222222222222,
              "#7201a8"
             ],
             [
              0.3333333333333333,
              "#9c179e"
             ],
             [
              0.4444444444444444,
              "#bd3786"
             ],
             [
              0.5555555555555556,
              "#d8576b"
             ],
             [
              0.6666666666666666,
              "#ed7953"
             ],
             [
              0.7777777777777778,
              "#fb9f3a"
             ],
             [
              0.8888888888888888,
              "#fdca26"
             ],
             [
              1,
              "#f0f921"
             ]
            ],
            "type": "contour"
           }
          ],
          "contourcarpet": [
           {
            "colorbar": {
             "outlinewidth": 0,
             "ticks": ""
            },
            "type": "contourcarpet"
           }
          ],
          "heatmap": [
           {
            "colorbar": {
             "outlinewidth": 0,
             "ticks": ""
            },
            "colorscale": [
             [
              0,
              "#0d0887"
             ],
             [
              0.1111111111111111,
              "#46039f"
             ],
             [
              0.2222222222222222,
              "#7201a8"
             ],
             [
              0.3333333333333333,
              "#9c179e"
             ],
             [
              0.4444444444444444,
              "#bd3786"
             ],
             [
              0.5555555555555556,
              "#d8576b"
             ],
             [
              0.6666666666666666,
              "#ed7953"
             ],
             [
              0.7777777777777778,
              "#fb9f3a"
             ],
             [
              0.8888888888888888,
              "#fdca26"
             ],
             [
              1,
              "#f0f921"
             ]
            ],
            "type": "heatmap"
           }
          ],
          "histogram": [
           {
            "marker": {
             "pattern": {
              "fillmode": "overlay",
              "size": 10,
              "solidity": 0.2
             }
            },
            "type": "histogram"
           }
          ],
          "histogram2d": [
           {
            "colorbar": {
             "outlinewidth": 0,
             "ticks": ""
            },
            "colorscale": [
             [
              0,
              "#0d0887"
             ],
             [
              0.1111111111111111,
              "#46039f"
             ],
             [
              0.2222222222222222,
              "#7201a8"
             ],
             [
              0.3333333333333333,
              "#9c179e"
             ],
             [
              0.4444444444444444,
              "#bd3786"
             ],
             [
              0.5555555555555556,
              "#d8576b"
             ],
             [
              0.6666666666666666,
              "#ed7953"
             ],
             [
              0.7777777777777778,
              "#fb9f3a"
             ],
             [
              0.8888888888888888,
              "#fdca26"
             ],
             [
              1,
              "#f0f921"
             ]
            ],
            "type": "histogram2d"
           }
          ],
          "histogram2dcontour": [
           {
            "colorbar": {
             "outlinewidth": 0,
             "ticks": ""
            },
            "colorscale": [
             [
              0,
              "#0d0887"
             ],
             [
              0.1111111111111111,
              "#46039f"
             ],
             [
              0.2222222222222222,
              "#7201a8"
             ],
             [
              0.3333333333333333,
              "#9c179e"
             ],
             [
              0.4444444444444444,
              "#bd3786"
             ],
             [
              0.5555555555555556,
              "#d8576b"
             ],
             [
              0.6666666666666666,
              "#ed7953"
             ],
             [
              0.7777777777777778,
              "#fb9f3a"
             ],
             [
              0.8888888888888888,
              "#fdca26"
             ],
             [
              1,
              "#f0f921"
             ]
            ],
            "type": "histogram2dcontour"
           }
          ],
          "mesh3d": [
           {
            "colorbar": {
             "outlinewidth": 0,
             "ticks": ""
            },
            "type": "mesh3d"
           }
          ],
          "parcoords": [
           {
            "line": {
             "colorbar": {
              "outlinewidth": 0,
              "ticks": ""
             }
            },
            "type": "parcoords"
           }
          ],
          "pie": [
           {
            "automargin": true,
            "type": "pie"
           }
          ],
          "scatter": [
           {
            "fillpattern": {
             "fillmode": "overlay",
             "size": 10,
             "solidity": 0.2
            },
            "type": "scatter"
           }
          ],
          "scatter3d": [
           {
            "line": {
             "colorbar": {
              "outlinewidth": 0,
              "ticks": ""
             }
            },
            "marker": {
             "colorbar": {
              "outlinewidth": 0,
              "ticks": ""
             }
            },
            "type": "scatter3d"
           }
          ],
          "scattercarpet": [
           {
            "marker": {
             "colorbar": {
              "outlinewidth": 0,
              "ticks": ""
             }
            },
            "type": "scattercarpet"
           }
          ],
          "scattergeo": [
           {
            "marker": {
             "colorbar": {
              "outlinewidth": 0,
              "ticks": ""
             }
            },
            "type": "scattergeo"
           }
          ],
          "scattergl": [
           {
            "marker": {
             "colorbar": {
              "outlinewidth": 0,
              "ticks": ""
             }
            },
            "type": "scattergl"
           }
          ],
          "scattermap": [
           {
            "marker": {
             "colorbar": {
              "outlinewidth": 0,
              "ticks": ""
             }
            },
            "type": "scattermap"
           }
          ],
          "scattermapbox": [
           {
            "marker": {
             "colorbar": {
              "outlinewidth": 0,
              "ticks": ""
             }
            },
            "type": "scattermapbox"
           }
          ],
          "scatterpolar": [
           {
            "marker": {
             "colorbar": {
              "outlinewidth": 0,
              "ticks": ""
             }
            },
            "type": "scatterpolar"
           }
          ],
          "scatterpolargl": [
           {
            "marker": {
             "colorbar": {
              "outlinewidth": 0,
              "ticks": ""
             }
            },
            "type": "scatterpolargl"
           }
          ],
          "scatterternary": [
           {
            "marker": {
             "colorbar": {
              "outlinewidth": 0,
              "ticks": ""
             }
            },
            "type": "scatterternary"
           }
          ],
          "surface": [
           {
            "colorbar": {
             "outlinewidth": 0,
             "ticks": ""
            },
            "colorscale": [
             [
              0,
              "#0d0887"
             ],
             [
              0.1111111111111111,
              "#46039f"
             ],
             [
              0.2222222222222222,
              "#7201a8"
             ],
             [
              0.3333333333333333,
              "#9c179e"
             ],
             [
              0.4444444444444444,
              "#bd3786"
             ],
             [
              0.5555555555555556,
              "#d8576b"
             ],
             [
              0.6666666666666666,
              "#ed7953"
             ],
             [
              0.7777777777777778,
              "#fb9f3a"
             ],
             [
              0.8888888888888888,
              "#fdca26"
             ],
             [
              1,
              "#f0f921"
             ]
            ],
            "type": "surface"
           }
          ],
          "table": [
           {
            "cells": {
             "fill": {
              "color": "#EBF0F8"
             },
             "line": {
              "color": "white"
             }
            },
            "header": {
             "fill": {
              "color": "#C8D4E3"
             },
             "line": {
              "color": "white"
             }
            },
            "type": "table"
           }
          ]
         },
         "layout": {
          "annotationdefaults": {
           "arrowcolor": "#2a3f5f",
           "arrowhead": 0,
           "arrowwidth": 1
          },
          "autotypenumbers": "strict",
          "coloraxis": {
           "colorbar": {
            "outlinewidth": 0,
            "ticks": ""
           }
          },
          "colorscale": {
           "diverging": [
            [
             0,
             "#8e0152"
            ],
            [
             0.1,
             "#c51b7d"
            ],
            [
             0.2,
             "#de77ae"
            ],
            [
             0.3,
             "#f1b6da"
            ],
            [
             0.4,
             "#fde0ef"
            ],
            [
             0.5,
             "#f7f7f7"
            ],
            [
             0.6,
             "#e6f5d0"
            ],
            [
             0.7,
             "#b8e186"
            ],
            [
             0.8,
             "#7fbc41"
            ],
            [
             0.9,
             "#4d9221"
            ],
            [
             1,
             "#276419"
            ]
           ],
           "sequential": [
            [
             0,
             "#0d0887"
            ],
            [
             0.1111111111111111,
             "#46039f"
            ],
            [
             0.2222222222222222,
             "#7201a8"
            ],
            [
             0.3333333333333333,
             "#9c179e"
            ],
            [
             0.4444444444444444,
             "#bd3786"
            ],
            [
             0.5555555555555556,
             "#d8576b"
            ],
            [
             0.6666666666666666,
             "#ed7953"
            ],
            [
             0.7777777777777778,
             "#fb9f3a"
            ],
            [
             0.8888888888888888,
             "#fdca26"
            ],
            [
             1,
             "#f0f921"
            ]
           ],
           "sequentialminus": [
            [
             0,
             "#0d0887"
            ],
            [
             0.1111111111111111,
             "#46039f"
            ],
            [
             0.2222222222222222,
             "#7201a8"
            ],
            [
             0.3333333333333333,
             "#9c179e"
            ],
            [
             0.4444444444444444,
             "#bd3786"
            ],
            [
             0.5555555555555556,
             "#d8576b"
            ],
            [
             0.6666666666666666,
             "#ed7953"
            ],
            [
             0.7777777777777778,
             "#fb9f3a"
            ],
            [
             0.8888888888888888,
             "#fdca26"
            ],
            [
             1,
             "#f0f921"
            ]
           ]
          },
          "colorway": [
           "#636efa",
           "#EF553B",
           "#00cc96",
           "#ab63fa",
           "#FFA15A",
           "#19d3f3",
           "#FF6692",
           "#B6E880",
           "#FF97FF",
           "#FECB52"
          ],
          "font": {
           "color": "#2a3f5f"
          },
          "geo": {
           "bgcolor": "white",
           "lakecolor": "white",
           "landcolor": "#E5ECF6",
           "showlakes": true,
           "showland": true,
           "subunitcolor": "white"
          },
          "hoverlabel": {
           "align": "left"
          },
          "hovermode": "closest",
          "mapbox": {
           "style": "light"
          },
          "paper_bgcolor": "white",
          "plot_bgcolor": "#E5ECF6",
          "polar": {
           "angularaxis": {
            "gridcolor": "white",
            "linecolor": "white",
            "ticks": ""
           },
           "bgcolor": "#E5ECF6",
           "radialaxis": {
            "gridcolor": "white",
            "linecolor": "white",
            "ticks": ""
           }
          },
          "scene": {
           "xaxis": {
            "backgroundcolor": "#E5ECF6",
            "gridcolor": "white",
            "gridwidth": 2,
            "linecolor": "white",
            "showbackground": true,
            "ticks": "",
            "zerolinecolor": "white"
           },
           "yaxis": {
            "backgroundcolor": "#E5ECF6",
            "gridcolor": "white",
            "gridwidth": 2,
            "linecolor": "white",
            "showbackground": true,
            "ticks": "",
            "zerolinecolor": "white"
           },
           "zaxis": {
            "backgroundcolor": "#E5ECF6",
            "gridcolor": "white",
            "gridwidth": 2,
            "linecolor": "white",
            "showbackground": true,
            "ticks": "",
            "zerolinecolor": "white"
           }
          },
          "shapedefaults": {
           "line": {
            "color": "#2a3f5f"
           }
          },
          "ternary": {
           "aaxis": {
            "gridcolor": "white",
            "linecolor": "white",
            "ticks": ""
           },
           "baxis": {
            "gridcolor": "white",
            "linecolor": "white",
            "ticks": ""
           },
           "bgcolor": "#E5ECF6",
           "caxis": {
            "gridcolor": "white",
            "linecolor": "white",
            "ticks": ""
           }
          },
          "title": {
           "x": 0.05
          },
          "xaxis": {
           "automargin": true,
           "gridcolor": "white",
           "linecolor": "white",
           "ticks": "",
           "title": {
            "standoff": 15
           },
           "zerolinecolor": "white",
           "zerolinewidth": 2
          },
          "yaxis": {
           "automargin": true,
           "gridcolor": "white",
           "linecolor": "white",
           "ticks": "",
           "title": {
            "standoff": 15
           },
           "zerolinecolor": "white",
           "zerolinewidth": 2
          }
         }
        }
       }
      }
     },
     "metadata": {},
     "output_type": "display_data"
    }
   ],
   "source": [
    "# Land cover\n",
    "df_pc_land_cover =   df_pc[df_pc.mapName == \"RPA_Landcovers\"]\n",
    "\n",
    "fig = go.Figure(go.Treemap(\n",
    "    labels = df_pc_land_cover[\"groupColumnValue\"],\n",
    "    parents = df_pc_land_cover[\"NAME\"],\n",
    "    values =  df_pc_land_cover[\"value\"],\n",
    "    marker_colors =# [\"#A40000FF\", \"#061B55FF\", \"#007E2FFF\", \"#FFCD12FF\", \"#B86092FF\", \"#721B3EFF\", \"#00B7A7FF\"]\n",
    "    [\n",
    "        \n",
    "         \"#50C048FF\", \"#282828FF\", \"#98E048FF\", \"#802800FF\", \"#F84800FF\", \"#806020FF\", \"#C83800FF\", \"#F8D840FF\", \"#489040FF\", \"#C8A838FF\", \"#306028FF\", \"#505050FF\", \"#F8F8F8FF\", \"#909090FF\",\n",
    "\"#1F77B4FF\", \"#FF7F0EFF\", \"#2CA02CFF\", \"#D62728FF\", \"#9467BDFF\", \"#8C564BFF\", \"#E377C2FF\",  \"#BCBD22FF\", \"#17BECFFF\",\"#A40000FF\", \"#061B55FF\", \"#007E2FFF\", \"#FFCD12FF\", \"#B86092FF\", \"#721B3EFF\", \"#00B7A7FF\",\n",
    "    #  \"#1F77B4FF\", \"#FF7F0EFF\", \"#2CA02CFF\", \"#D62728FF\", \"#9467BDFF\", \"#8C564BFF\", \"#E377C2FF\", \"#7F7F7FFF\", \"#BCBD22FF\", \"#17BECFFF\",\"#A40000FF\", \"#061B55FF\", \"#007E2FFF\", \"#FFCD12FF\", \"#B86092FF\", \"#721B3EFF\", \"#00B7A7FF\"]\n",
    "    \n",
    "    ])\n",
    ")\n",
    "\n",
    "fig.show()"
   ]
  },
  {
   "cell_type": "code",
   "execution_count": null,
   "id": "95a28611",
   "metadata": {},
   "outputs": [],
   "source": []
  },
  {
   "cell_type": "markdown",
   "id": "6bf127fb",
   "metadata": {},
   "source": [
    "## Ranking"
   ]
  },
  {
   "cell_type": "code",
   "execution_count": 19,
   "id": "9053f881",
   "metadata": {},
   "outputs": [],
   "source": [
    "df_all_ranked = pd.DataFrame({'NAME': [], 'value': [],'valuePercent': [],'groupColumnValue': [],'groupColumnName': [],'mapGroup': [],'mapName': [], 'rank':[], 'rankPercent':[]})\n",
    "for group in df_all.groupColumnValue.unique():\n",
    "    df_rank= df_all[df_all.groupColumnValue == group]\n",
    "    df_rank_sorted = df_rank.sort_values(by = \"value\", ascending=False)\n",
    "    df_rank_sorted['rank'] = list(range(1, df_rank_sorted.shape[0]+1))\n",
    "\n",
    "    df_rank_percent_sorted = df_rank_sorted.sort_values(by = \"valuePercent\", ascending=False)\n",
    "    df_rank_percent_sorted['rankPercent'] = list(range(1, df_rank_percent_sorted.shape[0]+1))\n",
    "    df_all_ranked = pd.concat([df_all_ranked, df_rank_percent_sorted])"
   ]
  },
  {
   "cell_type": "code",
   "execution_count": 20,
   "id": "59dc4cd9",
   "metadata": {},
   "outputs": [],
   "source": [
    "df_colerne_ranked = df_all_ranked[df_all_ranked.NAME==\"Colerne\"]"
   ]
  },
  {
   "cell_type": "code",
   "execution_count": null,
   "id": "32146c77",
   "metadata": {},
   "outputs": [],
   "source": [
    "\n",
    "df_table.rename(columns = {\"sum_Area_HECTARES\":\"AreaHa_RPA_Landcovers\"}, inplace=True)"
   ]
  },
  {
   "cell_type": "code",
   "execution_count": null,
   "id": "1c3c209c",
   "metadata": {},
   "outputs": [],
   "source": [
    "df_all = df_layer[[\"NAME\", \"sum_Area_HECTARES\",\"Join_ID\"]].merge(df_table, on=\"Join_ID\")\n",
    "df_all = df_all[['NAME', 'sum_Area_HECTARES', 'Join_ID', 'COVER_TYPE',\n",
    "       'AreaHa_RPA_Landcovers']]"
   ]
  },
  {
   "cell_type": "code",
   "execution_count": null,
   "id": "fab5b302",
   "metadata": {},
   "outputs": [
    {
     "data": {
      "text/plain": [
       "dict_keys(['RPA Landcovers'])"
      ]
     },
     "execution_count": 26,
     "metadata": {},
     "output_type": "execute_result"
    }
   ],
   "source": [
    "layer_info['RPA Landcovers']\n"
   ]
  },
  {
   "cell_type": "code",
   "execution_count": 4,
   "id": "1a9f4abf",
   "metadata": {},
   "outputs": [],
   "source": [
    "df_colerne = df_all[df_all.NAME == \"Colerne\"]"
   ]
  },
  {
   "cell_type": "code",
   "execution_count": 7,
   "id": "04a300b5",
   "metadata": {},
   "outputs": [
    {
     "data": {
      "application/vnd.plotly.v1+json": {
       "config": {
        "plotlyServerURL": "https://plot.ly"
       },
       "data": [
        {
         "hovertemplate": "MainHabs=%{x}<br>PercentArea=%{y}<extra></extra>",
         "legendgroup": "",
         "marker": {
          "color": "#636efa",
          "pattern": {
           "shape": ""
          }
         },
         "name": "",
         "orientation": "v",
         "showlegend": false,
         "textposition": "auto",
         "type": "bar",
         "x": [
          "Coastal and floodplain grazing marsh",
          "Deciduous woodland",
          "Good quality semi improved grassland",
          "Lowland calcareous grassland",
          "Lowland fens",
          "Lowland meadows",
          "No main habitat but additional habitats present",
          "Traditional orchard"
         ],
         "xaxis": "x",
         "y": {
          "bdata": "UepX2sz+lz90V3c7XrMwQBy6gl4/ORFAKB9+T4T9BkAluZrYsp69PxD9Lo4pmsw/qMDSC5d6zD+OD/Yn1lBvPw==",
          "dtype": "f8"
         },
         "yaxis": "y"
        }
       ],
       "layout": {
        "barmode": "relative",
        "legend": {
         "tracegroupgap": 0
        },
        "margin": {
         "t": 60
        },
        "template": {
         "data": {
          "bar": [
           {
            "error_x": {
             "color": "#2a3f5f"
            },
            "error_y": {
             "color": "#2a3f5f"
            },
            "marker": {
             "line": {
              "color": "#E5ECF6",
              "width": 0.5
             },
             "pattern": {
              "fillmode": "overlay",
              "size": 10,
              "solidity": 0.2
             }
            },
            "type": "bar"
           }
          ],
          "barpolar": [
           {
            "marker": {
             "line": {
              "color": "#E5ECF6",
              "width": 0.5
             },
             "pattern": {
              "fillmode": "overlay",
              "size": 10,
              "solidity": 0.2
             }
            },
            "type": "barpolar"
           }
          ],
          "carpet": [
           {
            "aaxis": {
             "endlinecolor": "#2a3f5f",
             "gridcolor": "white",
             "linecolor": "white",
             "minorgridcolor": "white",
             "startlinecolor": "#2a3f5f"
            },
            "baxis": {
             "endlinecolor": "#2a3f5f",
             "gridcolor": "white",
             "linecolor": "white",
             "minorgridcolor": "white",
             "startlinecolor": "#2a3f5f"
            },
            "type": "carpet"
           }
          ],
          "choropleth": [
           {
            "colorbar": {
             "outlinewidth": 0,
             "ticks": ""
            },
            "type": "choropleth"
           }
          ],
          "contour": [
           {
            "colorbar": {
             "outlinewidth": 0,
             "ticks": ""
            },
            "colorscale": [
             [
              0,
              "#0d0887"
             ],
             [
              0.1111111111111111,
              "#46039f"
             ],
             [
              0.2222222222222222,
              "#7201a8"
             ],
             [
              0.3333333333333333,
              "#9c179e"
             ],
             [
              0.4444444444444444,
              "#bd3786"
             ],
             [
              0.5555555555555556,
              "#d8576b"
             ],
             [
              0.6666666666666666,
              "#ed7953"
             ],
             [
              0.7777777777777778,
              "#fb9f3a"
             ],
             [
              0.8888888888888888,
              "#fdca26"
             ],
             [
              1,
              "#f0f921"
             ]
            ],
            "type": "contour"
           }
          ],
          "contourcarpet": [
           {
            "colorbar": {
             "outlinewidth": 0,
             "ticks": ""
            },
            "type": "contourcarpet"
           }
          ],
          "heatmap": [
           {
            "colorbar": {
             "outlinewidth": 0,
             "ticks": ""
            },
            "colorscale": [
             [
              0,
              "#0d0887"
             ],
             [
              0.1111111111111111,
              "#46039f"
             ],
             [
              0.2222222222222222,
              "#7201a8"
             ],
             [
              0.3333333333333333,
              "#9c179e"
             ],
             [
              0.4444444444444444,
              "#bd3786"
             ],
             [
              0.5555555555555556,
              "#d8576b"
             ],
             [
              0.6666666666666666,
              "#ed7953"
             ],
             [
              0.7777777777777778,
              "#fb9f3a"
             ],
             [
              0.8888888888888888,
              "#fdca26"
             ],
             [
              1,
              "#f0f921"
             ]
            ],
            "type": "heatmap"
           }
          ],
          "histogram": [
           {
            "marker": {
             "pattern": {
              "fillmode": "overlay",
              "size": 10,
              "solidity": 0.2
             }
            },
            "type": "histogram"
           }
          ],
          "histogram2d": [
           {
            "colorbar": {
             "outlinewidth": 0,
             "ticks": ""
            },
            "colorscale": [
             [
              0,
              "#0d0887"
             ],
             [
              0.1111111111111111,
              "#46039f"
             ],
             [
              0.2222222222222222,
              "#7201a8"
             ],
             [
              0.3333333333333333,
              "#9c179e"
             ],
             [
              0.4444444444444444,
              "#bd3786"
             ],
             [
              0.5555555555555556,
              "#d8576b"
             ],
             [
              0.6666666666666666,
              "#ed7953"
             ],
             [
              0.7777777777777778,
              "#fb9f3a"
             ],
             [
              0.8888888888888888,
              "#fdca26"
             ],
             [
              1,
              "#f0f921"
             ]
            ],
            "type": "histogram2d"
           }
          ],
          "histogram2dcontour": [
           {
            "colorbar": {
             "outlinewidth": 0,
             "ticks": ""
            },
            "colorscale": [
             [
              0,
              "#0d0887"
             ],
             [
              0.1111111111111111,
              "#46039f"
             ],
             [
              0.2222222222222222,
              "#7201a8"
             ],
             [
              0.3333333333333333,
              "#9c179e"
             ],
             [
              0.4444444444444444,
              "#bd3786"
             ],
             [
              0.5555555555555556,
              "#d8576b"
             ],
             [
              0.6666666666666666,
              "#ed7953"
             ],
             [
              0.7777777777777778,
              "#fb9f3a"
             ],
             [
              0.8888888888888888,
              "#fdca26"
             ],
             [
              1,
              "#f0f921"
             ]
            ],
            "type": "histogram2dcontour"
           }
          ],
          "mesh3d": [
           {
            "colorbar": {
             "outlinewidth": 0,
             "ticks": ""
            },
            "type": "mesh3d"
           }
          ],
          "parcoords": [
           {
            "line": {
             "colorbar": {
              "outlinewidth": 0,
              "ticks": ""
             }
            },
            "type": "parcoords"
           }
          ],
          "pie": [
           {
            "automargin": true,
            "type": "pie"
           }
          ],
          "scatter": [
           {
            "fillpattern": {
             "fillmode": "overlay",
             "size": 10,
             "solidity": 0.2
            },
            "type": "scatter"
           }
          ],
          "scatter3d": [
           {
            "line": {
             "colorbar": {
              "outlinewidth": 0,
              "ticks": ""
             }
            },
            "marker": {
             "colorbar": {
              "outlinewidth": 0,
              "ticks": ""
             }
            },
            "type": "scatter3d"
           }
          ],
          "scattercarpet": [
           {
            "marker": {
             "colorbar": {
              "outlinewidth": 0,
              "ticks": ""
             }
            },
            "type": "scattercarpet"
           }
          ],
          "scattergeo": [
           {
            "marker": {
             "colorbar": {
              "outlinewidth": 0,
              "ticks": ""
             }
            },
            "type": "scattergeo"
           }
          ],
          "scattergl": [
           {
            "marker": {
             "colorbar": {
              "outlinewidth": 0,
              "ticks": ""
             }
            },
            "type": "scattergl"
           }
          ],
          "scattermap": [
           {
            "marker": {
             "colorbar": {
              "outlinewidth": 0,
              "ticks": ""
             }
            },
            "type": "scattermap"
           }
          ],
          "scattermapbox": [
           {
            "marker": {
             "colorbar": {
              "outlinewidth": 0,
              "ticks": ""
             }
            },
            "type": "scattermapbox"
           }
          ],
          "scatterpolar": [
           {
            "marker": {
             "colorbar": {
              "outlinewidth": 0,
              "ticks": ""
             }
            },
            "type": "scatterpolar"
           }
          ],
          "scatterpolargl": [
           {
            "marker": {
             "colorbar": {
              "outlinewidth": 0,
              "ticks": ""
             }
            },
            "type": "scatterpolargl"
           }
          ],
          "scatterternary": [
           {
            "marker": {
             "colorbar": {
              "outlinewidth": 0,
              "ticks": ""
             }
            },
            "type": "scatterternary"
           }
          ],
          "surface": [
           {
            "colorbar": {
             "outlinewidth": 0,
             "ticks": ""
            },
            "colorscale": [
             [
              0,
              "#0d0887"
             ],
             [
              0.1111111111111111,
              "#46039f"
             ],
             [
              0.2222222222222222,
              "#7201a8"
             ],
             [
              0.3333333333333333,
              "#9c179e"
             ],
             [
              0.4444444444444444,
              "#bd3786"
             ],
             [
              0.5555555555555556,
              "#d8576b"
             ],
             [
              0.6666666666666666,
              "#ed7953"
             ],
             [
              0.7777777777777778,
              "#fb9f3a"
             ],
             [
              0.8888888888888888,
              "#fdca26"
             ],
             [
              1,
              "#f0f921"
             ]
            ],
            "type": "surface"
           }
          ],
          "table": [
           {
            "cells": {
             "fill": {
              "color": "#EBF0F8"
             },
             "line": {
              "color": "white"
             }
            },
            "header": {
             "fill": {
              "color": "#C8D4E3"
             },
             "line": {
              "color": "white"
             }
            },
            "type": "table"
           }
          ]
         },
         "layout": {
          "annotationdefaults": {
           "arrowcolor": "#2a3f5f",
           "arrowhead": 0,
           "arrowwidth": 1
          },
          "autotypenumbers": "strict",
          "coloraxis": {
           "colorbar": {
            "outlinewidth": 0,
            "ticks": ""
           }
          },
          "colorscale": {
           "diverging": [
            [
             0,
             "#8e0152"
            ],
            [
             0.1,
             "#c51b7d"
            ],
            [
             0.2,
             "#de77ae"
            ],
            [
             0.3,
             "#f1b6da"
            ],
            [
             0.4,
             "#fde0ef"
            ],
            [
             0.5,
             "#f7f7f7"
            ],
            [
             0.6,
             "#e6f5d0"
            ],
            [
             0.7,
             "#b8e186"
            ],
            [
             0.8,
             "#7fbc41"
            ],
            [
             0.9,
             "#4d9221"
            ],
            [
             1,
             "#276419"
            ]
           ],
           "sequential": [
            [
             0,
             "#0d0887"
            ],
            [
             0.1111111111111111,
             "#46039f"
            ],
            [
             0.2222222222222222,
             "#7201a8"
            ],
            [
             0.3333333333333333,
             "#9c179e"
            ],
            [
             0.4444444444444444,
             "#bd3786"
            ],
            [
             0.5555555555555556,
             "#d8576b"
            ],
            [
             0.6666666666666666,
             "#ed7953"
            ],
            [
             0.7777777777777778,
             "#fb9f3a"
            ],
            [
             0.8888888888888888,
             "#fdca26"
            ],
            [
             1,
             "#f0f921"
            ]
           ],
           "sequentialminus": [
            [
             0,
             "#0d0887"
            ],
            [
             0.1111111111111111,
             "#46039f"
            ],
            [
             0.2222222222222222,
             "#7201a8"
            ],
            [
             0.3333333333333333,
             "#9c179e"
            ],
            [
             0.4444444444444444,
             "#bd3786"
            ],
            [
             0.5555555555555556,
             "#d8576b"
            ],
            [
             0.6666666666666666,
             "#ed7953"
            ],
            [
             0.7777777777777778,
             "#fb9f3a"
            ],
            [
             0.8888888888888888,
             "#fdca26"
            ],
            [
             1,
             "#f0f921"
            ]
           ]
          },
          "colorway": [
           "#636efa",
           "#EF553B",
           "#00cc96",
           "#ab63fa",
           "#FFA15A",
           "#19d3f3",
           "#FF6692",
           "#B6E880",
           "#FF97FF",
           "#FECB52"
          ],
          "font": {
           "color": "#2a3f5f"
          },
          "geo": {
           "bgcolor": "white",
           "lakecolor": "white",
           "landcolor": "#E5ECF6",
           "showlakes": true,
           "showland": true,
           "subunitcolor": "white"
          },
          "hoverlabel": {
           "align": "left"
          },
          "hovermode": "closest",
          "mapbox": {
           "style": "light"
          },
          "paper_bgcolor": "white",
          "plot_bgcolor": "#E5ECF6",
          "polar": {
           "angularaxis": {
            "gridcolor": "white",
            "linecolor": "white",
            "ticks": ""
           },
           "bgcolor": "#E5ECF6",
           "radialaxis": {
            "gridcolor": "white",
            "linecolor": "white",
            "ticks": ""
           }
          },
          "scene": {
           "xaxis": {
            "backgroundcolor": "#E5ECF6",
            "gridcolor": "white",
            "gridwidth": 2,
            "linecolor": "white",
            "showbackground": true,
            "ticks": "",
            "zerolinecolor": "white"
           },
           "yaxis": {
            "backgroundcolor": "#E5ECF6",
            "gridcolor": "white",
            "gridwidth": 2,
            "linecolor": "white",
            "showbackground": true,
            "ticks": "",
            "zerolinecolor": "white"
           },
           "zaxis": {
            "backgroundcolor": "#E5ECF6",
            "gridcolor": "white",
            "gridwidth": 2,
            "linecolor": "white",
            "showbackground": true,
            "ticks": "",
            "zerolinecolor": "white"
           }
          },
          "shapedefaults": {
           "line": {
            "color": "#2a3f5f"
           }
          },
          "ternary": {
           "aaxis": {
            "gridcolor": "white",
            "linecolor": "white",
            "ticks": ""
           },
           "baxis": {
            "gridcolor": "white",
            "linecolor": "white",
            "ticks": ""
           },
           "bgcolor": "#E5ECF6",
           "caxis": {
            "gridcolor": "white",
            "linecolor": "white",
            "ticks": ""
           }
          },
          "title": {
           "x": 0.05
          },
          "xaxis": {
           "automargin": true,
           "gridcolor": "white",
           "linecolor": "white",
           "ticks": "",
           "title": {
            "standoff": 15
           },
           "zerolinecolor": "white",
           "zerolinewidth": 2
          },
          "yaxis": {
           "automargin": true,
           "gridcolor": "white",
           "linecolor": "white",
           "ticks": "",
           "title": {
            "standoff": 15
           },
           "zerolinecolor": "white",
           "zerolinewidth": 2
          }
         }
        },
        "xaxis": {
         "anchor": "y",
         "domain": [
          0,
          1
         ],
         "title": {
          "text": "MainHabs"
         }
        },
        "yaxis": {
         "anchor": "x",
         "domain": [
          0,
          1
         ],
         "title": {
          "text": "PercentArea"
         }
        }
       }
      }
     },
     "metadata": {},
     "output_type": "display_data"
    }
   ],
   "source": [
    "fig = px.bar(df_colerne, x = \"MainHabs\", y = \"PercentArea\")\n",
    "fig.show()"
   ]
  },
  {
   "cell_type": "code",
   "execution_count": 9,
   "id": "da7e1f5e",
   "metadata": {},
   "outputs": [
    {
     "data": {
      "text/plain": [
       "Index(['Join_ID', 'MainHabs', 'sum_AreaHa_x', 'sum_Area_SQUAREKILOMETERS_x',\n",
       "       'Polygon_Count_x', 'PercentArea', 'NAME', 'AREA_CODE', 'DESCRIPTIO',\n",
       "       'FILE_NAME', 'NUMBER', 'NUMBER0', 'POLYGON_ID', 'UNIT_ID', 'CODE',\n",
       "       'HECTARES', 'AREA', 'TYPE_CODE', 'DESCRIPT0', 'TYPE_COD0', 'DESCRIPT1',\n",
       "       'TO_Check', 'Shape_Length', 'Shape_Area', 'sum_AreaHa_y',\n",
       "       'sum_Area_SQUAREKILOMETERS_y', 'Polygon_Count_y'],\n",
       "      dtype='object')"
      ]
     },
     "execution_count": 9,
     "metadata": {},
     "output_type": "execute_result"
    }
   ],
   "source": [
    "df_all.columns"
   ]
  },
  {
   "cell_type": "code",
   "execution_count": 14,
   "id": "39d270b2",
   "metadata": {},
   "outputs": [],
   "source": [
    "df_all_reduced = df_all[[\"MainHabs\", 'sum_AreaHa_x','PercentArea', 'NAME']]"
   ]
  },
  {
   "cell_type": "code",
   "execution_count": 26,
   "id": "e3cd6434",
   "metadata": {},
   "outputs": [
    {
     "data": {
      "text/plain": [
       "Index(['Join_ID', 'MainHabs', 'sum_AreaHa_x', 'sum_Area_SQUAREKILOMETERS_x',\n",
       "       'Polygon_Count_x', 'PercentArea', 'NAME', 'AREA_CODE', 'DESCRIPTIO',\n",
       "       'FILE_NAME', 'NUMBER', 'NUMBER0', 'POLYGON_ID', 'UNIT_ID', 'CODE',\n",
       "       'HECTARES', 'AREA', 'TYPE_CODE', 'DESCRIPT0', 'TYPE_COD0', 'DESCRIPT1',\n",
       "       'TO_Check', 'Shape_Length', 'Shape_Area', 'sum_AreaHa_y',\n",
       "       'sum_Area_SQUAREKILOMETERS_y', 'Polygon_Count_y'],\n",
       "      dtype='object')"
      ]
     },
     "execution_count": 26,
     "metadata": {},
     "output_type": "execute_result"
    }
   ],
   "source": [
    "df_all.columns"
   ]
  },
  {
   "cell_type": "code",
   "execution_count": 32,
   "id": "2ad1a413",
   "metadata": {},
   "outputs": [
    {
     "data": {
      "text/html": [
       "<div>\n",
       "<style scoped>\n",
       "    .dataframe tbody tr th:only-of-type {\n",
       "        vertical-align: middle;\n",
       "    }\n",
       "\n",
       "    .dataframe tbody tr th {\n",
       "        vertical-align: top;\n",
       "    }\n",
       "\n",
       "    .dataframe thead tr th {\n",
       "        text-align: left;\n",
       "    }\n",
       "\n",
       "    .dataframe thead tr:last-of-type th {\n",
       "        text-align: right;\n",
       "    }\n",
       "</style>\n",
       "<table border=\"1\" class=\"dataframe\">\n",
       "  <thead>\n",
       "    <tr>\n",
       "      <th></th>\n",
       "      <th></th>\n",
       "      <th colspan=\"10\" halign=\"left\">sum_AreaHa_x</th>\n",
       "      <th>...</th>\n",
       "      <th colspan=\"10\" halign=\"left\">PercentArea</th>\n",
       "    </tr>\n",
       "    <tr>\n",
       "      <th></th>\n",
       "      <th>MainHabs</th>\n",
       "      <th>Coastal and floodplain grazing marsh</th>\n",
       "      <th>Deciduous woodland</th>\n",
       "      <th>Good quality semi improved grassland</th>\n",
       "      <th>Good quality semi improved grassland,Traditional orchard</th>\n",
       "      <th>Lowland calcareous grassland</th>\n",
       "      <th>Lowland dry acid grassland</th>\n",
       "      <th>Lowland dry acid grassland,Lowland heathland</th>\n",
       "      <th>Lowland fens</th>\n",
       "      <th>Lowland heathland</th>\n",
       "      <th>Lowland meadows</th>\n",
       "      <th>...</th>\n",
       "      <th>Lowland calcareous grassland</th>\n",
       "      <th>Lowland dry acid grassland</th>\n",
       "      <th>Lowland dry acid grassland,Lowland heathland</th>\n",
       "      <th>Lowland fens</th>\n",
       "      <th>Lowland heathland</th>\n",
       "      <th>Lowland meadows</th>\n",
       "      <th>No main habitat but additional habitats present</th>\n",
       "      <th>Ponds</th>\n",
       "      <th>Purple moor grass and rush pastures</th>\n",
       "      <th>Traditional orchard</th>\n",
       "    </tr>\n",
       "    <tr>\n",
       "      <th>NAME</th>\n",
       "      <th>sum_AreaHa_y</th>\n",
       "      <th></th>\n",
       "      <th></th>\n",
       "      <th></th>\n",
       "      <th></th>\n",
       "      <th></th>\n",
       "      <th></th>\n",
       "      <th></th>\n",
       "      <th></th>\n",
       "      <th></th>\n",
       "      <th></th>\n",
       "      <th></th>\n",
       "      <th></th>\n",
       "      <th></th>\n",
       "      <th></th>\n",
       "      <th></th>\n",
       "      <th></th>\n",
       "      <th></th>\n",
       "      <th></th>\n",
       "      <th></th>\n",
       "      <th></th>\n",
       "      <th></th>\n",
       "    </tr>\n",
       "  </thead>\n",
       "  <tbody>\n",
       "    <tr>\n",
       "      <th>Aldbourne</th>\n",
       "      <th>228.102996</th>\n",
       "      <td>NaN</td>\n",
       "      <td>112.806569</td>\n",
       "      <td>NaN</td>\n",
       "      <td>NaN</td>\n",
       "      <td>49.080356</td>\n",
       "      <td>NaN</td>\n",
       "      <td>NaN</td>\n",
       "      <td>NaN</td>\n",
       "      <td>NaN</td>\n",
       "      <td>4.880000</td>\n",
       "      <td>...</td>\n",
       "      <td>1.426651</td>\n",
       "      <td>NaN</td>\n",
       "      <td>NaN</td>\n",
       "      <td>NaN</td>\n",
       "      <td>NaN</td>\n",
       "      <td>0.141905</td>\n",
       "      <td>1.778316</td>\n",
       "      <td>NaN</td>\n",
       "      <td>NaN</td>\n",
       "      <td>0.004965</td>\n",
       "    </tr>\n",
       "    <tr>\n",
       "      <th>Alderbury</th>\n",
       "      <th>220.265544</th>\n",
       "      <td>80.282201</td>\n",
       "      <td>113.684266</td>\n",
       "      <td>6.48</td>\n",
       "      <td>NaN</td>\n",
       "      <td>8.575225</td>\n",
       "      <td>NaN</td>\n",
       "      <td>NaN</td>\n",
       "      <td>NaN</td>\n",
       "      <td>NaN</td>\n",
       "      <td>0.000620</td>\n",
       "      <td>...</td>\n",
       "      <td>0.937306</td>\n",
       "      <td>NaN</td>\n",
       "      <td>NaN</td>\n",
       "      <td>NaN</td>\n",
       "      <td>NaN</td>\n",
       "      <td>0.000070</td>\n",
       "      <td>1.230358</td>\n",
       "      <td>NaN</td>\n",
       "      <td>NaN</td>\n",
       "      <td>NaN</td>\n",
       "    </tr>\n",
       "    <tr>\n",
       "      <th>All Cannings</th>\n",
       "      <th>203.089060</th>\n",
       "      <td>NaN</td>\n",
       "      <td>3.288095</td>\n",
       "      <td>54.56</td>\n",
       "      <td>NaN</td>\n",
       "      <td>95.254775</td>\n",
       "      <td>NaN</td>\n",
       "      <td>NaN</td>\n",
       "      <td>NaN</td>\n",
       "      <td>NaN</td>\n",
       "      <td>16.867401</td>\n",
       "      <td>...</td>\n",
       "      <td>5.178382</td>\n",
       "      <td>NaN</td>\n",
       "      <td>NaN</td>\n",
       "      <td>NaN</td>\n",
       "      <td>NaN</td>\n",
       "      <td>0.917085</td>\n",
       "      <td>1.764418</td>\n",
       "      <td>NaN</td>\n",
       "      <td>NaN</td>\n",
       "      <td>0.035156</td>\n",
       "    </tr>\n",
       "    <tr>\n",
       "      <th>Allington</th>\n",
       "      <th>322.107318</th>\n",
       "      <td>NaN</td>\n",
       "      <td>44.909382</td>\n",
       "      <td>NaN</td>\n",
       "      <td>NaN</td>\n",
       "      <td>262.895237</td>\n",
       "      <td>NaN</td>\n",
       "      <td>NaN</td>\n",
       "      <td>NaN</td>\n",
       "      <td>NaN</td>\n",
       "      <td>NaN</td>\n",
       "      <td>...</td>\n",
       "      <td>23.246086</td>\n",
       "      <td>NaN</td>\n",
       "      <td>NaN</td>\n",
       "      <td>NaN</td>\n",
       "      <td>NaN</td>\n",
       "      <td>NaN</td>\n",
       "      <td>0.391908</td>\n",
       "      <td>NaN</td>\n",
       "      <td>NaN</td>\n",
       "      <td>0.051299</td>\n",
       "    </tr>\n",
       "    <tr>\n",
       "      <th>Alton</th>\n",
       "      <th>130.436897</th>\n",
       "      <td>NaN</td>\n",
       "      <td>22.162646</td>\n",
       "      <td>NaN</td>\n",
       "      <td>NaN</td>\n",
       "      <td>101.926944</td>\n",
       "      <td>NaN</td>\n",
       "      <td>NaN</td>\n",
       "      <td>NaN</td>\n",
       "      <td>NaN</td>\n",
       "      <td>6.281162</td>\n",
       "      <td>...</td>\n",
       "      <td>9.869484</td>\n",
       "      <td>NaN</td>\n",
       "      <td>NaN</td>\n",
       "      <td>NaN</td>\n",
       "      <td>NaN</td>\n",
       "      <td>0.609083</td>\n",
       "      <td>0.002532</td>\n",
       "      <td>NaN</td>\n",
       "      <td>NaN</td>\n",
       "      <td>0.003805</td>\n",
       "    </tr>\n",
       "    <tr>\n",
       "      <th>...</th>\n",
       "      <th>...</th>\n",
       "      <td>...</td>\n",
       "      <td>...</td>\n",
       "      <td>...</td>\n",
       "      <td>...</td>\n",
       "      <td>...</td>\n",
       "      <td>...</td>\n",
       "      <td>...</td>\n",
       "      <td>...</td>\n",
       "      <td>...</td>\n",
       "      <td>...</td>\n",
       "      <td>...</td>\n",
       "      <td>...</td>\n",
       "      <td>...</td>\n",
       "      <td>...</td>\n",
       "      <td>...</td>\n",
       "      <td>...</td>\n",
       "      <td>...</td>\n",
       "      <td>...</td>\n",
       "      <td>...</td>\n",
       "      <td>...</td>\n",
       "      <td>...</td>\n",
       "    </tr>\n",
       "    <tr>\n",
       "      <th>Worton</th>\n",
       "      <th>2.766168</th>\n",
       "      <td>NaN</td>\n",
       "      <td>2.306168</td>\n",
       "      <td>NaN</td>\n",
       "      <td>NaN</td>\n",
       "      <td>NaN</td>\n",
       "      <td>NaN</td>\n",
       "      <td>NaN</td>\n",
       "      <td>NaN</td>\n",
       "      <td>NaN</td>\n",
       "      <td>NaN</td>\n",
       "      <td>...</td>\n",
       "      <td>NaN</td>\n",
       "      <td>NaN</td>\n",
       "      <td>NaN</td>\n",
       "      <td>NaN</td>\n",
       "      <td>NaN</td>\n",
       "      <td>NaN</td>\n",
       "      <td>0.115519</td>\n",
       "      <td>NaN</td>\n",
       "      <td>NaN</td>\n",
       "      <td>NaN</td>\n",
       "    </tr>\n",
       "    <tr>\n",
       "      <th>Wroughton</th>\n",
       "      <th>132.575646</th>\n",
       "      <td>NaN</td>\n",
       "      <td>71.912270</td>\n",
       "      <td>5.98</td>\n",
       "      <td>NaN</td>\n",
       "      <td>38.149100</td>\n",
       "      <td>NaN</td>\n",
       "      <td>NaN</td>\n",
       "      <td>NaN</td>\n",
       "      <td>NaN</td>\n",
       "      <td>10.020000</td>\n",
       "      <td>...</td>\n",
       "      <td>1.386193</td>\n",
       "      <td>NaN</td>\n",
       "      <td>NaN</td>\n",
       "      <td>NaN</td>\n",
       "      <td>NaN</td>\n",
       "      <td>0.364011</td>\n",
       "      <td>0.224619</td>\n",
       "      <td>0.001650</td>\n",
       "      <td>NaN</td>\n",
       "      <td>0.010313</td>\n",
       "    </tr>\n",
       "    <tr>\n",
       "      <th>Wylye</th>\n",
       "      <th>222.264509</th>\n",
       "      <td>37.227931</td>\n",
       "      <td>48.608966</td>\n",
       "      <td>17.02</td>\n",
       "      <td>NaN</td>\n",
       "      <td>109.867612</td>\n",
       "      <td>NaN</td>\n",
       "      <td>NaN</td>\n",
       "      <td>NaN</td>\n",
       "      <td>NaN</td>\n",
       "      <td>4.190000</td>\n",
       "      <td>...</td>\n",
       "      <td>6.832405</td>\n",
       "      <td>NaN</td>\n",
       "      <td>NaN</td>\n",
       "      <td>NaN</td>\n",
       "      <td>NaN</td>\n",
       "      <td>0.260464</td>\n",
       "      <td>0.301087</td>\n",
       "      <td>NaN</td>\n",
       "      <td>NaN</td>\n",
       "      <td>0.031326</td>\n",
       "    </tr>\n",
       "    <tr>\n",
       "      <th>Yatton Keynell</th>\n",
       "      <th>67.375188</th>\n",
       "      <td>NaN</td>\n",
       "      <td>37.037649</td>\n",
       "      <td>NaN</td>\n",
       "      <td>NaN</td>\n",
       "      <td>23.660000</td>\n",
       "      <td>NaN</td>\n",
       "      <td>NaN</td>\n",
       "      <td>NaN</td>\n",
       "      <td>NaN</td>\n",
       "      <td>NaN</td>\n",
       "      <td>...</td>\n",
       "      <td>3.326458</td>\n",
       "      <td>NaN</td>\n",
       "      <td>NaN</td>\n",
       "      <td>NaN</td>\n",
       "      <td>NaN</td>\n",
       "      <td>NaN</td>\n",
       "      <td>0.922185</td>\n",
       "      <td>NaN</td>\n",
       "      <td>NaN</td>\n",
       "      <td>0.017380</td>\n",
       "    </tr>\n",
       "    <tr>\n",
       "      <th>Zeals</th>\n",
       "      <th>39.812880</th>\n",
       "      <td>NaN</td>\n",
       "      <td>27.352881</td>\n",
       "      <td>5.10</td>\n",
       "      <td>NaN</td>\n",
       "      <td>5.390000</td>\n",
       "      <td>NaN</td>\n",
       "      <td>NaN</td>\n",
       "      <td>NaN</td>\n",
       "      <td>NaN</td>\n",
       "      <td>NaN</td>\n",
       "      <td>...</td>\n",
       "      <td>0.838810</td>\n",
       "      <td>NaN</td>\n",
       "      <td>NaN</td>\n",
       "      <td>NaN</td>\n",
       "      <td>NaN</td>\n",
       "      <td>NaN</td>\n",
       "      <td>0.278241</td>\n",
       "      <td>0.008704</td>\n",
       "      <td>NaN</td>\n",
       "      <td>0.014006</td>\n",
       "    </tr>\n",
       "  </tbody>\n",
       "</table>\n",
       "<p>278 rows × 28 columns</p>\n",
       "</div>"
      ],
      "text/plain": [
       "                                                    sum_AreaHa_x  \\\n",
       "MainHabs                    Coastal and floodplain grazing marsh   \n",
       "NAME           sum_AreaHa_y                                        \n",
       "Aldbourne      228.102996                                    NaN   \n",
       "Alderbury      220.265544                              80.282201   \n",
       "All Cannings   203.089060                                    NaN   \n",
       "Allington      322.107318                                    NaN   \n",
       "Alton          130.436897                                    NaN   \n",
       "...                                                          ...   \n",
       "Worton         2.766168                                      NaN   \n",
       "Wroughton      132.575646                                    NaN   \n",
       "Wylye          222.264509                              37.227931   \n",
       "Yatton Keynell 67.375188                                     NaN   \n",
       "Zeals          39.812880                                     NaN   \n",
       "\n",
       "                                                \\\n",
       "MainHabs                    Deciduous woodland   \n",
       "NAME           sum_AreaHa_y                      \n",
       "Aldbourne      228.102996           112.806569   \n",
       "Alderbury      220.265544           113.684266   \n",
       "All Cannings   203.089060             3.288095   \n",
       "Allington      322.107318            44.909382   \n",
       "Alton          130.436897            22.162646   \n",
       "...                                        ...   \n",
       "Worton         2.766168               2.306168   \n",
       "Wroughton      132.575646            71.912270   \n",
       "Wylye          222.264509            48.608966   \n",
       "Yatton Keynell 67.375188             37.037649   \n",
       "Zeals          39.812880             27.352881   \n",
       "\n",
       "                                                                  \\\n",
       "MainHabs                    Good quality semi improved grassland   \n",
       "NAME           sum_AreaHa_y                                        \n",
       "Aldbourne      228.102996                                    NaN   \n",
       "Alderbury      220.265544                                   6.48   \n",
       "All Cannings   203.089060                                  54.56   \n",
       "Allington      322.107318                                    NaN   \n",
       "Alton          130.436897                                    NaN   \n",
       "...                                                          ...   \n",
       "Worton         2.766168                                      NaN   \n",
       "Wroughton      132.575646                                   5.98   \n",
       "Wylye          222.264509                                  17.02   \n",
       "Yatton Keynell 67.375188                                     NaN   \n",
       "Zeals          39.812880                                    5.10   \n",
       "\n",
       "                                                                                      \\\n",
       "MainHabs                    Good quality semi improved grassland,Traditional orchard   \n",
       "NAME           sum_AreaHa_y                                                            \n",
       "Aldbourne      228.102996                                                  NaN         \n",
       "Alderbury      220.265544                                                  NaN         \n",
       "All Cannings   203.089060                                                  NaN         \n",
       "Allington      322.107318                                                  NaN         \n",
       "Alton          130.436897                                                  NaN         \n",
       "...                                                                        ...         \n",
       "Worton         2.766168                                                    NaN         \n",
       "Wroughton      132.575646                                                  NaN         \n",
       "Wylye          222.264509                                                  NaN         \n",
       "Yatton Keynell 67.375188                                                   NaN         \n",
       "Zeals          39.812880                                                   NaN         \n",
       "\n",
       "                                                          \\\n",
       "MainHabs                    Lowland calcareous grassland   \n",
       "NAME           sum_AreaHa_y                                \n",
       "Aldbourne      228.102996                      49.080356   \n",
       "Alderbury      220.265544                       8.575225   \n",
       "All Cannings   203.089060                      95.254775   \n",
       "Allington      322.107318                     262.895237   \n",
       "Alton          130.436897                     101.926944   \n",
       "...                                                  ...   \n",
       "Worton         2.766168                              NaN   \n",
       "Wroughton      132.575646                      38.149100   \n",
       "Wylye          222.264509                     109.867612   \n",
       "Yatton Keynell 67.375188                       23.660000   \n",
       "Zeals          39.812880                        5.390000   \n",
       "\n",
       "                                                        \\\n",
       "MainHabs                    Lowland dry acid grassland   \n",
       "NAME           sum_AreaHa_y                              \n",
       "Aldbourne      228.102996                          NaN   \n",
       "Alderbury      220.265544                          NaN   \n",
       "All Cannings   203.089060                          NaN   \n",
       "Allington      322.107318                          NaN   \n",
       "Alton          130.436897                          NaN   \n",
       "...                                                ...   \n",
       "Worton         2.766168                            NaN   \n",
       "Wroughton      132.575646                          NaN   \n",
       "Wylye          222.264509                          NaN   \n",
       "Yatton Keynell 67.375188                           NaN   \n",
       "Zeals          39.812880                           NaN   \n",
       "\n",
       "                                                                          \\\n",
       "MainHabs                    Lowland dry acid grassland,Lowland heathland   \n",
       "NAME           sum_AreaHa_y                                                \n",
       "Aldbourne      228.102996                                            NaN   \n",
       "Alderbury      220.265544                                            NaN   \n",
       "All Cannings   203.089060                                            NaN   \n",
       "Allington      322.107318                                            NaN   \n",
       "Alton          130.436897                                            NaN   \n",
       "...                                                                  ...   \n",
       "Worton         2.766168                                              NaN   \n",
       "Wroughton      132.575646                                            NaN   \n",
       "Wylye          222.264509                                            NaN   \n",
       "Yatton Keynell 67.375188                                             NaN   \n",
       "Zeals          39.812880                                             NaN   \n",
       "\n",
       "                                                                            \\\n",
       "MainHabs                    Lowland fens Lowland heathland Lowland meadows   \n",
       "NAME           sum_AreaHa_y                                                  \n",
       "Aldbourne      228.102996            NaN               NaN        4.880000   \n",
       "Alderbury      220.265544            NaN               NaN        0.000620   \n",
       "All Cannings   203.089060            NaN               NaN       16.867401   \n",
       "Allington      322.107318            NaN               NaN             NaN   \n",
       "Alton          130.436897            NaN               NaN        6.281162   \n",
       "...                                  ...               ...             ...   \n",
       "Worton         2.766168              NaN               NaN             NaN   \n",
       "Wroughton      132.575646            NaN               NaN       10.020000   \n",
       "Wylye          222.264509            NaN               NaN        4.190000   \n",
       "Yatton Keynell 67.375188             NaN               NaN             NaN   \n",
       "Zeals          39.812880             NaN               NaN             NaN   \n",
       "\n",
       "                             ...                  PercentArea  \\\n",
       "MainHabs                     ... Lowland calcareous grassland   \n",
       "NAME           sum_AreaHa_y  ...                                \n",
       "Aldbourne      228.102996    ...                     1.426651   \n",
       "Alderbury      220.265544    ...                     0.937306   \n",
       "All Cannings   203.089060    ...                     5.178382   \n",
       "Allington      322.107318    ...                    23.246086   \n",
       "Alton          130.436897    ...                     9.869484   \n",
       "...                          ...                          ...   \n",
       "Worton         2.766168      ...                          NaN   \n",
       "Wroughton      132.575646    ...                     1.386193   \n",
       "Wylye          222.264509    ...                     6.832405   \n",
       "Yatton Keynell 67.375188     ...                     3.326458   \n",
       "Zeals          39.812880     ...                     0.838810   \n",
       "\n",
       "                                                        \\\n",
       "MainHabs                    Lowland dry acid grassland   \n",
       "NAME           sum_AreaHa_y                              \n",
       "Aldbourne      228.102996                          NaN   \n",
       "Alderbury      220.265544                          NaN   \n",
       "All Cannings   203.089060                          NaN   \n",
       "Allington      322.107318                          NaN   \n",
       "Alton          130.436897                          NaN   \n",
       "...                                                ...   \n",
       "Worton         2.766168                            NaN   \n",
       "Wroughton      132.575646                          NaN   \n",
       "Wylye          222.264509                          NaN   \n",
       "Yatton Keynell 67.375188                           NaN   \n",
       "Zeals          39.812880                           NaN   \n",
       "\n",
       "                                                                          \\\n",
       "MainHabs                    Lowland dry acid grassland,Lowland heathland   \n",
       "NAME           sum_AreaHa_y                                                \n",
       "Aldbourne      228.102996                                            NaN   \n",
       "Alderbury      220.265544                                            NaN   \n",
       "All Cannings   203.089060                                            NaN   \n",
       "Allington      322.107318                                            NaN   \n",
       "Alton          130.436897                                            NaN   \n",
       "...                                                                  ...   \n",
       "Worton         2.766168                                              NaN   \n",
       "Wroughton      132.575646                                            NaN   \n",
       "Wylye          222.264509                                            NaN   \n",
       "Yatton Keynell 67.375188                                             NaN   \n",
       "Zeals          39.812880                                             NaN   \n",
       "\n",
       "                                                                            \\\n",
       "MainHabs                    Lowland fens Lowland heathland Lowland meadows   \n",
       "NAME           sum_AreaHa_y                                                  \n",
       "Aldbourne      228.102996            NaN               NaN        0.141905   \n",
       "Alderbury      220.265544            NaN               NaN        0.000070   \n",
       "All Cannings   203.089060            NaN               NaN        0.917085   \n",
       "Allington      322.107318            NaN               NaN             NaN   \n",
       "Alton          130.436897            NaN               NaN        0.609083   \n",
       "...                                  ...               ...             ...   \n",
       "Worton         2.766168              NaN               NaN             NaN   \n",
       "Wroughton      132.575646            NaN               NaN        0.364011   \n",
       "Wylye          222.264509            NaN               NaN        0.260464   \n",
       "Yatton Keynell 67.375188             NaN               NaN             NaN   \n",
       "Zeals          39.812880             NaN               NaN             NaN   \n",
       "\n",
       "                                                                             \\\n",
       "MainHabs                    No main habitat but additional habitats present   \n",
       "NAME           sum_AreaHa_y                                                   \n",
       "Aldbourne      228.102996                                          1.778316   \n",
       "Alderbury      220.265544                                          1.230358   \n",
       "All Cannings   203.089060                                          1.764418   \n",
       "Allington      322.107318                                          0.391908   \n",
       "Alton          130.436897                                          0.002532   \n",
       "...                                                                     ...   \n",
       "Worton         2.766168                                            0.115519   \n",
       "Wroughton      132.575646                                          0.224619   \n",
       "Wylye          222.264509                                          0.301087   \n",
       "Yatton Keynell 67.375188                                           0.922185   \n",
       "Zeals          39.812880                                           0.278241   \n",
       "\n",
       "                                                                           \\\n",
       "MainHabs                        Ponds Purple moor grass and rush pastures   \n",
       "NAME           sum_AreaHa_y                                                 \n",
       "Aldbourne      228.102996         NaN                                 NaN   \n",
       "Alderbury      220.265544         NaN                                 NaN   \n",
       "All Cannings   203.089060         NaN                                 NaN   \n",
       "Allington      322.107318         NaN                                 NaN   \n",
       "Alton          130.436897         NaN                                 NaN   \n",
       "...                               ...                                 ...   \n",
       "Worton         2.766168           NaN                                 NaN   \n",
       "Wroughton      132.575646    0.001650                                 NaN   \n",
       "Wylye          222.264509         NaN                                 NaN   \n",
       "Yatton Keynell 67.375188          NaN                                 NaN   \n",
       "Zeals          39.812880     0.008704                                 NaN   \n",
       "\n",
       "                                                 \n",
       "MainHabs                    Traditional orchard  \n",
       "NAME           sum_AreaHa_y                      \n",
       "Aldbourne      228.102996              0.004965  \n",
       "Alderbury      220.265544                   NaN  \n",
       "All Cannings   203.089060              0.035156  \n",
       "Allington      322.107318              0.051299  \n",
       "Alton          130.436897              0.003805  \n",
       "...                                         ...  \n",
       "Worton         2.766168                     NaN  \n",
       "Wroughton      132.575646              0.010313  \n",
       "Wylye          222.264509              0.031326  \n",
       "Yatton Keynell 67.375188               0.017380  \n",
       "Zeals          39.812880               0.014006  \n",
       "\n",
       "[278 rows x 28 columns]"
      ]
     },
     "execution_count": 32,
     "metadata": {},
     "output_type": "execute_result"
    }
   ],
   "source": [
    "df_all.pivot(columns = \"MainHabs\",index = [\"NAME\",'sum_AreaHa_y'],values = [ 'sum_AreaHa_x','PercentArea'])"
   ]
  }
 ],
 "metadata": {
  "kernelspec": {
   "display_name": "map-outputs-venv",
   "language": "python",
   "name": "python3"
  },
  "language_info": {
   "codemirror_mode": {
    "name": "ipython",
    "version": 3
   },
   "file_extension": ".py",
   "mimetype": "text/x-python",
   "name": "python",
   "nbconvert_exporter": "python",
   "pygments_lexer": "ipython3",
   "version": "3.13.3"
  }
 },
 "nbformat": 4,
 "nbformat_minor": 5
}
