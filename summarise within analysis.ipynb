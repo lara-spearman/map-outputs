{
 "cells": [
  {
   "cell_type": "code",
   "execution_count": 1,
   "id": "b8ddc88e",
   "metadata": {},
   "outputs": [],
   "source": [
    "import pandas as pd\n",
    "import plotly.express as px"
   ]
  },
  {
   "cell_type": "code",
   "execution_count": 2,
   "id": "5dee8ea0",
   "metadata": {},
   "outputs": [],
   "source": [
    "df_table = pd.read_csv(\"../Summary stats/PHI_summarised_table1.csv\")\n",
    "df_layer = pd.read_csv(\"../Summary stats/PHI_summarised1.csv\")"
   ]
  },
  {
   "cell_type": "code",
   "execution_count": 6,
   "id": "2d4f64e3",
   "metadata": {},
   "outputs": [
    {
     "data": {
      "text/html": [
       "<div>\n",
       "<style scoped>\n",
       "    .dataframe tbody tr th:only-of-type {\n",
       "        vertical-align: middle;\n",
       "    }\n",
       "\n",
       "    .dataframe tbody tr th {\n",
       "        vertical-align: top;\n",
       "    }\n",
       "\n",
       "    .dataframe thead th {\n",
       "        text-align: right;\n",
       "    }\n",
       "</style>\n",
       "<table border=\"1\" class=\"dataframe\">\n",
       "  <thead>\n",
       "    <tr style=\"text-align: right;\">\n",
       "      <th></th>\n",
       "      <th>NAME</th>\n",
       "      <th>AREA_CODE</th>\n",
       "      <th>DESCRIPTIO</th>\n",
       "      <th>FILE_NAME</th>\n",
       "      <th>NUMBER</th>\n",
       "      <th>NUMBER0</th>\n",
       "      <th>POLYGON_ID</th>\n",
       "      <th>UNIT_ID</th>\n",
       "      <th>CODE</th>\n",
       "      <th>HECTARES</th>\n",
       "      <th>...</th>\n",
       "      <th>DESCRIPT0</th>\n",
       "      <th>TYPE_COD0</th>\n",
       "      <th>DESCRIPT1</th>\n",
       "      <th>TO_Check</th>\n",
       "      <th>Shape_Length</th>\n",
       "      <th>Shape_Area</th>\n",
       "      <th>sum_AreaHa</th>\n",
       "      <th>sum_Area_SQUAREKILOMETERS</th>\n",
       "      <th>Polygon_Count</th>\n",
       "      <th>Join_ID</th>\n",
       "    </tr>\n",
       "  </thead>\n",
       "  <tbody>\n",
       "    <tr>\n",
       "      <th>0</th>\n",
       "      <td>Wroughton</td>\n",
       "      <td>CPC</td>\n",
       "      <td>Civil Parish or Community</td>\n",
       "      <td>SWINDON_(B)</td>\n",
       "      <td>12723.0</td>\n",
       "      <td>12723.0</td>\n",
       "      <td>125008.0</td>\n",
       "      <td>17138.0</td>\n",
       "      <td>E04012673</td>\n",
       "      <td>2752.776</td>\n",
       "      <td>...</td>\n",
       "      <td>CIVIL ADMINISTRATION AREA</td>\n",
       "      <td></td>\n",
       "      <td></td>\n",
       "      <td>Y</td>\n",
       "      <td>30574.004229</td>\n",
       "      <td>2.752776e+07</td>\n",
       "      <td>132.575646</td>\n",
       "      <td>1.326894</td>\n",
       "      <td>99</td>\n",
       "      <td>1</td>\n",
       "    </tr>\n",
       "    <tr>\n",
       "      <th>1</th>\n",
       "      <td>West Swindon</td>\n",
       "      <td>CPC</td>\n",
       "      <td>Civil Parish or Community</td>\n",
       "      <td>SWINDON_(B)</td>\n",
       "      <td>12724.0</td>\n",
       "      <td>12724.0</td>\n",
       "      <td>127908.0</td>\n",
       "      <td>44777.0</td>\n",
       "      <td>E04012672</td>\n",
       "      <td>909.810</td>\n",
       "      <td>...</td>\n",
       "      <td>CIVIL ADMINISTRATION AREA</td>\n",
       "      <td></td>\n",
       "      <td></td>\n",
       "      <td>Y</td>\n",
       "      <td>16055.316966</td>\n",
       "      <td>9.098105e+06</td>\n",
       "      <td>84.835055</td>\n",
       "      <td>0.848794</td>\n",
       "      <td>147</td>\n",
       "      <td>2</td>\n",
       "    </tr>\n",
       "    <tr>\n",
       "      <th>2</th>\n",
       "      <td>Inglesham</td>\n",
       "      <td>CPC</td>\n",
       "      <td>Civil Parish or Community</td>\n",
       "      <td>SWINDON_(B)</td>\n",
       "      <td>12725.0</td>\n",
       "      <td>12725.0</td>\n",
       "      <td>58837.0</td>\n",
       "      <td>16841.0</td>\n",
       "      <td>E04001093</td>\n",
       "      <td>502.016</td>\n",
       "      <td>...</td>\n",
       "      <td>CIVIL ADMINISTRATION AREA</td>\n",
       "      <td></td>\n",
       "      <td></td>\n",
       "      <td>Y</td>\n",
       "      <td>14276.870207</td>\n",
       "      <td>5.020164e+06</td>\n",
       "      <td>92.167698</td>\n",
       "      <td>0.258047</td>\n",
       "      <td>12</td>\n",
       "      <td>3</td>\n",
       "    </tr>\n",
       "    <tr>\n",
       "      <th>3</th>\n",
       "      <td>Central Swindon South</td>\n",
       "      <td>CPC</td>\n",
       "      <td>Civil Parish or Community</td>\n",
       "      <td>SWINDON_(B)</td>\n",
       "      <td>12726.0</td>\n",
       "      <td>12726.0</td>\n",
       "      <td>127909.0</td>\n",
       "      <td>44778.0</td>\n",
       "      <td>E04012664</td>\n",
       "      <td>1692.098</td>\n",
       "      <td>...</td>\n",
       "      <td>CIVIL ADMINISTRATION AREA</td>\n",
       "      <td></td>\n",
       "      <td></td>\n",
       "      <td>Y</td>\n",
       "      <td>20278.502702</td>\n",
       "      <td>1.692098e+07</td>\n",
       "      <td>117.656170</td>\n",
       "      <td>1.177924</td>\n",
       "      <td>185</td>\n",
       "      <td>4</td>\n",
       "    </tr>\n",
       "    <tr>\n",
       "      <th>4</th>\n",
       "      <td>Liddington</td>\n",
       "      <td>CPC</td>\n",
       "      <td>Civil Parish or Community</td>\n",
       "      <td>SWINDON_(B)</td>\n",
       "      <td>12727.0</td>\n",
       "      <td>12727.0</td>\n",
       "      <td>59253.0</td>\n",
       "      <td>17255.0</td>\n",
       "      <td>E04001094</td>\n",
       "      <td>819.309</td>\n",
       "      <td>...</td>\n",
       "      <td>CIVIL ADMINISTRATION AREA</td>\n",
       "      <td></td>\n",
       "      <td></td>\n",
       "      <td>Y</td>\n",
       "      <td>15953.014584</td>\n",
       "      <td>8.193088e+06</td>\n",
       "      <td>59.311302</td>\n",
       "      <td>0.593617</td>\n",
       "      <td>37</td>\n",
       "      <td>5</td>\n",
       "    </tr>\n",
       "    <tr>\n",
       "      <th>...</th>\n",
       "      <td>...</td>\n",
       "      <td>...</td>\n",
       "      <td>...</td>\n",
       "      <td>...</td>\n",
       "      <td>...</td>\n",
       "      <td>...</td>\n",
       "      <td>...</td>\n",
       "      <td>...</td>\n",
       "      <td>...</td>\n",
       "      <td>...</td>\n",
       "      <td>...</td>\n",
       "      <td>...</td>\n",
       "      <td>...</td>\n",
       "      <td>...</td>\n",
       "      <td>...</td>\n",
       "      <td>...</td>\n",
       "      <td>...</td>\n",
       "      <td>...</td>\n",
       "      <td>...</td>\n",
       "      <td>...</td>\n",
       "      <td>...</td>\n",
       "    </tr>\n",
       "    <tr>\n",
       "      <th>273</th>\n",
       "      <td>East Kennett</td>\n",
       "      <td>CPC</td>\n",
       "      <td>Civil Parish or Community</td>\n",
       "      <td>WILTSHIRE</td>\n",
       "      <td>13130.0</td>\n",
       "      <td>13130.0</td>\n",
       "      <td>58968.0</td>\n",
       "      <td>16971.0</td>\n",
       "      <td>E04011703</td>\n",
       "      <td>338.759</td>\n",
       "      <td>...</td>\n",
       "      <td>CIVIL ADMINISTRATION AREA</td>\n",
       "      <td></td>\n",
       "      <td></td>\n",
       "      <td>Y</td>\n",
       "      <td>9904.970264</td>\n",
       "      <td>3.387588e+06</td>\n",
       "      <td>46.730668</td>\n",
       "      <td>0.467490</td>\n",
       "      <td>25</td>\n",
       "      <td>274</td>\n",
       "    </tr>\n",
       "    <tr>\n",
       "      <th>274</th>\n",
       "      <td>Wootton Rivers</td>\n",
       "      <td>CPC</td>\n",
       "      <td>Civil Parish or Community</td>\n",
       "      <td>WILTSHIRE</td>\n",
       "      <td>13131.0</td>\n",
       "      <td>13131.0</td>\n",
       "      <td>58869.0</td>\n",
       "      <td>16872.0</td>\n",
       "      <td>E04011871</td>\n",
       "      <td>704.437</td>\n",
       "      <td>...</td>\n",
       "      <td>CIVIL ADMINISTRATION AREA</td>\n",
       "      <td></td>\n",
       "      <td></td>\n",
       "      <td>Y</td>\n",
       "      <td>13077.707151</td>\n",
       "      <td>7.044373e+06</td>\n",
       "      <td>31.670332</td>\n",
       "      <td>0.316907</td>\n",
       "      <td>19</td>\n",
       "      <td>275</td>\n",
       "    </tr>\n",
       "    <tr>\n",
       "      <th>275</th>\n",
       "      <td>Marlborough</td>\n",
       "      <td>CPC</td>\n",
       "      <td>Civil Parish or Community</td>\n",
       "      <td>WILTSHIRE</td>\n",
       "      <td>13132.0</td>\n",
       "      <td>13132.0</td>\n",
       "      <td>123757.0</td>\n",
       "      <td>16867.0</td>\n",
       "      <td>E04011769</td>\n",
       "      <td>605.233</td>\n",
       "      <td>...</td>\n",
       "      <td>CIVIL ADMINISTRATION AREA</td>\n",
       "      <td></td>\n",
       "      <td></td>\n",
       "      <td>Y</td>\n",
       "      <td>15669.798212</td>\n",
       "      <td>6.052328e+06</td>\n",
       "      <td>28.140746</td>\n",
       "      <td>0.281666</td>\n",
       "      <td>52</td>\n",
       "      <td>276</td>\n",
       "    </tr>\n",
       "    <tr>\n",
       "      <th>276</th>\n",
       "      <td>Chilton Foliat</td>\n",
       "      <td>CPC</td>\n",
       "      <td>Civil Parish or Community</td>\n",
       "      <td>WILTSHIRE</td>\n",
       "      <td>13133.0</td>\n",
       "      <td>13133.0</td>\n",
       "      <td>59261.0</td>\n",
       "      <td>17263.0</td>\n",
       "      <td>E04011671</td>\n",
       "      <td>890.847</td>\n",
       "      <td>...</td>\n",
       "      <td>CIVIL ADMINISTRATION AREA</td>\n",
       "      <td></td>\n",
       "      <td></td>\n",
       "      <td>Y</td>\n",
       "      <td>14404.707571</td>\n",
       "      <td>8.908471e+06</td>\n",
       "      <td>197.337823</td>\n",
       "      <td>1.507358</td>\n",
       "      <td>71</td>\n",
       "      <td>277</td>\n",
       "    </tr>\n",
       "    <tr>\n",
       "      <th>277</th>\n",
       "      <td>Quidhampton</td>\n",
       "      <td>CPC</td>\n",
       "      <td>Civil Parish or Community</td>\n",
       "      <td>WILTSHIRE</td>\n",
       "      <td>13134.0</td>\n",
       "      <td>13134.0</td>\n",
       "      <td>58807.0</td>\n",
       "      <td>16812.0</td>\n",
       "      <td>E04012696</td>\n",
       "      <td>104.080</td>\n",
       "      <td>...</td>\n",
       "      <td>CIVIL ADMINISTRATION AREA</td>\n",
       "      <td></td>\n",
       "      <td></td>\n",
       "      <td>Y</td>\n",
       "      <td>6179.718812</td>\n",
       "      <td>1.040798e+06</td>\n",
       "      <td>65.955112</td>\n",
       "      <td>0.660091</td>\n",
       "      <td>14</td>\n",
       "      <td>278</td>\n",
       "    </tr>\n",
       "  </tbody>\n",
       "</table>\n",
       "<p>278 rows × 22 columns</p>\n",
       "</div>"
      ],
      "text/plain": [
       "                      NAME AREA_CODE                 DESCRIPTIO    FILE_NAME  \\\n",
       "0                Wroughton       CPC  Civil Parish or Community  SWINDON_(B)   \n",
       "1             West Swindon       CPC  Civil Parish or Community  SWINDON_(B)   \n",
       "2                Inglesham       CPC  Civil Parish or Community  SWINDON_(B)   \n",
       "3    Central Swindon South       CPC  Civil Parish or Community  SWINDON_(B)   \n",
       "4               Liddington       CPC  Civil Parish or Community  SWINDON_(B)   \n",
       "..                     ...       ...                        ...          ...   \n",
       "273           East Kennett       CPC  Civil Parish or Community    WILTSHIRE   \n",
       "274         Wootton Rivers       CPC  Civil Parish or Community    WILTSHIRE   \n",
       "275            Marlborough       CPC  Civil Parish or Community    WILTSHIRE   \n",
       "276         Chilton Foliat       CPC  Civil Parish or Community    WILTSHIRE   \n",
       "277            Quidhampton       CPC  Civil Parish or Community    WILTSHIRE   \n",
       "\n",
       "      NUMBER  NUMBER0  POLYGON_ID  UNIT_ID       CODE  HECTARES  ...  \\\n",
       "0    12723.0  12723.0    125008.0  17138.0  E04012673  2752.776  ...   \n",
       "1    12724.0  12724.0    127908.0  44777.0  E04012672   909.810  ...   \n",
       "2    12725.0  12725.0     58837.0  16841.0  E04001093   502.016  ...   \n",
       "3    12726.0  12726.0    127909.0  44778.0  E04012664  1692.098  ...   \n",
       "4    12727.0  12727.0     59253.0  17255.0  E04001094   819.309  ...   \n",
       "..       ...      ...         ...      ...        ...       ...  ...   \n",
       "273  13130.0  13130.0     58968.0  16971.0  E04011703   338.759  ...   \n",
       "274  13131.0  13131.0     58869.0  16872.0  E04011871   704.437  ...   \n",
       "275  13132.0  13132.0    123757.0  16867.0  E04011769   605.233  ...   \n",
       "276  13133.0  13133.0     59261.0  17263.0  E04011671   890.847  ...   \n",
       "277  13134.0  13134.0     58807.0  16812.0  E04012696   104.080  ...   \n",
       "\n",
       "                     DESCRIPT0 TYPE_COD0 DESCRIPT1 TO_Check  Shape_Length  \\\n",
       "0    CIVIL ADMINISTRATION AREA                            Y  30574.004229   \n",
       "1    CIVIL ADMINISTRATION AREA                            Y  16055.316966   \n",
       "2    CIVIL ADMINISTRATION AREA                            Y  14276.870207   \n",
       "3    CIVIL ADMINISTRATION AREA                            Y  20278.502702   \n",
       "4    CIVIL ADMINISTRATION AREA                            Y  15953.014584   \n",
       "..                         ...       ...       ...      ...           ...   \n",
       "273  CIVIL ADMINISTRATION AREA                            Y   9904.970264   \n",
       "274  CIVIL ADMINISTRATION AREA                            Y  13077.707151   \n",
       "275  CIVIL ADMINISTRATION AREA                            Y  15669.798212   \n",
       "276  CIVIL ADMINISTRATION AREA                            Y  14404.707571   \n",
       "277  CIVIL ADMINISTRATION AREA                            Y   6179.718812   \n",
       "\n",
       "       Shape_Area  sum_AreaHa  sum_Area_SQUAREKILOMETERS  Polygon_Count  \\\n",
       "0    2.752776e+07  132.575646                   1.326894             99   \n",
       "1    9.098105e+06   84.835055                   0.848794            147   \n",
       "2    5.020164e+06   92.167698                   0.258047             12   \n",
       "3    1.692098e+07  117.656170                   1.177924            185   \n",
       "4    8.193088e+06   59.311302                   0.593617             37   \n",
       "..            ...         ...                        ...            ...   \n",
       "273  3.387588e+06   46.730668                   0.467490             25   \n",
       "274  7.044373e+06   31.670332                   0.316907             19   \n",
       "275  6.052328e+06   28.140746                   0.281666             52   \n",
       "276  8.908471e+06  197.337823                   1.507358             71   \n",
       "277  1.040798e+06   65.955112                   0.660091             14   \n",
       "\n",
       "     Join_ID  \n",
       "0          1  \n",
       "1          2  \n",
       "2          3  \n",
       "3          4  \n",
       "4          5  \n",
       "..       ...  \n",
       "273      274  \n",
       "274      275  \n",
       "275      276  \n",
       "276      277  \n",
       "277      278  \n",
       "\n",
       "[278 rows x 22 columns]"
      ]
     },
     "execution_count": 6,
     "metadata": {},
     "output_type": "execute_result"
    }
   ],
   "source": [
    "df_layer"
   ]
  },
  {
   "cell_type": "code",
   "execution_count": 3,
   "id": "1c3c209c",
   "metadata": {},
   "outputs": [],
   "source": [
    "df_all = df_table.merge(df_layer, on=\"Join_ID\")"
   ]
  },
  {
   "cell_type": "code",
   "execution_count": 4,
   "id": "1a9f4abf",
   "metadata": {},
   "outputs": [],
   "source": [
    "df_colerne = df_all[df_all.NAME == \"Colerne\"]"
   ]
  },
  {
   "cell_type": "code",
   "execution_count": 10,
   "id": "05045816",
   "metadata": {},
   "outputs": [
    {
     "data": {
      "text/html": [
       "<div>\n",
       "<style scoped>\n",
       "    .dataframe tbody tr th:only-of-type {\n",
       "        vertical-align: middle;\n",
       "    }\n",
       "\n",
       "    .dataframe tbody tr th {\n",
       "        vertical-align: top;\n",
       "    }\n",
       "\n",
       "    .dataframe thead th {\n",
       "        text-align: right;\n",
       "    }\n",
       "</style>\n",
       "<table border=\"1\" class=\"dataframe\">\n",
       "  <thead>\n",
       "    <tr style=\"text-align: right;\">\n",
       "      <th></th>\n",
       "      <th>Join_ID</th>\n",
       "      <th>MainHabs</th>\n",
       "      <th>sum_AreaHa_x</th>\n",
       "      <th>sum_Area_SQUAREKILOMETERS_x</th>\n",
       "      <th>Polygon_Count_x</th>\n",
       "      <th>PercentArea</th>\n",
       "      <th>NAME</th>\n",
       "      <th>AREA_CODE</th>\n",
       "      <th>DESCRIPTIO</th>\n",
       "      <th>FILE_NAME</th>\n",
       "      <th>...</th>\n",
       "      <th>TYPE_CODE</th>\n",
       "      <th>DESCRIPT0</th>\n",
       "      <th>TYPE_COD0</th>\n",
       "      <th>DESCRIPT1</th>\n",
       "      <th>TO_Check</th>\n",
       "      <th>Shape_Length</th>\n",
       "      <th>Shape_Area</th>\n",
       "      <th>sum_AreaHa_y</th>\n",
       "      <th>sum_Area_SQUAREKILOMETERS_y</th>\n",
       "      <th>Polygon_Count_y</th>\n",
       "    </tr>\n",
       "  </thead>\n",
       "  <tbody>\n",
       "    <tr>\n",
       "      <th>901</th>\n",
       "      <td>179</td>\n",
       "      <td>Coastal and floodplain grazing marsh</td>\n",
       "      <td>0.370000</td>\n",
       "      <td>0.003674</td>\n",
       "      <td>1</td>\n",
       "      <td>0.023433</td>\n",
       "      <td>Colerne</td>\n",
       "      <td>CPC</td>\n",
       "      <td>Civil Parish or Community</td>\n",
       "      <td>WILTSHIRE</td>\n",
       "      <td>...</td>\n",
       "      <td>AA</td>\n",
       "      <td>CIVIL ADMINISTRATION AREA</td>\n",
       "      <td></td>\n",
       "      <td></td>\n",
       "      <td>Y</td>\n",
       "      <td>21418.577895</td>\n",
       "      <td>1.566428e+07</td>\n",
       "      <td>418.614084</td>\n",
       "      <td>3.835961</td>\n",
       "      <td>96</td>\n",
       "    </tr>\n",
       "    <tr>\n",
       "      <th>902</th>\n",
       "      <td>179</td>\n",
       "      <td>Deciduous woodland</td>\n",
       "      <td>293.559529</td>\n",
       "      <td>2.618105</td>\n",
       "      <td>53</td>\n",
       "      <td>16.700657</td>\n",
       "      <td>Colerne</td>\n",
       "      <td>CPC</td>\n",
       "      <td>Civil Parish or Community</td>\n",
       "      <td>WILTSHIRE</td>\n",
       "      <td>...</td>\n",
       "      <td>AA</td>\n",
       "      <td>CIVIL ADMINISTRATION AREA</td>\n",
       "      <td></td>\n",
       "      <td></td>\n",
       "      <td>Y</td>\n",
       "      <td>21418.577895</td>\n",
       "      <td>1.566428e+07</td>\n",
       "      <td>418.614084</td>\n",
       "      <td>3.835961</td>\n",
       "      <td>96</td>\n",
       "    </tr>\n",
       "    <tr>\n",
       "      <th>903</th>\n",
       "      <td>179</td>\n",
       "      <td>Good quality semi improved grassland</td>\n",
       "      <td>67.450000</td>\n",
       "      <td>0.675021</td>\n",
       "      <td>19</td>\n",
       "      <td>4.305906</td>\n",
       "      <td>Colerne</td>\n",
       "      <td>CPC</td>\n",
       "      <td>Civil Parish or Community</td>\n",
       "      <td>WILTSHIRE</td>\n",
       "      <td>...</td>\n",
       "      <td>AA</td>\n",
       "      <td>CIVIL ADMINISTRATION AREA</td>\n",
       "      <td></td>\n",
       "      <td></td>\n",
       "      <td>Y</td>\n",
       "      <td>21418.577895</td>\n",
       "      <td>1.566428e+07</td>\n",
       "      <td>418.614084</td>\n",
       "      <td>3.835961</td>\n",
       "      <td>96</td>\n",
       "    </tr>\n",
       "    <tr>\n",
       "      <th>904</th>\n",
       "      <td>179</td>\n",
       "      <td>Lowland calcareous grassland</td>\n",
       "      <td>48.374555</td>\n",
       "      <td>0.450514</td>\n",
       "      <td>10</td>\n",
       "      <td>2.873788</td>\n",
       "      <td>Colerne</td>\n",
       "      <td>CPC</td>\n",
       "      <td>Civil Parish or Community</td>\n",
       "      <td>WILTSHIRE</td>\n",
       "      <td>...</td>\n",
       "      <td>AA</td>\n",
       "      <td>CIVIL ADMINISTRATION AREA</td>\n",
       "      <td></td>\n",
       "      <td></td>\n",
       "      <td>Y</td>\n",
       "      <td>21418.577895</td>\n",
       "      <td>1.566428e+07</td>\n",
       "      <td>418.614084</td>\n",
       "      <td>3.835961</td>\n",
       "      <td>96</td>\n",
       "    </tr>\n",
       "    <tr>\n",
       "      <th>905</th>\n",
       "      <td>179</td>\n",
       "      <td>Lowland fens</td>\n",
       "      <td>1.820000</td>\n",
       "      <td>0.018138</td>\n",
       "      <td>5</td>\n",
       "      <td>0.115703</td>\n",
       "      <td>Colerne</td>\n",
       "      <td>CPC</td>\n",
       "      <td>Civil Parish or Community</td>\n",
       "      <td>WILTSHIRE</td>\n",
       "      <td>...</td>\n",
       "      <td>AA</td>\n",
       "      <td>CIVIL ADMINISTRATION AREA</td>\n",
       "      <td></td>\n",
       "      <td></td>\n",
       "      <td>Y</td>\n",
       "      <td>21418.577895</td>\n",
       "      <td>1.566428e+07</td>\n",
       "      <td>418.614084</td>\n",
       "      <td>3.835961</td>\n",
       "      <td>96</td>\n",
       "    </tr>\n",
       "    <tr>\n",
       "      <th>906</th>\n",
       "      <td>179</td>\n",
       "      <td>Lowland meadows</td>\n",
       "      <td>3.500000</td>\n",
       "      <td>0.035030</td>\n",
       "      <td>2</td>\n",
       "      <td>0.223455</td>\n",
       "      <td>Colerne</td>\n",
       "      <td>CPC</td>\n",
       "      <td>Civil Parish or Community</td>\n",
       "      <td>WILTSHIRE</td>\n",
       "      <td>...</td>\n",
       "      <td>AA</td>\n",
       "      <td>CIVIL ADMINISTRATION AREA</td>\n",
       "      <td></td>\n",
       "      <td></td>\n",
       "      <td>Y</td>\n",
       "      <td>21418.577895</td>\n",
       "      <td>1.566428e+07</td>\n",
       "      <td>418.614084</td>\n",
       "      <td>3.835961</td>\n",
       "      <td>96</td>\n",
       "    </tr>\n",
       "    <tr>\n",
       "      <th>907</th>\n",
       "      <td>179</td>\n",
       "      <td>No main habitat but additional habitats present</td>\n",
       "      <td>3.480000</td>\n",
       "      <td>0.034879</td>\n",
       "      <td>4</td>\n",
       "      <td>0.222491</td>\n",
       "      <td>Colerne</td>\n",
       "      <td>CPC</td>\n",
       "      <td>Civil Parish or Community</td>\n",
       "      <td>WILTSHIRE</td>\n",
       "      <td>...</td>\n",
       "      <td>AA</td>\n",
       "      <td>CIVIL ADMINISTRATION AREA</td>\n",
       "      <td></td>\n",
       "      <td></td>\n",
       "      <td>Y</td>\n",
       "      <td>21418.577895</td>\n",
       "      <td>1.566428e+07</td>\n",
       "      <td>418.614084</td>\n",
       "      <td>3.835961</td>\n",
       "      <td>96</td>\n",
       "    </tr>\n",
       "    <tr>\n",
       "      <th>908</th>\n",
       "      <td>179</td>\n",
       "      <td>Traditional orchard</td>\n",
       "      <td>0.060000</td>\n",
       "      <td>0.000599</td>\n",
       "      <td>2</td>\n",
       "      <td>0.003823</td>\n",
       "      <td>Colerne</td>\n",
       "      <td>CPC</td>\n",
       "      <td>Civil Parish or Community</td>\n",
       "      <td>WILTSHIRE</td>\n",
       "      <td>...</td>\n",
       "      <td>AA</td>\n",
       "      <td>CIVIL ADMINISTRATION AREA</td>\n",
       "      <td></td>\n",
       "      <td></td>\n",
       "      <td>Y</td>\n",
       "      <td>21418.577895</td>\n",
       "      <td>1.566428e+07</td>\n",
       "      <td>418.614084</td>\n",
       "      <td>3.835961</td>\n",
       "      <td>96</td>\n",
       "    </tr>\n",
       "  </tbody>\n",
       "</table>\n",
       "<p>8 rows × 27 columns</p>\n",
       "</div>"
      ],
      "text/plain": [
       "     Join_ID                                         MainHabs  sum_AreaHa_x  \\\n",
       "901      179             Coastal and floodplain grazing marsh      0.370000   \n",
       "902      179                               Deciduous woodland    293.559529   \n",
       "903      179             Good quality semi improved grassland     67.450000   \n",
       "904      179                     Lowland calcareous grassland     48.374555   \n",
       "905      179                                     Lowland fens      1.820000   \n",
       "906      179                                  Lowland meadows      3.500000   \n",
       "907      179  No main habitat but additional habitats present      3.480000   \n",
       "908      179                              Traditional orchard      0.060000   \n",
       "\n",
       "     sum_Area_SQUAREKILOMETERS_x  Polygon_Count_x  PercentArea     NAME  \\\n",
       "901                     0.003674                1     0.023433  Colerne   \n",
       "902                     2.618105               53    16.700657  Colerne   \n",
       "903                     0.675021               19     4.305906  Colerne   \n",
       "904                     0.450514               10     2.873788  Colerne   \n",
       "905                     0.018138                5     0.115703  Colerne   \n",
       "906                     0.035030                2     0.223455  Colerne   \n",
       "907                     0.034879                4     0.222491  Colerne   \n",
       "908                     0.000599                2     0.003823  Colerne   \n",
       "\n",
       "    AREA_CODE                 DESCRIPTIO  FILE_NAME  ...  TYPE_CODE  \\\n",
       "901       CPC  Civil Parish or Community  WILTSHIRE  ...         AA   \n",
       "902       CPC  Civil Parish or Community  WILTSHIRE  ...         AA   \n",
       "903       CPC  Civil Parish or Community  WILTSHIRE  ...         AA   \n",
       "904       CPC  Civil Parish or Community  WILTSHIRE  ...         AA   \n",
       "905       CPC  Civil Parish or Community  WILTSHIRE  ...         AA   \n",
       "906       CPC  Civil Parish or Community  WILTSHIRE  ...         AA   \n",
       "907       CPC  Civil Parish or Community  WILTSHIRE  ...         AA   \n",
       "908       CPC  Civil Parish or Community  WILTSHIRE  ...         AA   \n",
       "\n",
       "                     DESCRIPT0  TYPE_COD0  DESCRIPT1 TO_Check  Shape_Length  \\\n",
       "901  CIVIL ADMINISTRATION AREA                              Y  21418.577895   \n",
       "902  CIVIL ADMINISTRATION AREA                              Y  21418.577895   \n",
       "903  CIVIL ADMINISTRATION AREA                              Y  21418.577895   \n",
       "904  CIVIL ADMINISTRATION AREA                              Y  21418.577895   \n",
       "905  CIVIL ADMINISTRATION AREA                              Y  21418.577895   \n",
       "906  CIVIL ADMINISTRATION AREA                              Y  21418.577895   \n",
       "907  CIVIL ADMINISTRATION AREA                              Y  21418.577895   \n",
       "908  CIVIL ADMINISTRATION AREA                              Y  21418.577895   \n",
       "\n",
       "       Shape_Area sum_AreaHa_y sum_Area_SQUAREKILOMETERS_y Polygon_Count_y  \n",
       "901  1.566428e+07   418.614084                    3.835961              96  \n",
       "902  1.566428e+07   418.614084                    3.835961              96  \n",
       "903  1.566428e+07   418.614084                    3.835961              96  \n",
       "904  1.566428e+07   418.614084                    3.835961              96  \n",
       "905  1.566428e+07   418.614084                    3.835961              96  \n",
       "906  1.566428e+07   418.614084                    3.835961              96  \n",
       "907  1.566428e+07   418.614084                    3.835961              96  \n",
       "908  1.566428e+07   418.614084                    3.835961              96  \n",
       "\n",
       "[8 rows x 27 columns]"
      ]
     },
     "execution_count": 10,
     "metadata": {},
     "output_type": "execute_result"
    }
   ],
   "source": [
    "df_colerne"
   ]
  },
  {
   "cell_type": "code",
   "execution_count": 7,
   "id": "04a300b5",
   "metadata": {},
   "outputs": [
    {
     "data": {
      "application/vnd.plotly.v1+json": {
       "config": {
        "plotlyServerURL": "https://plot.ly"
       },
       "data": [
        {
         "hovertemplate": "MainHabs=%{x}<br>PercentArea=%{y}<extra></extra>",
         "legendgroup": "",
         "marker": {
          "color": "#636efa",
          "pattern": {
           "shape": ""
          }
         },
         "name": "",
         "orientation": "v",
         "showlegend": false,
         "textposition": "auto",
         "type": "bar",
         "x": [
          "Coastal and floodplain grazing marsh",
          "Deciduous woodland",
          "Good quality semi improved grassland",
          "Lowland calcareous grassland",
          "Lowland fens",
          "Lowland meadows",
          "No main habitat but additional habitats present",
          "Traditional orchard"
         ],
         "xaxis": "x",
         "y": {
          "bdata": "UepX2sz+lz90V3c7XrMwQBy6gl4/ORFAKB9+T4T9BkAluZrYsp69PxD9Lo4pmsw/qMDSC5d6zD+OD/Yn1lBvPw==",
          "dtype": "f8"
         },
         "yaxis": "y"
        }
       ],
       "layout": {
        "barmode": "relative",
        "legend": {
         "tracegroupgap": 0
        },
        "margin": {
         "t": 60
        },
        "template": {
         "data": {
          "bar": [
           {
            "error_x": {
             "color": "#2a3f5f"
            },
            "error_y": {
             "color": "#2a3f5f"
            },
            "marker": {
             "line": {
              "color": "#E5ECF6",
              "width": 0.5
             },
             "pattern": {
              "fillmode": "overlay",
              "size": 10,
              "solidity": 0.2
             }
            },
            "type": "bar"
           }
          ],
          "barpolar": [
           {
            "marker": {
             "line": {
              "color": "#E5ECF6",
              "width": 0.5
             },
             "pattern": {
              "fillmode": "overlay",
              "size": 10,
              "solidity": 0.2
             }
            },
            "type": "barpolar"
           }
          ],
          "carpet": [
           {
            "aaxis": {
             "endlinecolor": "#2a3f5f",
             "gridcolor": "white",
             "linecolor": "white",
             "minorgridcolor": "white",
             "startlinecolor": "#2a3f5f"
            },
            "baxis": {
             "endlinecolor": "#2a3f5f",
             "gridcolor": "white",
             "linecolor": "white",
             "minorgridcolor": "white",
             "startlinecolor": "#2a3f5f"
            },
            "type": "carpet"
           }
          ],
          "choropleth": [
           {
            "colorbar": {
             "outlinewidth": 0,
             "ticks": ""
            },
            "type": "choropleth"
           }
          ],
          "contour": [
           {
            "colorbar": {
             "outlinewidth": 0,
             "ticks": ""
            },
            "colorscale": [
             [
              0,
              "#0d0887"
             ],
             [
              0.1111111111111111,
              "#46039f"
             ],
             [
              0.2222222222222222,
              "#7201a8"
             ],
             [
              0.3333333333333333,
              "#9c179e"
             ],
             [
              0.4444444444444444,
              "#bd3786"
             ],
             [
              0.5555555555555556,
              "#d8576b"
             ],
             [
              0.6666666666666666,
              "#ed7953"
             ],
             [
              0.7777777777777778,
              "#fb9f3a"
             ],
             [
              0.8888888888888888,
              "#fdca26"
             ],
             [
              1,
              "#f0f921"
             ]
            ],
            "type": "contour"
           }
          ],
          "contourcarpet": [
           {
            "colorbar": {
             "outlinewidth": 0,
             "ticks": ""
            },
            "type": "contourcarpet"
           }
          ],
          "heatmap": [
           {
            "colorbar": {
             "outlinewidth": 0,
             "ticks": ""
            },
            "colorscale": [
             [
              0,
              "#0d0887"
             ],
             [
              0.1111111111111111,
              "#46039f"
             ],
             [
              0.2222222222222222,
              "#7201a8"
             ],
             [
              0.3333333333333333,
              "#9c179e"
             ],
             [
              0.4444444444444444,
              "#bd3786"
             ],
             [
              0.5555555555555556,
              "#d8576b"
             ],
             [
              0.6666666666666666,
              "#ed7953"
             ],
             [
              0.7777777777777778,
              "#fb9f3a"
             ],
             [
              0.8888888888888888,
              "#fdca26"
             ],
             [
              1,
              "#f0f921"
             ]
            ],
            "type": "heatmap"
           }
          ],
          "histogram": [
           {
            "marker": {
             "pattern": {
              "fillmode": "overlay",
              "size": 10,
              "solidity": 0.2
             }
            },
            "type": "histogram"
           }
          ],
          "histogram2d": [
           {
            "colorbar": {
             "outlinewidth": 0,
             "ticks": ""
            },
            "colorscale": [
             [
              0,
              "#0d0887"
             ],
             [
              0.1111111111111111,
              "#46039f"
             ],
             [
              0.2222222222222222,
              "#7201a8"
             ],
             [
              0.3333333333333333,
              "#9c179e"
             ],
             [
              0.4444444444444444,
              "#bd3786"
             ],
             [
              0.5555555555555556,
              "#d8576b"
             ],
             [
              0.6666666666666666,
              "#ed7953"
             ],
             [
              0.7777777777777778,
              "#fb9f3a"
             ],
             [
              0.8888888888888888,
              "#fdca26"
             ],
             [
              1,
              "#f0f921"
             ]
            ],
            "type": "histogram2d"
           }
          ],
          "histogram2dcontour": [
           {
            "colorbar": {
             "outlinewidth": 0,
             "ticks": ""
            },
            "colorscale": [
             [
              0,
              "#0d0887"
             ],
             [
              0.1111111111111111,
              "#46039f"
             ],
             [
              0.2222222222222222,
              "#7201a8"
             ],
             [
              0.3333333333333333,
              "#9c179e"
             ],
             [
              0.4444444444444444,
              "#bd3786"
             ],
             [
              0.5555555555555556,
              "#d8576b"
             ],
             [
              0.6666666666666666,
              "#ed7953"
             ],
             [
              0.7777777777777778,
              "#fb9f3a"
             ],
             [
              0.8888888888888888,
              "#fdca26"
             ],
             [
              1,
              "#f0f921"
             ]
            ],
            "type": "histogram2dcontour"
           }
          ],
          "mesh3d": [
           {
            "colorbar": {
             "outlinewidth": 0,
             "ticks": ""
            },
            "type": "mesh3d"
           }
          ],
          "parcoords": [
           {
            "line": {
             "colorbar": {
              "outlinewidth": 0,
              "ticks": ""
             }
            },
            "type": "parcoords"
           }
          ],
          "pie": [
           {
            "automargin": true,
            "type": "pie"
           }
          ],
          "scatter": [
           {
            "fillpattern": {
             "fillmode": "overlay",
             "size": 10,
             "solidity": 0.2
            },
            "type": "scatter"
           }
          ],
          "scatter3d": [
           {
            "line": {
             "colorbar": {
              "outlinewidth": 0,
              "ticks": ""
             }
            },
            "marker": {
             "colorbar": {
              "outlinewidth": 0,
              "ticks": ""
             }
            },
            "type": "scatter3d"
           }
          ],
          "scattercarpet": [
           {
            "marker": {
             "colorbar": {
              "outlinewidth": 0,
              "ticks": ""
             }
            },
            "type": "scattercarpet"
           }
          ],
          "scattergeo": [
           {
            "marker": {
             "colorbar": {
              "outlinewidth": 0,
              "ticks": ""
             }
            },
            "type": "scattergeo"
           }
          ],
          "scattergl": [
           {
            "marker": {
             "colorbar": {
              "outlinewidth": 0,
              "ticks": ""
             }
            },
            "type": "scattergl"
           }
          ],
          "scattermap": [
           {
            "marker": {
             "colorbar": {
              "outlinewidth": 0,
              "ticks": ""
             }
            },
            "type": "scattermap"
           }
          ],
          "scattermapbox": [
           {
            "marker": {
             "colorbar": {
              "outlinewidth": 0,
              "ticks": ""
             }
            },
            "type": "scattermapbox"
           }
          ],
          "scatterpolar": [
           {
            "marker": {
             "colorbar": {
              "outlinewidth": 0,
              "ticks": ""
             }
            },
            "type": "scatterpolar"
           }
          ],
          "scatterpolargl": [
           {
            "marker": {
             "colorbar": {
              "outlinewidth": 0,
              "ticks": ""
             }
            },
            "type": "scatterpolargl"
           }
          ],
          "scatterternary": [
           {
            "marker": {
             "colorbar": {
              "outlinewidth": 0,
              "ticks": ""
             }
            },
            "type": "scatterternary"
           }
          ],
          "surface": [
           {
            "colorbar": {
             "outlinewidth": 0,
             "ticks": ""
            },
            "colorscale": [
             [
              0,
              "#0d0887"
             ],
             [
              0.1111111111111111,
              "#46039f"
             ],
             [
              0.2222222222222222,
              "#7201a8"
             ],
             [
              0.3333333333333333,
              "#9c179e"
             ],
             [
              0.4444444444444444,
              "#bd3786"
             ],
             [
              0.5555555555555556,
              "#d8576b"
             ],
             [
              0.6666666666666666,
              "#ed7953"
             ],
             [
              0.7777777777777778,
              "#fb9f3a"
             ],
             [
              0.8888888888888888,
              "#fdca26"
             ],
             [
              1,
              "#f0f921"
             ]
            ],
            "type": "surface"
           }
          ],
          "table": [
           {
            "cells": {
             "fill": {
              "color": "#EBF0F8"
             },
             "line": {
              "color": "white"
             }
            },
            "header": {
             "fill": {
              "color": "#C8D4E3"
             },
             "line": {
              "color": "white"
             }
            },
            "type": "table"
           }
          ]
         },
         "layout": {
          "annotationdefaults": {
           "arrowcolor": "#2a3f5f",
           "arrowhead": 0,
           "arrowwidth": 1
          },
          "autotypenumbers": "strict",
          "coloraxis": {
           "colorbar": {
            "outlinewidth": 0,
            "ticks": ""
           }
          },
          "colorscale": {
           "diverging": [
            [
             0,
             "#8e0152"
            ],
            [
             0.1,
             "#c51b7d"
            ],
            [
             0.2,
             "#de77ae"
            ],
            [
             0.3,
             "#f1b6da"
            ],
            [
             0.4,
             "#fde0ef"
            ],
            [
             0.5,
             "#f7f7f7"
            ],
            [
             0.6,
             "#e6f5d0"
            ],
            [
             0.7,
             "#b8e186"
            ],
            [
             0.8,
             "#7fbc41"
            ],
            [
             0.9,
             "#4d9221"
            ],
            [
             1,
             "#276419"
            ]
           ],
           "sequential": [
            [
             0,
             "#0d0887"
            ],
            [
             0.1111111111111111,
             "#46039f"
            ],
            [
             0.2222222222222222,
             "#7201a8"
            ],
            [
             0.3333333333333333,
             "#9c179e"
            ],
            [
             0.4444444444444444,
             "#bd3786"
            ],
            [
             0.5555555555555556,
             "#d8576b"
            ],
            [
             0.6666666666666666,
             "#ed7953"
            ],
            [
             0.7777777777777778,
             "#fb9f3a"
            ],
            [
             0.8888888888888888,
             "#fdca26"
            ],
            [
             1,
             "#f0f921"
            ]
           ],
           "sequentialminus": [
            [
             0,
             "#0d0887"
            ],
            [
             0.1111111111111111,
             "#46039f"
            ],
            [
             0.2222222222222222,
             "#7201a8"
            ],
            [
             0.3333333333333333,
             "#9c179e"
            ],
            [
             0.4444444444444444,
             "#bd3786"
            ],
            [
             0.5555555555555556,
             "#d8576b"
            ],
            [
             0.6666666666666666,
             "#ed7953"
            ],
            [
             0.7777777777777778,
             "#fb9f3a"
            ],
            [
             0.8888888888888888,
             "#fdca26"
            ],
            [
             1,
             "#f0f921"
            ]
           ]
          },
          "colorway": [
           "#636efa",
           "#EF553B",
           "#00cc96",
           "#ab63fa",
           "#FFA15A",
           "#19d3f3",
           "#FF6692",
           "#B6E880",
           "#FF97FF",
           "#FECB52"
          ],
          "font": {
           "color": "#2a3f5f"
          },
          "geo": {
           "bgcolor": "white",
           "lakecolor": "white",
           "landcolor": "#E5ECF6",
           "showlakes": true,
           "showland": true,
           "subunitcolor": "white"
          },
          "hoverlabel": {
           "align": "left"
          },
          "hovermode": "closest",
          "mapbox": {
           "style": "light"
          },
          "paper_bgcolor": "white",
          "plot_bgcolor": "#E5ECF6",
          "polar": {
           "angularaxis": {
            "gridcolor": "white",
            "linecolor": "white",
            "ticks": ""
           },
           "bgcolor": "#E5ECF6",
           "radialaxis": {
            "gridcolor": "white",
            "linecolor": "white",
            "ticks": ""
           }
          },
          "scene": {
           "xaxis": {
            "backgroundcolor": "#E5ECF6",
            "gridcolor": "white",
            "gridwidth": 2,
            "linecolor": "white",
            "showbackground": true,
            "ticks": "",
            "zerolinecolor": "white"
           },
           "yaxis": {
            "backgroundcolor": "#E5ECF6",
            "gridcolor": "white",
            "gridwidth": 2,
            "linecolor": "white",
            "showbackground": true,
            "ticks": "",
            "zerolinecolor": "white"
           },
           "zaxis": {
            "backgroundcolor": "#E5ECF6",
            "gridcolor": "white",
            "gridwidth": 2,
            "linecolor": "white",
            "showbackground": true,
            "ticks": "",
            "zerolinecolor": "white"
           }
          },
          "shapedefaults": {
           "line": {
            "color": "#2a3f5f"
           }
          },
          "ternary": {
           "aaxis": {
            "gridcolor": "white",
            "linecolor": "white",
            "ticks": ""
           },
           "baxis": {
            "gridcolor": "white",
            "linecolor": "white",
            "ticks": ""
           },
           "bgcolor": "#E5ECF6",
           "caxis": {
            "gridcolor": "white",
            "linecolor": "white",
            "ticks": ""
           }
          },
          "title": {
           "x": 0.05
          },
          "xaxis": {
           "automargin": true,
           "gridcolor": "white",
           "linecolor": "white",
           "ticks": "",
           "title": {
            "standoff": 15
           },
           "zerolinecolor": "white",
           "zerolinewidth": 2
          },
          "yaxis": {
           "automargin": true,
           "gridcolor": "white",
           "linecolor": "white",
           "ticks": "",
           "title": {
            "standoff": 15
           },
           "zerolinecolor": "white",
           "zerolinewidth": 2
          }
         }
        },
        "xaxis": {
         "anchor": "y",
         "domain": [
          0,
          1
         ],
         "title": {
          "text": "MainHabs"
         }
        },
        "yaxis": {
         "anchor": "x",
         "domain": [
          0,
          1
         ],
         "title": {
          "text": "PercentArea"
         }
        }
       }
      }
     },
     "metadata": {},
     "output_type": "display_data"
    }
   ],
   "source": [
    "fig = px.bar(df_colerne, x = \"MainHabs\", y = \"PercentArea\")\n",
    "fig.show()"
   ]
  },
  {
   "cell_type": "code",
   "execution_count": 9,
   "id": "da7e1f5e",
   "metadata": {},
   "outputs": [
    {
     "data": {
      "text/plain": [
       "Index(['Join_ID', 'MainHabs', 'sum_AreaHa_x', 'sum_Area_SQUAREKILOMETERS_x',\n",
       "       'Polygon_Count_x', 'PercentArea', 'NAME', 'AREA_CODE', 'DESCRIPTIO',\n",
       "       'FILE_NAME', 'NUMBER', 'NUMBER0', 'POLYGON_ID', 'UNIT_ID', 'CODE',\n",
       "       'HECTARES', 'AREA', 'TYPE_CODE', 'DESCRIPT0', 'TYPE_COD0', 'DESCRIPT1',\n",
       "       'TO_Check', 'Shape_Length', 'Shape_Area', 'sum_AreaHa_y',\n",
       "       'sum_Area_SQUAREKILOMETERS_y', 'Polygon_Count_y'],\n",
       "      dtype='object')"
      ]
     },
     "execution_count": 9,
     "metadata": {},
     "output_type": "execute_result"
    }
   ],
   "source": [
    "df_all.columns"
   ]
  },
  {
   "cell_type": "code",
   "execution_count": 14,
   "id": "39d270b2",
   "metadata": {},
   "outputs": [],
   "source": [
    "df_all_reduced = df_all[[\"MainHabs\", 'sum_AreaHa_x','PercentArea', 'NAME']]"
   ]
  },
  {
   "cell_type": "code",
   "execution_count": 26,
   "id": "e3cd6434",
   "metadata": {},
   "outputs": [
    {
     "data": {
      "text/plain": [
       "Index(['Join_ID', 'MainHabs', 'sum_AreaHa_x', 'sum_Area_SQUAREKILOMETERS_x',\n",
       "       'Polygon_Count_x', 'PercentArea', 'NAME', 'AREA_CODE', 'DESCRIPTIO',\n",
       "       'FILE_NAME', 'NUMBER', 'NUMBER0', 'POLYGON_ID', 'UNIT_ID', 'CODE',\n",
       "       'HECTARES', 'AREA', 'TYPE_CODE', 'DESCRIPT0', 'TYPE_COD0', 'DESCRIPT1',\n",
       "       'TO_Check', 'Shape_Length', 'Shape_Area', 'sum_AreaHa_y',\n",
       "       'sum_Area_SQUAREKILOMETERS_y', 'Polygon_Count_y'],\n",
       "      dtype='object')"
      ]
     },
     "execution_count": 26,
     "metadata": {},
     "output_type": "execute_result"
    }
   ],
   "source": [
    "df_all.columns"
   ]
  },
  {
   "cell_type": "code",
   "execution_count": 62,
   "id": "2ad1a413",
   "metadata": {},
   "outputs": [],
   "source": [
    "df_wide = df_all.pivot(columns = \"MainHabs\",index = [\"NAME\",'sum_AreaHa_y'],values = [ 'sum_AreaHa_x'])"
   ]
  },
  {
   "cell_type": "code",
   "execution_count": 35,
   "id": "77b0a80c",
   "metadata": {},
   "outputs": [],
   "source": [
    "df_wide = df_wide.reset_index()"
   ]
  },
  {
   "cell_type": "code",
   "execution_count": 64,
   "id": "32861b39",
   "metadata": {},
   "outputs": [],
   "source": [
    "df_1 = df_wide.droplevel(1)"
   ]
  },
  {
   "cell_type": "code",
   "execution_count": 65,
   "id": "87a74ac4",
   "metadata": {},
   "outputs": [
    {
     "data": {
      "text/html": [
       "<div>\n",
       "<style scoped>\n",
       "    .dataframe tbody tr th:only-of-type {\n",
       "        vertical-align: middle;\n",
       "    }\n",
       "\n",
       "    .dataframe tbody tr th {\n",
       "        vertical-align: top;\n",
       "    }\n",
       "\n",
       "    .dataframe thead tr th {\n",
       "        text-align: left;\n",
       "    }\n",
       "</style>\n",
       "<table border=\"1\" class=\"dataframe\">\n",
       "  <thead>\n",
       "    <tr>\n",
       "      <th></th>\n",
       "      <th>NAME</th>\n",
       "      <th colspan=\"14\" halign=\"left\">sum_AreaHa_x</th>\n",
       "    </tr>\n",
       "    <tr>\n",
       "      <th>MainHabs</th>\n",
       "      <th></th>\n",
       "      <th>Coastal and floodplain grazing marsh</th>\n",
       "      <th>Deciduous woodland</th>\n",
       "      <th>Good quality semi improved grassland</th>\n",
       "      <th>Good quality semi improved grassland,Traditional orchard</th>\n",
       "      <th>Lowland calcareous grassland</th>\n",
       "      <th>Lowland dry acid grassland</th>\n",
       "      <th>Lowland dry acid grassland,Lowland heathland</th>\n",
       "      <th>Lowland fens</th>\n",
       "      <th>Lowland heathland</th>\n",
       "      <th>Lowland meadows</th>\n",
       "      <th>No main habitat but additional habitats present</th>\n",
       "      <th>Ponds</th>\n",
       "      <th>Purple moor grass and rush pastures</th>\n",
       "      <th>Traditional orchard</th>\n",
       "    </tr>\n",
       "  </thead>\n",
       "  <tbody>\n",
       "    <tr>\n",
       "      <th>0</th>\n",
       "      <td>Aldbourne</td>\n",
       "      <td>NaN</td>\n",
       "      <td>112.806569</td>\n",
       "      <td>NaN</td>\n",
       "      <td>NaN</td>\n",
       "      <td>49.080356</td>\n",
       "      <td>NaN</td>\n",
       "      <td>NaN</td>\n",
       "      <td>NaN</td>\n",
       "      <td>NaN</td>\n",
       "      <td>4.880000</td>\n",
       "      <td>61.156071</td>\n",
       "      <td>NaN</td>\n",
       "      <td>NaN</td>\n",
       "      <td>0.18</td>\n",
       "    </tr>\n",
       "    <tr>\n",
       "      <th>1</th>\n",
       "      <td>Alderbury</td>\n",
       "      <td>80.282201</td>\n",
       "      <td>113.684266</td>\n",
       "      <td>6.48</td>\n",
       "      <td>NaN</td>\n",
       "      <td>8.575225</td>\n",
       "      <td>NaN</td>\n",
       "      <td>NaN</td>\n",
       "      <td>NaN</td>\n",
       "      <td>NaN</td>\n",
       "      <td>0.000620</td>\n",
       "      <td>11.243232</td>\n",
       "      <td>NaN</td>\n",
       "      <td>NaN</td>\n",
       "      <td>NaN</td>\n",
       "    </tr>\n",
       "    <tr>\n",
       "      <th>2</th>\n",
       "      <td>All Cannings</td>\n",
       "      <td>NaN</td>\n",
       "      <td>3.288095</td>\n",
       "      <td>54.56</td>\n",
       "      <td>NaN</td>\n",
       "      <td>95.254775</td>\n",
       "      <td>NaN</td>\n",
       "      <td>NaN</td>\n",
       "      <td>NaN</td>\n",
       "      <td>NaN</td>\n",
       "      <td>16.867401</td>\n",
       "      <td>32.458788</td>\n",
       "      <td>NaN</td>\n",
       "      <td>NaN</td>\n",
       "      <td>0.66</td>\n",
       "    </tr>\n",
       "    <tr>\n",
       "      <th>3</th>\n",
       "      <td>Allington</td>\n",
       "      <td>NaN</td>\n",
       "      <td>44.909382</td>\n",
       "      <td>NaN</td>\n",
       "      <td>NaN</td>\n",
       "      <td>262.895237</td>\n",
       "      <td>NaN</td>\n",
       "      <td>NaN</td>\n",
       "      <td>NaN</td>\n",
       "      <td>NaN</td>\n",
       "      <td>NaN</td>\n",
       "      <td>13.752699</td>\n",
       "      <td>NaN</td>\n",
       "      <td>NaN</td>\n",
       "      <td>0.55</td>\n",
       "    </tr>\n",
       "    <tr>\n",
       "      <th>4</th>\n",
       "      <td>Alton</td>\n",
       "      <td>NaN</td>\n",
       "      <td>22.162646</td>\n",
       "      <td>NaN</td>\n",
       "      <td>NaN</td>\n",
       "      <td>101.926944</td>\n",
       "      <td>NaN</td>\n",
       "      <td>NaN</td>\n",
       "      <td>NaN</td>\n",
       "      <td>NaN</td>\n",
       "      <td>6.281162</td>\n",
       "      <td>0.026145</td>\n",
       "      <td>NaN</td>\n",
       "      <td>NaN</td>\n",
       "      <td>0.04</td>\n",
       "    </tr>\n",
       "    <tr>\n",
       "      <th>...</th>\n",
       "      <td>...</td>\n",
       "      <td>...</td>\n",
       "      <td>...</td>\n",
       "      <td>...</td>\n",
       "      <td>...</td>\n",
       "      <td>...</td>\n",
       "      <td>...</td>\n",
       "      <td>...</td>\n",
       "      <td>...</td>\n",
       "      <td>...</td>\n",
       "      <td>...</td>\n",
       "      <td>...</td>\n",
       "      <td>...</td>\n",
       "      <td>...</td>\n",
       "      <td>...</td>\n",
       "    </tr>\n",
       "    <tr>\n",
       "      <th>273</th>\n",
       "      <td>Worton</td>\n",
       "      <td>NaN</td>\n",
       "      <td>2.306168</td>\n",
       "      <td>NaN</td>\n",
       "      <td>NaN</td>\n",
       "      <td>NaN</td>\n",
       "      <td>NaN</td>\n",
       "      <td>NaN</td>\n",
       "      <td>NaN</td>\n",
       "      <td>NaN</td>\n",
       "      <td>NaN</td>\n",
       "      <td>0.460000</td>\n",
       "      <td>NaN</td>\n",
       "      <td>NaN</td>\n",
       "      <td>NaN</td>\n",
       "    </tr>\n",
       "    <tr>\n",
       "      <th>274</th>\n",
       "      <td>Wroughton</td>\n",
       "      <td>NaN</td>\n",
       "      <td>71.912270</td>\n",
       "      <td>5.98</td>\n",
       "      <td>NaN</td>\n",
       "      <td>38.149100</td>\n",
       "      <td>NaN</td>\n",
       "      <td>NaN</td>\n",
       "      <td>NaN</td>\n",
       "      <td>NaN</td>\n",
       "      <td>10.020000</td>\n",
       "      <td>6.194275</td>\n",
       "      <td>0.04</td>\n",
       "      <td>NaN</td>\n",
       "      <td>0.28</td>\n",
       "    </tr>\n",
       "    <tr>\n",
       "      <th>275</th>\n",
       "      <td>Wylye</td>\n",
       "      <td>37.227931</td>\n",
       "      <td>48.608966</td>\n",
       "      <td>17.02</td>\n",
       "      <td>NaN</td>\n",
       "      <td>109.867612</td>\n",
       "      <td>NaN</td>\n",
       "      <td>NaN</td>\n",
       "      <td>NaN</td>\n",
       "      <td>NaN</td>\n",
       "      <td>4.190000</td>\n",
       "      <td>4.840000</td>\n",
       "      <td>NaN</td>\n",
       "      <td>NaN</td>\n",
       "      <td>0.51</td>\n",
       "    </tr>\n",
       "    <tr>\n",
       "      <th>276</th>\n",
       "      <td>Yatton Keynell</td>\n",
       "      <td>NaN</td>\n",
       "      <td>37.037649</td>\n",
       "      <td>NaN</td>\n",
       "      <td>NaN</td>\n",
       "      <td>23.660000</td>\n",
       "      <td>NaN</td>\n",
       "      <td>NaN</td>\n",
       "      <td>NaN</td>\n",
       "      <td>NaN</td>\n",
       "      <td>NaN</td>\n",
       "      <td>6.557539</td>\n",
       "      <td>NaN</td>\n",
       "      <td>NaN</td>\n",
       "      <td>0.12</td>\n",
       "    </tr>\n",
       "    <tr>\n",
       "      <th>277</th>\n",
       "      <td>Zeals</td>\n",
       "      <td>NaN</td>\n",
       "      <td>27.352881</td>\n",
       "      <td>5.10</td>\n",
       "      <td>NaN</td>\n",
       "      <td>5.390000</td>\n",
       "      <td>NaN</td>\n",
       "      <td>NaN</td>\n",
       "      <td>NaN</td>\n",
       "      <td>NaN</td>\n",
       "      <td>NaN</td>\n",
       "      <td>1.819999</td>\n",
       "      <td>0.06</td>\n",
       "      <td>NaN</td>\n",
       "      <td>0.09</td>\n",
       "    </tr>\n",
       "  </tbody>\n",
       "</table>\n",
       "<p>278 rows × 15 columns</p>\n",
       "</div>"
      ],
      "text/plain": [
       "                    NAME                         sum_AreaHa_x  \\\n",
       "MainHabs                 Coastal and floodplain grazing marsh   \n",
       "0              Aldbourne                                  NaN   \n",
       "1              Alderbury                            80.282201   \n",
       "2           All Cannings                                  NaN   \n",
       "3              Allington                                  NaN   \n",
       "4                  Alton                                  NaN   \n",
       "..                   ...                                  ...   \n",
       "273               Worton                                  NaN   \n",
       "274            Wroughton                                  NaN   \n",
       "275                Wylye                            37.227931   \n",
       "276       Yatton Keynell                                  NaN   \n",
       "277                Zeals                                  NaN   \n",
       "\n",
       "                                                                  \\\n",
       "MainHabs Deciduous woodland Good quality semi improved grassland   \n",
       "0                112.806569                                  NaN   \n",
       "1                113.684266                                 6.48   \n",
       "2                  3.288095                                54.56   \n",
       "3                 44.909382                                  NaN   \n",
       "4                 22.162646                                  NaN   \n",
       "..                      ...                                  ...   \n",
       "273                2.306168                                  NaN   \n",
       "274               71.912270                                 5.98   \n",
       "275               48.608966                                17.02   \n",
       "276               37.037649                                  NaN   \n",
       "277               27.352881                                 5.10   \n",
       "\n",
       "                                                                   \\\n",
       "MainHabs Good quality semi improved grassland,Traditional orchard   \n",
       "0                                                       NaN         \n",
       "1                                                       NaN         \n",
       "2                                                       NaN         \n",
       "3                                                       NaN         \n",
       "4                                                       NaN         \n",
       "..                                                      ...         \n",
       "273                                                     NaN         \n",
       "274                                                     NaN         \n",
       "275                                                     NaN         \n",
       "276                                                     NaN         \n",
       "277                                                     NaN         \n",
       "\n",
       "                                                                  \\\n",
       "MainHabs Lowland calcareous grassland Lowland dry acid grassland   \n",
       "0                           49.080356                        NaN   \n",
       "1                            8.575225                        NaN   \n",
       "2                           95.254775                        NaN   \n",
       "3                          262.895237                        NaN   \n",
       "4                          101.926944                        NaN   \n",
       "..                                ...                        ...   \n",
       "273                               NaN                        NaN   \n",
       "274                         38.149100                        NaN   \n",
       "275                        109.867612                        NaN   \n",
       "276                         23.660000                        NaN   \n",
       "277                          5.390000                        NaN   \n",
       "\n",
       "                                                                    \\\n",
       "MainHabs Lowland dry acid grassland,Lowland heathland Lowland fens   \n",
       "0                                                 NaN          NaN   \n",
       "1                                                 NaN          NaN   \n",
       "2                                                 NaN          NaN   \n",
       "3                                                 NaN          NaN   \n",
       "4                                                 NaN          NaN   \n",
       "..                                                ...          ...   \n",
       "273                                               NaN          NaN   \n",
       "274                                               NaN          NaN   \n",
       "275                                               NaN          NaN   \n",
       "276                                               NaN          NaN   \n",
       "277                                               NaN          NaN   \n",
       "\n",
       "                                            \\\n",
       "MainHabs Lowland heathland Lowland meadows   \n",
       "0                      NaN        4.880000   \n",
       "1                      NaN        0.000620   \n",
       "2                      NaN       16.867401   \n",
       "3                      NaN             NaN   \n",
       "4                      NaN        6.281162   \n",
       "..                     ...             ...   \n",
       "273                    NaN             NaN   \n",
       "274                    NaN       10.020000   \n",
       "275                    NaN        4.190000   \n",
       "276                    NaN             NaN   \n",
       "277                    NaN             NaN   \n",
       "\n",
       "                                                                \\\n",
       "MainHabs No main habitat but additional habitats present Ponds   \n",
       "0                                              61.156071   NaN   \n",
       "1                                              11.243232   NaN   \n",
       "2                                              32.458788   NaN   \n",
       "3                                              13.752699   NaN   \n",
       "4                                               0.026145   NaN   \n",
       "..                                                   ...   ...   \n",
       "273                                             0.460000   NaN   \n",
       "274                                             6.194275  0.04   \n",
       "275                                             4.840000   NaN   \n",
       "276                                             6.557539   NaN   \n",
       "277                                             1.819999  0.06   \n",
       "\n",
       "                                                                  \n",
       "MainHabs Purple moor grass and rush pastures Traditional orchard  \n",
       "0                                        NaN                0.18  \n",
       "1                                        NaN                 NaN  \n",
       "2                                        NaN                0.66  \n",
       "3                                        NaN                0.55  \n",
       "4                                        NaN                0.04  \n",
       "..                                       ...                 ...  \n",
       "273                                      NaN                 NaN  \n",
       "274                                      NaN                0.28  \n",
       "275                                      NaN                0.51  \n",
       "276                                      NaN                0.12  \n",
       "277                                      NaN                0.09  \n",
       "\n",
       "[278 rows x 15 columns]"
      ]
     },
     "execution_count": 65,
     "metadata": {},
     "output_type": "execute_result"
    }
   ],
   "source": [
    "df_1.reset_index()"
   ]
  }
 ],
 "metadata": {
  "kernelspec": {
   "display_name": "map-outputs-venv",
   "language": "python",
   "name": "map-outputs-venv"
  },
  "language_info": {
   "codemirror_mode": {
    "name": "ipython",
    "version": 3
   },
   "file_extension": ".py",
   "mimetype": "text/x-python",
   "name": "python",
   "nbconvert_exporter": "python",
   "pygments_lexer": "ipython3",
   "version": "3.13.3"
  }
 },
 "nbformat": 4,
 "nbformat_minor": 5
}
